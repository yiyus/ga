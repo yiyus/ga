{
 "cells": [
  {
   "cell_type": "code",
   "execution_count": null,
   "id": "b849a832",
   "metadata": {},
   "outputs": [],
   "source": [
    ")clear"
   ]
  },
  {
   "cell_type": "code",
   "execution_count": null,
   "id": "aee86932",
   "metadata": {},
   "outputs": [],
   "source": [
    "]dinput\n",
    ":Namespace ga ⍝                                 Geometric Algebra\n",
    "    ⎕IO ← 0                                                               ⍝ important\n",
    "    ⎕CT ← 1e¯10                                                           ⍝ avoid rounding issues\n",
    "    Assert ← {⍺←'assertion failure' ⋄ 0∊⍵:⍺ ⎕signal 8 ⋄ shy←1}            ⍝ Assert by Roger Hui\n",
    "\n",
    "    ⍝ vectors\n",
    "     M ← 0.5*⍨+.×⍨   ⋄   U ← ÷∘M⍨            ⋄   I ← ×∘(÷+.×⍨)⍨           ⍝ magnitude, unitary, inverse\n",
    "    AV ← ⊂⍤1↑[¯0.5]  ⋄  VA ← ⊂⍤¯1↑[¯0.5]     ⋄  BV ← {1↑⍨¨-1+⍳⍵}          ⍝ array from vector, vector from array, base\n",
    "\n",
    "    ⍝ vector extension\n",
    "     C ← {⍺←⎕CT ⋄ ⎕CT←⍺ ⋄ 1=≢∪⍵:⊃⍵ ⋄ ⍺∧.>|∊⍵:0 ⋄ ⍵}¨                      ⍝ collapse equal values\n",
    "     S ← {⍬≡⍵:0 ⋄ (1<≢⍵)∨(0<≡⍵)∧1<≢⊃⍵:⍵ ⋄ ⊃⍵}  ⋄ US ← ×∘(×/⍤=⍨)⍨          ⍝ scalar if possible and unscalar\n",
    "     Z ← {⍺←⎕CT ⋄ ⎕CT←⍺ ⋄ S ⍵↓⍨-⊥⍨(1∧.=1+∊)¨⍵}  ⋄  E ← ≡⍥(Z∘C)            ⍝ remove trailing zeros and equivalent\n",
    "     X ← {⍺↑⍵,0⍴⍨0⌈⍺-≢⍵}  ⋄  _X ← {⍺←⊢ ⋄ ⍺(⍺⍺⍥((⍺⌈⍥≢⍵)∘X))⍵}              ⍝ extend and apply extending arguments\n",
    "    _V ← {⍺←⊢ ⋄ Z∘C ⍺(⍺⍺ _X)⍵}  ⋄  _Z ← {0≡⍵:0 ⋄ 0≡⍺:0 ⋄ ⍺(⍺⍺)⍵}          ⍝ apply vector extension or zero function\n",
    "\n",
    "    ⍝ multivectors\n",
    "     V ← {⍺←2*⍳≢⍵ ⋄ a w←⍺⍵↑⍨¨⊂⍺⌊⍥⍴⍵ ⋄ v←0⍴⍨1+⌈/,a ⋄ v[a]+←w ⋄ v}          ⍝ multivector\n",
    "    BB ← ↓∘⍉2⊥⍣¯1⍳  ⋄  G ← {⌈/+/¨(0≢¨C ⍵)/BB≢⍵}  ⋄  D ← ⌈2⍟⌈⍥≢            ⍝ binary unit blades, grade and dimensions\n",
    "    GB ← {b←Z({⊂⊂⍵}⌸+/¨BB≢⍵)⌷¨⊂,⍵ ⋄ ⍺←⍳≢b ⋄ (⊂⍺)⌷(1+⌈/,⍺)X b}             ⍝ group blades\n",
    "\n",
    "    ⍝ product tables\n",
    "     PB ← 2⊥≠  ⋄  SB ← ¯1*(+\\¯1↓⊢)+.×1↓⊣  ⋄  MS ← ⊃1 ¯1 0,.⍴⍨⊢↑⍨3⌈≢       ⍝ position, sign and metric\n",
    "    _TS ← {(∘.PB,⍥⊂∘.(SB×(⌽⍺⍺ ⍵)×.*∧))⍨BB 2*+/⍵}  ⋄  TS ← MS _TS          ⍝ tables from signature\n",
    "     TX ← TS 0 0,+/  ⋄  TI ← 0 0⍉∘⊃⌽∘TS  ⋄  TR ← SB⍨¨BB∘≢  ⋄  BT ← ⊃V¨/   ⍝ exterior, inner, reversion and blades\n",
    "\n",
    "    ⍝ geometric operators\n",
    "    _∆_  ← {p s←⍺(⍵⍵⍨⍨)⍵ ⋄ (r↑p)V(r↑s)×(r←(≢¨⍺⍵)⌊⍴p)↑⍺∘.(⍺⍺_Z)⍥,⍵}        ⍝ geometric product\n",
    "    _∆I_ ← {0 V _X ⍺(⍵⍵×_X⍺⍺_Z¨_X)⍵}                                      ⍝ inner product\n",
    "    _∆   ← _∆_(TS⍤D)  ⋄  _∆X ← _∆_(TX⍤D)  ⋄  _∆I ← _∆I_(TI⍤D)             ⍝ geometric, exterior and inner product\n",
    "    _⍙_  ← {⍵⍵ LC ⍺ ⍺⍺⍥((⍺(⍵⍵⍨⍨)⍵)∘RC)⍵}  ⋄  _⍙ ← _⍙_ D                   ⍝ antigeometric product\n",
    "    _I   ← {⍺←1 ⋄ ⍺ ⍺⍺ ⊂∘⍉⍤¯1⍉(↑∘1∘≢⌹⍤2(↑[¯0.5]⍣2⊂⍺⍺¨BV∘≢))US⍵X⍨2*D⍵}     ⍝ inverse\n",
    "    _C   ← {⍺←D⍵ ⋄ (⌽×_V+/⍤⍺⍺¨∘⌽⍨∘BV∘≢)⍵ X⍨2*⍺}                           ⍝ complement\n",
    "\n",
    "    ⍝ geometric functions\n",
    "    ∆  ← ×_∆   ⋄  ∆X ← ×_∆       ⋄  ∆I ← ×_∆I                             ⍝ geometric, exterior and inner product\n",
    "    ⍙  ← ∆ _⍙  ⋄  ⍙X ← ∆X _⍙     ⋄  ⍙I ← ∆I _⍙                            ⍝ antigeometric, exterior and inner product\n",
    "    LC ← ∆ _C  ⋄  RC ← ∆⍨ _C     ⋄  DC ← LC⍣2                             ⍝ left, right and double complement\n",
    "    ∆∆ ← ∆ _I  ⋄  ⍙⍙ ← ⍙ _I      ⋄  R  ← ×∘TR⍨                            ⍝ inverse, antiinverse and reverse\n",
    "\n",
    "    GA ← {                                                                ⍝ GEOMETRIC ALGEBRA\n",
    "        g ← ⎕NS⍬  ⋄  g.s g.b ← ⍵ (S BV 2*d←+/⍵)                           ⍝   namespace, signature, base\n",
    "        g._Z←_Z ⋄ g._X←_X ⋄ g.Z←Z ⋄ g.S←S ⋄ g.US←US ⋄ g.C←C\n",
    "        g.V←V ⋄ g._V←_V ⋄ g.D←D ⋄ g.BV←BV ⋄ g._⍙←_⍙_ d\n",
    "        g._∆ ← _∆_(TS⍵)  ⋄  g._∆X ← _∆_(TX⍵)   ⋄  g._∆I ← _∆I_(TI⍵)       ⍝   geometric, exterior and inner operator\n",
    "        g.∆  ← ×g._∆     ⋄  g.∆X  ← ×g._∆X     ⋄  g.∆I  ← ×g._∆I          ⍝   products\n",
    "        g.∆V ← g.∆⍥V     ⋄  g.∆XV ← g.∆X⍥V     ⋄  g.∆IV ← g.∆I⍥V          ⍝   products of vectors\n",
    "        g.∆v ← g.∆∘V     ⋄  g.∆Xv ← g.∆X∘V     ⋄  g.∆Iv ← g.∆I∘V          ⍝   products by vector\n",
    "        g.⍙  ← g.∆ g._⍙  ⋄  g.⍙X  ← g.∆X g._⍙  ⋄  g.⍙I  ← g.∆I g._⍙       ⍝   antiproducts\n",
    "        g.∆∆ ← g.∆ _I    ⋄  g.∆∆V ← g.∆∆⍥V     ⋄  g.∆∆v ← g.∆∆∘V          ⍝   inverse and division\n",
    "        g.LC ← g.∆ _C    ⋄  g.RC  ← g.∆⍨_C     ⋄  g.DC  ← g.LC⍣2          ⍝   complements: left, right, double\n",
    "        g.R  ← ×∘(TR⍵)⍨  ⋄  g.X   ← X{⍺←≢b ⋄ ⍺(⍺⍺)⍵}  ⋄  g                ⍝   reverse and extend\n",
    "    }\n",
    "\n",
    "    g0 g1 g2 g3 c q pga ← GA¨(⍳4),(0 1) (0 2) (3 0 1)                     ⍝ 0-3D, complex, quaternions, pga\n",
    "    \n",
    "    VS ← {                                                                ⍝ Vector Space\n",
    "        _ ← Assert (⊂⍬) ∧.≡ ⍴¨ a b ← ⍺                                    ⍝   a and b are scalars\n",
    "        _ ← Assert (⊂,1) ∧.≥ ⍴∘⍴¨ u v w ← ⍵                               ⍝   u, v and w are vectors (rank 1)\n",
    "        _ ← Assert v               E v + 0                                ⍝   neutral element for addition\n",
    "        _ ← Assert v               E 1 × v                                ⍝   neutral element for multiplication\n",
    "        _ ← Assert 0               E v +_V -v                             ⍝   inverse element for addition\n",
    "        _ ← Assert (v -_V w)       E v +_V -w                             ⍝   substraction function\n",
    "        _ ← Assert (v +_V w)       E w +_V v                              ⍝   commutative addition\n",
    "        _ ← Assert (a × v)         E v × a                                ⍝   commutative product with scalars\n",
    "        _ ← Assert (u +_V v +_V w) E w +_V u +_V v                        ⍝   associative addition\n",
    "        _ ← Assert (v × a × b)     E (v × a) × b                          ⍝   associative product with scalars\n",
    "        _ ← Assert (a × v +_V w)   E v +_V⍥(a∘×) w                        ⍝   distributive over addition of vectors\n",
    "            Assert (v × a + b)     E a +_V⍥(v∘×) b                        ⍝   distributive over addition of scalars\n",
    "    }\n",
    "    _GA_ ← {                                                              ⍝ Geometric Algebra\n",
    "        _ ← Assert (a b ← ⍺)       VS (u v w ← ⍵)                         ⍝   vector space: a b scalars, u v w vectors\n",
    "        _ ← Assert (a (∆←⍺⍺) v)    E a × v                                ⍝   left-product by scalar is scalar product\n",
    "        _ ← Assert (v ∆ a)         E v × a                                ⍝   right-product by scalar is scalar product\n",
    "        _ ← Assert (u ∆ v ∆ w)     E w ∆⍨ u ∆ v                           ⍝   associative product\n",
    "        _ ← Assert (u ∆ v +_V w)   E (u ∆ v) +_V u ∆ w                    ⍝   distributive by left\n",
    "        _ ← Assert (w ∆⍨ u +_V v)  E (u ∆ w) +_V v ∆ w                    ⍝   distributive by right\n",
    "            Assert (MS ⍵⍵)         E¨ ∆⍨¨ V¨BV+/⍵⍵                        ⍝   squared base vectors given by metric\n",
    "    }\n",
    ":EndNamespace                                                             ⍝ jgl@dyalog.com 2022"
   ]
  },
  {
   "cell_type": "code",
   "execution_count": null,
   "id": "47fd7136",
   "metadata": {},
   "outputs": [],
   "source": [
    "]LINK.Export # 'ga' -overwrite  ⍝ save ga/ga.apln file\n",
    "]LINK.Import # 'ga' -overwrite  ⍝ load ga/ga.apln file"
   ]
  },
  {
   "cell_type": "code",
   "execution_count": null,
   "id": "edf40def",
   "metadata": {
    "scrolled": false
   },
   "outputs": [],
   "source": [
    "⍝ eg\n",
    "RD ← {⍪5×?⍵⍴0}¨⍴  ⋄  TD ← {⎕PP←3 ⋄ ⍕¨⍺,[⎕IO-0.5]ga.(Z∘C)¨⍵}   ⍝ random data and table display\n",
    "'abuvw' TD (a b ← ⊂¨ 2 RD 7),(u v w ← ↓3 3 RD 7)              ⍝ random scalars and 3D vectors\n",
    "g3←ga.g3 ⋄ g2←ga.g2 ⋄ q←ga.q\n",
    "ga.Assert a b (g3.∆ ga._GA_ g3.s∘(ga.V¨), g2.∆ ga._GA_ g2.s, q.∆ ga._GA_ q.s) u v w\n",
    "('∆' '∆X' '∆I' '∆∆⍨',⍨¨⊂'g3.') TD (u g3.∆V v) (u g3.∆XV v) (u g3.∆IV v) (g3.∆∆V⍨v)\n",
    "('∆' '∆X' '∆I' '∆∆⍨',⍨¨⊂ 'q.') TD (u  q.∆  v) (u  q.∆X  v) (u  q.∆I  v) ( q.∆∆ ⍨v)\n",
    "u[2] ← 0 ⋄ v[2] ← 1 ⋄ ('uv','' 'X' 'I',⍨¨⊂'∘.×_∆') TD u v (u ga.(∘.×_∆) v) (u ga.(∘.×_∆X) v) (u ga.(∘.×_∆I) v)"
   ]
  }
 ],
 "metadata": {
  "kernelspec": {
   "display_name": "Dyalog APL",
   "language": "apl",
   "name": "dyalog-kernel"
  },
  "language_info": {
   "file_extension": ".apl",
   "mimetype": "text/apl",
   "name": "APL"
  }
 },
 "nbformat": 4,
 "nbformat_minor": 5
}
