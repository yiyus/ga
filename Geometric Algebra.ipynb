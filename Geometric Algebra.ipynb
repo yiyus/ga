{
 "cells": [
  {
   "cell_type": "markdown",
   "id": "5371fd0e",
   "metadata": {},
   "source": [
    "# Introduction\n",
    "\n",
    "This notebook presents an informal introduction to geometric algebra in Dyalog APL. It covers from the basic properties of vector spaces to the usage of projective geometric algebra for the solution of geometric problems. \n",
    "\n",
    "Distinctions are not made between theoretical algebra concepts and its implementation in APL.\n",
    "\n",
    "#### Disclaimer\n",
    "\n",
    "Some knowledge of linear algebra and vector spaces could be handy, but all concepts will be introduced. However, this is not a formal introduction to geometric algebra. The definitions are not rigorous, properties are used before being defined, and it is very far from being exhaustive in the treated topics. Some links are provided, but the linked content might differ from the content presented here. Please, refer to a proper book for a deeper understanding of geometric (or Clifford) algebras. Other introductions and additional resources can also be found online. Some suggestions:\n",
    "\n",
    "- [David Hestenes web site](https://geocalc.clas.asu.edu/)\n",
    "- [Rigid geometric algebra wiki](https://rigidgeometricalgebra.org/)\n",
    "- [biVector.net](https://bivector.net/)\n",
    "- [Alan Macdonald books](http://www.faculty.luther.edu/~macdonal/#geometric-algebra)\n",
    "\n",
    "The code fragments are written in [Dyalog APL](https://www.dyalog.com/dyalog/dyalog-versions/182.htm) and they are an essential part of this document, including the comments. Therefore, being able to read APL is necessary. Nevertheless, all functions and operators are explained with enough detail to (hopefully) be understood with only a basic knowledge of the language.\n",
    "\n",
    "## Preliminaries"
   ]
  },
  {
   "cell_type": "code",
   "execution_count": 1,
   "id": "5a4bcd9b",
   "metadata": {},
   "outputs": [
    {
     "data": {
      "text/html": [
       "<pre class=\"language-APL\">clear ws\n",
       "</pre>"
      ]
     },
     "execution_count": 1,
     "metadata": {},
     "output_type": "execute_result"
    }
   ],
   "source": [
    ")clear\n",
    "⎕IO ← 0        ⍝ important\n",
    "⎕PP ← 4        ⍝ just for display\n",
    "⎕CT ← 1e¯10    ⍝ avoid rounding issues\n",
    "'H'⎕CY'dfns'   ⍝ dfns' quaternions for comparison\n",
    "Assert ← {⍺←'assertion failure' ⋄ 0∊⍵:⍺ ⎕signal 8 ⋄ shy←0}   ⍝ Assert by Roger Hui\n",
    "Table  ← ≡{1<d←|⍺⍺ ⍵: ((d-1)⍨)∇∇(⍵⍵¨) ⍵ ⋄ ⍵⍵ ⍵}⍕¨(,[¯0.5])   ⍝ display as table"
   ]
  },
  {
   "cell_type": "markdown",
   "id": "d4a35ea3",
   "metadata": {},
   "source": [
    "# Vector spaces\n",
    "\n",
    "A [vector space](https://en.wikipedia.org/wiki/Vector_space) is a set of elements which follow certain properties.\n",
    "\n",
    "## Vector space properties\n",
    "\n",
    "The `VS` function will tell us if the three values given as right argument, called *[vectors](https://en.wikipedia.org/wiki/Vector_(mathematics_and_physics))*, together with the two values given as left argument, called *[scalars](https://en.wikipedia.org/wiki/Scalar_(mathematics))*, staisfy the properties of vector spaces:"
   ]
  },
  {
   "cell_type": "code",
   "execution_count": 2,
   "id": "440720a9",
   "metadata": {},
   "outputs": [],
   "source": [
    "]dinput\n",
    "VS ← {                                         ⍝ (V)ector (S)pace\n",
    "    _ ← Assert (⊂⍬) ≡∘⍴¨ a b ← ⍺               ⍝ a and b are scalars\n",
    "    _ ← Assert (⊂,1) ≡∘⍴∘⍴¨ u v w ← ⍵          ⍝ u, v and w are vectors (rank 1 arrays)\n",
    "    _ ← Assert 2=/≢¨ u v w                     ⍝ u, v and w have the same length\n",
    "                                               ⍝ properties:\n",
    "    _ ← Assert v ≡ v + z ← ≠⍨ v                ⍝   neutral element for addition (0)\n",
    "    _ ← Assert v ≡ v × o ← =⍨ v                ⍝   neutral element for multiplication (1)\n",
    "    _ ← Assert z ≡ v + -v                      ⍝   inverse element for addition\n",
    "    _ ← Assert (v - w) ≡ v + -w                ⍝   substraction function\n",
    "    _ ← Assert (v + w) ≡ w + v                 ⍝   commutative addition\n",
    "    _ ← Assert (a × v) ≡ v × a                 ⍝   commutative product with scalars\n",
    "    _ ← Assert (u + v + w) ≡ (u + v) + w       ⍝   associative addition\n",
    "    _ ← Assert (v × a × b) ≡ (v × a) × b       ⍝   associative product with scalars\n",
    "    _ ← Assert (a × v + w) ≡ (a × v) + a × w   ⍝   distributive over addition of vectors\n",
    "    _ ← Assert (v × a + b) ≡ (v × a) + v × b   ⍝   distributive over addition of scalars\n",
    "    1\n",
    "}"
   ]
  },
  {
   "cell_type": "markdown",
   "id": "d28e7d6f",
   "metadata": {},
   "source": [
    "Let's generate some sample data (two scalars and three 3D vectors) and check that they fulfill these properties:"
   ]
  },
  {
   "cell_type": "code",
   "execution_count": 3,
   "id": "24ecd273",
   "metadata": {},
   "outputs": [
    {
     "data": {
      "text/html": [
       "<pre class=\"language-APL\">┌─────┬─────┐\n",
       "│a    │b    │\n",
       "├─────┼─────┤\n",
       "│4.652│4.971│\n",
       "└─────┴─────┘\n",
       "</pre>"
      ]
     },
     "execution_count": 3,
     "metadata": {},
     "output_type": "execute_result"
    },
    {
     "data": {
      "text/html": [
       "<pre class=\"language-APL\">┌───────────────────┬────────────────┬───────────────────┐\n",
       "│u                  │v               │w                  │\n",
       "├───────────────────┼────────────────┼───────────────────┤\n",
       "│0.01894 2.846 2.178│3.701 1.049 3.84│0.02235 1.546 4.125│\n",
       "└───────────────────┴────────────────┴───────────────────┘\n",
       "</pre>"
      ]
     },
     "execution_count": 3,
     "metadata": {},
     "output_type": "execute_result"
    },
    {
     "data": {
      "text/html": [
       "<pre class=\"language-APL\">1\n",
       "</pre>"
      ]
     },
     "execution_count": 3,
     "metadata": {},
     "output_type": "execute_result"
    }
   ],
   "source": [
    "'ab'  Table a b   ←  5×?  2⍴0   ⍝ 2 random scalars\n",
    "'uvw' Table u v w ← ↓5×?3 3⍴0   ⍝ 3 random 3D vectors\n",
    "a b VS u v w                    ⍝ vector space?"
   ]
  },
  {
   "cell_type": "markdown",
   "id": "9077b818",
   "metadata": {},
   "source": [
    "As it can be seen, vectors and scalars in APL follow the properties of vector spaces. This is a direct consequence of the application of the concepts of [scalar function](https://aplwiki.com/wiki/Scalar_function) and [scalar extension](https://aplwiki.com/wiki/Scalar_extension)."
   ]
  },
  {
   "cell_type": "markdown",
   "id": "96d7a411",
   "metadata": {},
   "source": [
    "## Nested vectors\n",
    "\n",
    "APL is an array language, so it can work with several vectors at the same time. There are various ways in which we could choose to represent multiple vectors. We will do it always using rank 1 arrays, but where the elements can be [nested arrays](https://aplwiki.com/wiki/Nested_array). We will call the vectors with non-scalar components *nested vectors*, and each of the vectors that a nested vector contains an *element array*.\n",
    "\n",
    "For example, we could represent multiple vectors as \"vectors of vectors\", in which each component (each element array) is a rank 1 array too (we also define an `RD` function to make it easier to generate some random data):"
   ]
  },
  {
   "cell_type": "code",
   "execution_count": 4,
   "id": "d78b20d0",
   "metadata": {
    "scrolled": false
   },
   "outputs": [
    {
     "data": {
      "text/html": [
       "<pre class=\"language-APL\">┌──────────────────────────────┬─────────────────────────────────┐\n",
       "│a                             │b                                │\n",
       "├──────────────────────────────┼─────────────────────────────────┤\n",
       "│┌────────────────────────────┐│┌───────────────────────────────┐│\n",
       "││1.098 1.484 2.35 4.219 1.255│││2.466 0.4856 0.9174 3.772 2.152││\n",
       "│└────────────────────────────┘│└───────────────────────────────┘│\n",
       "└──────────────────────────────┴─────────────────────────────────┘\n",
       "</pre>"
      ]
     },
     "execution_count": 4,
     "metadata": {},
     "output_type": "execute_result"
    },
    {
     "data": {
      "text/html": [
       "<pre class=\"language-APL\">┌─────────────────────────────────────────────────────────────────────────────────────────────┐\n",
       "│u                                                                                            │\n",
       "├─────────────────────────────────────────────────────────────────────────────────────────────┤\n",
       "│┌─────────────────────────────┬────────────────────────────────┬────────────────────────────┐│\n",
       "││3.378 1.716 1.24 4.954 0.3482│2.169 0.9802 1.121 0.01969 4.075│1.46 2.968 2.539 1.142 2.271││\n",
       "│└─────────────────────────────┴────────────────────────────────┴────────────────────────────┘│\n",
       "└─────────────────────────────────────────────────────────────────────────────────────────────┘\n",
       "</pre>"
      ]
     },
     "execution_count": 4,
     "metadata": {},
     "output_type": "execute_result"
    },
    {
     "data": {
      "text/html": [
       "<pre class=\"language-APL\">┌───────────────────────────────────────────────────────────────────────────────────────────────┐\n",
       "│v                                                                                              │\n",
       "├───────────────────────────────────────────────────────────────────────────────────────────────┤\n",
       "│┌─────────────────────────────┬────────────────────────────────┬──────────────────────────────┐│\n",
       "││4.614 3.694 4.188 1.685 4.103│1.983 2.312 2.903 1.371 0.007588│0.2758 3.486 3.584 2.215 3.317││\n",
       "│└─────────────────────────────┴────────────────────────────────┴──────────────────────────────┘│\n",
       "└───────────────────────────────────────────────────────────────────────────────────────────────┘\n",
       "</pre>"
      ]
     },
     "execution_count": 4,
     "metadata": {},
     "output_type": "execute_result"
    },
    {
     "data": {
      "text/html": [
       "<pre class=\"language-APL\">┌──────────────────────────────────────────────────────────────────────────────────────────────┐\n",
       "│w                                                                                             │\n",
       "├──────────────────────────────────────────────────────────────────────────────────────────────┤\n",
       "│┌───────────────────────────────┬──────────────────────────────┬─────────────────────────────┐│\n",
       "││1.218 4.083 3.279 0.06128 0.206│0.6199 1.765 3.098 1.303 2.458│2.766 4.419 2.85 0.6335 3.176││\n",
       "│└───────────────────────────────┴──────────────────────────────┴─────────────────────────────┘│\n",
       "└──────────────────────────────────────────────────────────────────────────────────────────────┘\n",
       "</pre>"
      ]
     },
     "execution_count": 4,
     "metadata": {},
     "output_type": "execute_result"
    },
    {
     "data": {
      "text/html": [
       "<pre class=\"language-APL\">1\n",
       "</pre>"
      ]
     },
     "execution_count": 4,
     "metadata": {},
     "output_type": "execute_result"
    }
   ],
   "source": [
    "RD ← {5×?⍵⍴0}   ⍝ (R)andom (D)ata\n",
    "⍝ eg\n",
    "'ab' Table a b ← ⊂∘RD¨2⍴5   ⍝ 2 random scalars with 5 elements each\n",
    "'u'  Table ,⊂u ←   RD¨3⍴5   ⍝ random 3D vector with 5 elements by component\n",
    "'v'  Table ,⊂v ←   RD¨3⍴5   ⍝ random 3D vector with 5 elements by component\n",
    "'w'  Table ,⊂w ←   RD¨3⍴5   ⍝ random 3D vector with 5 elements by component\n",
    "a b VS u v w                ⍝ vector space?"
   ]
  },
  {
   "cell_type": "markdown",
   "id": "47dab509",
   "metadata": {},
   "source": [
    "The vector space properties stand for APL nested vectors too. Of course, only as long as their elements [conform](https://aplwiki.com/wiki/Conformability). Vectors and scalars must conform too. Therefore, we need to enclose `a` and `b` to actually be scalars, and the `u`, `v` and `w` vectors must be rank-1 arrays of the same length:"
   ]
  },
  {
   "cell_type": "code",
   "execution_count": 5,
   "id": "d3a14491",
   "metadata": {},
   "outputs": [
    {
     "data": {
      "text/html": [
       "<pre class=\"language-APL\">┌──┬──┬──┬──┬──┬───┬───┬───────┬───────┬───────┐\n",
       "│⍴a│⍴b│⍴u│⍴v│⍴w│⍴¨a│⍴¨b│⍴¨u    │⍴¨v    │⍴¨w    │\n",
       "├──┼──┼──┼──┼──┼───┼───┼───────┼───────┼───────┤\n",
       "│  │  │3 │3 │3 │┌─┐│┌─┐│┌─┬─┬─┐│┌─┬─┬─┐│┌─┬─┬─┐│\n",
       "│  │  │  │  │  ││5│││5│││5│5│5│││5│5│5│││5│5│5││\n",
       "│  │  │  │  │  │└─┘│└─┘│└─┴─┴─┘│└─┴─┴─┘│└─┴─┴─┘│\n",
       "└──┴──┴──┴──┴──┴───┴───┴───────┴───────┴───────┘\n",
       "</pre>"
      ]
     },
     "execution_count": 5,
     "metadata": {},
     "output_type": "execute_result"
    }
   ],
   "source": [
    "(,'⍴' '⍴¨'∘.,'abuvw') Table (⍴¨,⍴¨¨)a b u v w\n",
    "⍝ checks in VS:\n",
    "Assert (⊂⍬) ≡∘⍴¨ a b        ⍝ a and b are scalars\n",
    "Assert (⊂,1) ≡∘⍴∘⍴¨ u v w   ⍝ u, v and w are vectors (rank 1 arrays)\n",
    "Assert 2=/≢¨ u v w          ⍝ u, v and w have the same length"
   ]
  },
  {
   "cell_type": "markdown",
   "id": "3e535ffd",
   "metadata": {},
   "source": [
    "Other representations of multiple vectors are also possible. Just to display them in a convenient way, we will use \"vectors of columns\" (and define an `RC` function analogous to `RD` to generate random columns):"
   ]
  },
  {
   "cell_type": "code",
   "execution_count": 6,
   "id": "6a608c80",
   "metadata": {},
   "outputs": [
    {
     "data": {
      "text/html": [
       "<pre class=\"language-APL\">┌────────┬───────┐\n",
       "│a       │b      │\n",
       "├────────┼───────┤\n",
       "│┌──────┐│┌─────┐│\n",
       "││3.794 │││3.535││\n",
       "││0.2032│││4.926││\n",
       "││3.971 │││4.397││\n",
       "││2.502 │││4.684││\n",
       "││1.006 │││4.943││\n",
       "│└──────┘│└─────┘│\n",
       "└────────┴───────┘\n",
       "</pre>"
      ]
     },
     "execution_count": 6,
     "metadata": {},
     "output_type": "execute_result"
    },
    {
     "data": {
      "text/html": [
       "<pre class=\"language-APL\">┌────────────────────┬─────────────────────┬─────────────────────┐\n",
       "│u                   │v                    │w                    │\n",
       "├────────────────────┼─────────────────────┼─────────────────────┤\n",
       "│┌─────┬─────┬──────┐│┌─────┬──────┬──────┐│┌─────┬───────┬─────┐│\n",
       "││4.273│4.689│0.6168│││2.091│2.395 │2.965 │││1.306│4.099  │1.667││\n",
       "││1.203│3.975│2.405 │││2.992│1.062 │1.84  │││1.064│3.998  │1.804││\n",
       "││1.929│1.275│0.9094│││2.048│0.2925│0.5153│││3.828│0.9132 │2.195││\n",
       "││1.21 │2.614│4.783 │││1.754│2.754 │4.472 │││2.859│1.289  │1.014││\n",
       "││1.23 │4.212│2.414 │││1.887│2.398 │1.623 │││1.038│0.01302│1.576││\n",
       "│└─────┴─────┴──────┘│└─────┴──────┴──────┘│└─────┴───────┴─────┘│\n",
       "└────────────────────┴─────────────────────┴─────────────────────┘\n",
       "</pre>"
      ]
     },
     "execution_count": 6,
     "metadata": {},
     "output_type": "execute_result"
    },
    {
     "data": {
      "text/html": [
       "<pre class=\"language-APL\">1\n",
       "</pre>"
      ]
     },
     "execution_count": 6,
     "metadata": {},
     "output_type": "execute_result"
    }
   ],
   "source": [
    "RC ← (⍪RD)¨⍴   ⍝ generate ⍺ (R)andom (C)olumns of ⍵ rows\n",
    "⍝ eg\n",
    "'ab'  Table a b   ← ⊂¨ 2 RC 5   ⍝ 2 random scalar columns of 5 rows\n",
    "'uvw' Table u v w ← ↓3 3 RC 5   ⍝ 3 random 3D vectors of 5 rows\n",
    "a b VS u v w                    ⍝ vector space?"
   ]
  },
  {
   "cell_type": "markdown",
   "id": "080d5385",
   "metadata": {},
   "source": [
    "Vectors of columns form a vector space too. The shape is the same as before, and the elements conform:"
   ]
  },
  {
   "cell_type": "code",
   "execution_count": 7,
   "id": "9b6b8526",
   "metadata": {},
   "outputs": [
    {
     "data": {
      "text/html": [
       "<pre class=\"language-APL\">┌──┬──┬──┬──┬──┬─────┬─────┬─────────────┬─────────────┬─────────────┐\n",
       "│⍴a│⍴b│⍴u│⍴v│⍴w│⍴¨a  │⍴¨b  │⍴¨u          │⍴¨v          │⍴¨w          │\n",
       "├──┼──┼──┼──┼──┼─────┼─────┼─────────────┼─────────────┼─────────────┤\n",
       "│  │  │3 │3 │3 │┌───┐│┌───┐│┌───┬───┬───┐│┌───┬───┬───┐│┌───┬───┬───┐│\n",
       "│  │  │  │  │  ││5 1│││5 1│││5 1│5 1│5 1│││5 1│5 1│5 1│││5 1│5 1│5 1││\n",
       "│  │  │  │  │  │└───┘│└───┘│└───┴───┴───┘│└───┴───┴───┘│└───┴───┴───┘│\n",
       "└──┴──┴──┴──┴──┴─────┴─────┴─────────────┴─────────────┴─────────────┘\n",
       "</pre>"
      ]
     },
     "execution_count": 7,
     "metadata": {},
     "output_type": "execute_result"
    }
   ],
   "source": [
    "(,'⍴' '⍴¨'∘.,'abuvw') Table (⍴¨,⍴¨¨)a b u v w"
   ]
  },
  {
   "cell_type": "markdown",
   "id": "064ea4b6",
   "metadata": {},
   "source": [
    "In some situations, it can be useful to represent multiple vectors not as a nested vector, but as an array of vectors, with the shape of the element arrays. The function `AV` takes a nested vector and returns an array of vectors, while `VA` does the opposite operation:"
   ]
  },
  {
   "cell_type": "code",
   "execution_count": 8,
   "id": "8c0c040b",
   "metadata": {},
   "outputs": [
    {
     "data": {
      "text/html": [
       "<pre class=\"language-APL\">┌─────────────────────┬──┬─────────────┬─────────────────────┬─────┬──────┐\n",
       "│v                    │⍴v│⍴¨v          │AV v                 │⍴AV v│⍴¨AV v│\n",
       "├─────────────────────┼──┼─────────────┼─────────────────────┼─────┼──────┤\n",
       "│┌─────┬──────┬──────┐│3 │┌───┬───┬───┐│┌───────────────────┐│5 1  │┌─┐   │\n",
       "││2.091│2.395 │2.965 ││  ││5 1│5 1│5 1│││2.091 2.395 2.965  ││     ││3│   │\n",
       "││2.992│1.062 │1.84  ││  │└───┴───┴───┘│├───────────────────┤│     │├─┤   │\n",
       "││2.048│0.2925│0.5153││  │             ││2.992 1.062 1.84   ││     ││3│   │\n",
       "││1.754│2.754 │4.472 ││  │             │├───────────────────┤│     │├─┤   │\n",
       "││1.887│2.398 │1.623 ││  │             ││2.048 0.2925 0.5153││     ││3│   │\n",
       "│└─────┴──────┴──────┘│  │             │├───────────────────┤│     │├─┤   │\n",
       "│                     │  │             ││1.754 2.754 4.472  ││     ││3│   │\n",
       "│                     │  │             │├───────────────────┤│     │├─┤   │\n",
       "│                     │  │             ││1.887 2.398 1.623  ││     ││3│   │\n",
       "│                     │  │             │└───────────────────┘│     │└─┘   │\n",
       "└─────────────────────┴──┴─────────────┴─────────────────────┴─────┴──────┘\n",
       "</pre>"
      ]
     },
     "execution_count": 8,
     "metadata": {},
     "output_type": "execute_result"
    }
   ],
   "source": [
    "AV ← ⊂⍤ 1↑[¯0.5]   ⍝ array of vectors from vector\n",
    "VA ← ⊂⍤¯1↑[¯0.5]   ⍝ vector from array of vectors\n",
    "Assert v ≡ VA AV v\n",
    "'v' '⍴v' '⍴¨v' 'AV v' '⍴AV v' '⍴¨AV v' Table v (⍴v) (⍴¨v) (AV v) (⍴AV v) (⍴¨AV v)"
   ]
  },
  {
   "cell_type": "markdown",
   "id": "c868a0d7",
   "metadata": {},
   "source": [
    "## Scalar extension\n",
    "\n",
    "If we are working with nested vectors, it could often happen that all the elements of some element array have the same value. For instance, a component could take the value zero if all vectors are contained in a plane. In these cases, we do not need to store multiple copies of the same value. After all, APL will use scalar extension if we have some scalar component:"
   ]
  },
  {
   "cell_type": "code",
   "execution_count": 9,
   "id": "f40c9b78",
   "metadata": {},
   "outputs": [
    {
     "data": {
      "text/html": [
       "<pre class=\"language-APL\">┌────────────────┬─────────────────────┬─────────────┐\n",
       "│u               │v                    │w            │\n",
       "├────────────────┼─────────────────────┼─────────────┤\n",
       "│┌─────┬─┬──────┐│┌─────┬──────┬──────┐│┌─┬───────┬─┐│\n",
       "││4.273│0│0.6168│││2.091│2.395 │2.965 │││0│4.099  │1││\n",
       "││1.203│ │2.405 │││2.992│1.062 │1.84  │││ │3.998  │ ││\n",
       "││1.929│ │0.9094│││2.048│0.2925│0.5153│││ │0.9132 │ ││\n",
       "││1.21 │ │4.783 │││1.754│2.754 │4.472 │││ │1.289  │ ││\n",
       "││1.23 │ │2.414 │││1.887│2.398 │1.623 │││ │0.01302│ ││\n",
       "│└─────┴─┴──────┘│└─────┴──────┴──────┘│└─┴───────┴─┘│\n",
       "└────────────────┴─────────────────────┴─────────────┘\n",
       "</pre>"
      ]
     },
     "execution_count": 9,
     "metadata": {},
     "output_type": "execute_result"
    },
    {
     "data": {
      "text/html": [
       "<pre class=\"language-APL\">1\n",
       "</pre>"
      ]
     },
     "execution_count": 9,
     "metadata": {},
     "output_type": "execute_result"
    }
   ],
   "source": [
    "u[1]   ← 0            ⍝ vectors parallel to plane xz\n",
    "w[0 2] ← 0 1          ⍝ vectors parallel to direction y\n",
    "'uvw' Table u v w     ⍝ vectors with scalar 0 components\n",
    "a b VS u v w          ⍝ vector space?"
   ]
  },
  {
   "cell_type": "markdown",
   "id": "8d88b033",
   "metadata": {},
   "source": [
    "Vectors with mixed array and scalar components also follow the properties of vector spaces. Some components have different shapes, but all of them conform:"
   ]
  },
  {
   "cell_type": "code",
   "execution_count": 10,
   "id": "c86dd485",
   "metadata": {},
   "outputs": [
    {
     "data": {
      "text/html": [
       "<pre class=\"language-APL\">┌──┬──┬──┬──────────┬─────────────┬───────┐\n",
       "│⍴u│⍴v│⍴w│⍴¨u       │⍴¨v          │⍴¨w    │\n",
       "├──┼──┼──┼──────────┼─────────────┼───────┤\n",
       "│3 │3 │3 │┌───┬┬───┐│┌───┬───┬───┐│┌┬───┬┐│\n",
       "│  │  │  ││5 1││5 1│││5 1│5 1│5 1││││5 1│││\n",
       "│  │  │  │└───┴┴───┘│└───┴───┴───┘│└┴───┴┘│\n",
       "└──┴──┴──┴──────────┴─────────────┴───────┘\n",
       "</pre>"
      ]
     },
     "execution_count": 10,
     "metadata": {},
     "output_type": "execute_result"
    }
   ],
   "source": [
    "(,'⍴' '⍴¨'∘.,'uvw') Table (⍴¨,⍴¨¨)u v w"
   ]
  },
  {
   "cell_type": "markdown",
   "id": "13b3ed77",
   "metadata": {},
   "source": [
    "Vectors with scalar components of course are smaller:"
   ]
  },
  {
   "cell_type": "code",
   "execution_count": 11,
   "id": "c91e6a3e",
   "metadata": {},
   "outputs": [
    {
     "data": {
      "text/html": [
       "<pre class=\"language-APL\">v 296  u 248  w 200\n",
       "</pre>"
      ]
     },
     "execution_count": 11,
     "metadata": {},
     "output_type": "execute_result"
    }
   ],
   "source": [
    "]SizeOf u v w"
   ]
  },
  {
   "cell_type": "markdown",
   "id": "c7340d22",
   "metadata": {},
   "source": [
    "In some cases, this space savings could be significant. However, either keeping the size low when working with the vector or simplifying it later will have a performance cost. In following sections, we will study the performance and memory usage implications of vectors with scalar components with more detail.\n",
    "\n",
    "To make it easier working with vectors with scalar components, we define the collapse function, `C`, and the zero operator, `_Z`. The `C` function will colapse components of nested vectors into scalars if all elements are equal. The `⎕CT` value used in the comparison can be passed as left argument. The function makes sure that all values for which `⎕CT>|` is true are treated as zero (in general, APL will never consider identical two values when one of them is `0`, independently of `⎕CT`). For completeness, an inverse function `US` is also included. The `_Z` operator is intended to be used with dyadic functions for which a zero argument implies a result of zero, such as multiplication. It checks if any of the arguments is a scalar `0` and, in that case, it returns a scalar `0`. This way we avoid having to run `C` later, which is relatively expensive. Consequently, the performance is improved when using vectors with scalar zeros. It is still lower than when not using `C` or `_Z` at all, but then the space requirements will be higher:"
   ]
  },
  {
   "cell_type": "code",
   "execution_count": 12,
   "id": "9a18195a",
   "metadata": {
    "scrolled": false
   },
   "outputs": [
    {
     "data": {
      "text/html": [
       "<pre class=\"language-APL\">┌───────────────┬──────────────────┬────────────────────┬────────────────┐\n",
       "│v1             │v2                │v1 × v2             │v1 ×_Z¨ v2      │\n",
       "├───────────────┼──────────────────┼────────────────────┼────────────────┤\n",
       "│┌───┬─┬───┬───┐│┌───┬────┬─────┬─┐│┌────┬───┬─────┬───┐│┌────┬─┬─────┬─┐│\n",
       "││1 2│0│3 4│5 6│││7 8│9 10│11 12│0│││7 16│0 0│33 48│0 0│││7 16│0│33 48│0││\n",
       "│└───┴─┴───┴───┘│└───┴────┴─────┴─┘│└────┴───┴─────┴───┘│└────┴─┴─────┴─┘│\n",
       "└───────────────┴──────────────────┴────────────────────┴────────────────┘\n",
       "</pre>"
      ]
     },
     "execution_count": 12,
     "metadata": {},
     "output_type": "execute_result"
    },
    {
     "data": {
      "text/html": [
       "<pre class=\"language-APL\">                                                                          \n",
       "    u   ×¨   w → 2.7E¯7 |     0% ⎕⎕⎕                                      \n",
       "* C u   ×¨   w → 3.3E¯6 | +1149% ⎕⎕⎕⎕⎕⎕⎕⎕⎕⎕⎕⎕⎕⎕⎕⎕⎕⎕⎕⎕⎕⎕⎕⎕⎕⎕⎕⎕⎕⎕⎕⎕⎕⎕⎕⎕⎕⎕⎕⎕ \n",
       "*   u   ×_Z¨ w → 7.6E¯7 |  +184% ⎕⎕⎕⎕⎕⎕⎕⎕⎕                                \n",
       "</pre>"
      ]
     },
     "execution_count": 12,
     "metadata": {},
     "output_type": "execute_result"
    },
    {
     "data": {
      "text/html": [
       "<pre class=\"language-APL\">                                                                            \n",
       "  r1←  u ∘.×¨   w → 6.4E¯7 |    0% ⎕⎕⎕⎕⎕⎕                                   \n",
       "* r2←C u ∘.×¨   w → 4.3E¯6 | +566% ⎕⎕⎕⎕⎕⎕⎕⎕⎕⎕⎕⎕⎕⎕⎕⎕⎕⎕⎕⎕⎕⎕⎕⎕⎕⎕⎕⎕⎕⎕⎕⎕⎕⎕⎕⎕⎕⎕⎕⎕ \n",
       "* r3←  u ∘.×_Z¨ w → 9.6E¯7 |  +50% ⎕⎕⎕⎕⎕⎕⎕⎕⎕                                \n",
       "</pre>"
      ]
     },
     "execution_count": 12,
     "metadata": {},
     "output_type": "execute_result"
    },
    {
     "data": {
      "text/html": [
       "<pre class=\"language-APL\">┌────────────┬────────────┬────────────┐\n",
       "│r1          │r2          │r3          │\n",
       "├────────────┼────────────┼────────────┤\n",
       "│┌─┬─┬──────┐│┌─┬─┬──────┐│┌─┬─┬──────┐│\n",
       "││0│0│0.6168│││0│0│0.6168│││0│0│0.6168││\n",
       "││0│0│2.405 │││ │ │2.405 │││ │ │2.405 ││\n",
       "││0│0│0.9094│││ │ │0.9094│││ │ │0.9094││\n",
       "││0│0│4.783 │││ │ │4.783 │││ │ │4.783 ││\n",
       "││0│0│2.414 │││ │ │2.414 │││ │ │2.414 ││\n",
       "│└─┴─┴──────┘│└─┴─┴──────┘│└─┴─┴──────┘│\n",
       "└────────────┴────────────┴────────────┘\n",
       "</pre>"
      ]
     },
     "execution_count": 12,
     "metadata": {},
     "output_type": "execute_result"
    },
    {
     "data": {
      "text/html": [
       "<pre class=\"language-APL\">r1 232  r2 200  r3 200\n",
       "</pre>"
      ]
     },
     "execution_count": 12,
     "metadata": {},
     "output_type": "execute_result"
    }
   ],
   "source": [
    " C  ← {⍺←⎕CT ⋄ ⎕CT←⍺ ⋄ 1=≢∪⍵:⊃⍵ ⋄ ⍺∧.>|∊⍵:0 ⋄ ⍵}¨   ⍝ (C)ollapse identical values into scalar\n",
    "_Z  ← {0≡⍵:0 ⋄ 0≡⍺:0 ⋄ ⍺(⍺⍺)⍵}                      ⍝ result (Z)ero for zero argument\n",
    "⍝ eg\n",
    "v1 v2 ← ((1 2) 0 (3 4) (5 6)) ((7 8) (9 10) (11 12) 0)\n",
    "'v1' 'v2' 'v1 × v2' 'v1 ×_Z¨ v2' Table v1 v2 (v1 × v2) (v1 ×_Z¨ v2)\n",
    "Assert 0 1 2 3   ≡ C 0 1 (2 2 2) 3\n",
    "Assert (0 1) 0 ≡ (0 1) (2 3) ×_Z¨ 1 0\n",
    "]Runtime '  u   ×¨   w' 'C u   ×¨   w' '  u   ×_Z¨ w' -compare\n",
    "]Runtime 'r1←  u ∘.×¨   w' 'r2←C u ∘.×¨   w' 'r3←  u ∘.×_Z¨ w' -compare\n",
    "'r1' 'r2' 'r3' Table r1 r2 r3\n",
    "]SizeOf r1 r2 r3"
   ]
  },
  {
   "cell_type": "markdown",
   "id": "c7555699",
   "metadata": {},
   "source": [
    "## Vector extension\n",
    "\n",
    "Actually, there is no reason to require vectors to be of the same length to do operations with them. A vector of `n` dimensions can always be interpreted as a vector of `n+1` dimensions in which the additional component is `0` (and, therefore, also a vector of `n+2` components, `n+3`, and so on). However, if we try to operate with vectors of different lengths in APL, we will get an error:"
   ]
  },
  {
   "cell_type": "code",
   "execution_count": 13,
   "id": "522fa020",
   "metadata": {},
   "outputs": [
    {
     "name": "stderr",
     "output_type": "stream",
     "text": [
      "LENGTH ERROR: Mismatched left and right argument shapes\n",
      "      1 2 3+4 5   ⍝ ERROR: length\n",
      "           ∧\n"
     ]
    }
   ],
   "source": [
    "1 2 3 + 4 5   ⍝ ERROR: length"
   ]
  },
  {
   "cell_type": "markdown",
   "id": "84de5f78",
   "metadata": {},
   "source": [
    "We are going define some functions and operators to make it easier to work with vectors of different lengths. We want to be able to extend the arguments of functions to be of the required length, appending as many (scalar) zeros as needed. We will also want to remove trailing zeros when they are not needed."
   ]
  },
  {
   "cell_type": "code",
   "execution_count": 14,
   "id": "a4d02a8a",
   "metadata": {},
   "outputs": [],
   "source": [
    " X  ← {⍺↑⍵,0⍴⍨0⌈⍺-≢⍵}                        ⍝ e(X)tend vector ⍵ to length ⍺ appending zeros\n",
    "_X_ ← {⍺←⊢ ⋄ ⍺ ⍺⍺⍥((⍺(⍵⍵⍨⍨)⍵)∘X)⍵}           ⍝ e(X)tend ⍺⍺ arguments to have length given by ⍵⍵\n",
    "_X  ← _X_(⌈⍥≢)                               ⍝ e(X)tend ⍺⍺ arguments to have same (maximum) length\n",
    "_ZX ← {⍺ ⍺⍺_Z¨_X_(⌊⍥≢)⍵}                     ⍝ e(X)tend ⍺⍺ arguments to have same (minimum) length and _Z¨\n",
    " S  ← {⍬≡⍵:0 ⋄ (1<≢⍵)∨(0<≡⍵)∧1<≢⊃⍵:⍵ ⋄ ⊃⍵}   ⍝ return (S)calar as scalar\n",
    " Z  ← {⍺←⎕CT ⋄ ⎕CT←⍺ ⋄ S⍵↓⍨-⊥⍨(1∧.=1+∊)¨⍵}   ⍝ remove trailing (Z)eros\n",
    "⍝ eg\n",
    "Assert 0 1 2 0   ≡ 4 X 0 1 2\n",
    "Assert 0 1       ≡ 2 X 0 1 2\n",
    "Assert 0 1 2     ≡ Z 0 1 2 (0 0 0) 0\n",
    "Assert 0         ≡ Z 0 0 0\n",
    "Assert 1         ≡ Z 1 0\n",
    "Assert 0 1 1     ≡ 0 0 1 + _X 0 1\n",
    "Assert 1 0 2     ≡ Z 1 0 2 0 0\n",
    "Assert 1 0 2     ≡ 1 0 2 3 ×_ZX 1 1 1"
   ]
  },
  {
   "cell_type": "markdown",
   "id": "1688b4bd",
   "metadata": {},
   "source": [
    "The function `X` extends a vector with scalar zeros up to the given length. The `_X_` operator applies the given function after extending the arguments to the length specified, either explicitly or as the result of a function. For instance, the monadic operator `_X` extend the arguments up to the maximum length of both of them (`⌈⍥≢`), while `_ZX` will \"extend\" them to the minimum length and apply the given function using `_Z¨`. The functions `S` and `Z` are used to simplify vectors: `S` will return 1-element vectors as scalars and 0-elements vectors as `0`, while `Z` will remove trailing zeros (like `C`, using `⎕CT` or a left argument), including non-scalar components in which all elements are zero.\n",
    "\n",
    "When the arguments of a function are first extended to the required length, and later the result is simplified collapsing into scalars and removing trailing zeros, we will say that the function is applied using *vector extension*. The operator `_V` applies a dyadic function using vector extension."
   ]
  },
  {
   "cell_type": "code",
   "execution_count": 15,
   "id": "f1c44eac",
   "metadata": {},
   "outputs": [
    {
     "data": {
      "text/html": [
       "<pre class=\"language-APL\">┌─────┬───┬─────────┐\n",
       "│v1   │v2 │v1 +_V v2│\n",
       "├─────┼───┼─────────┤\n",
       "│1 2 3│4 5│5 7 3    │\n",
       "└─────┴───┴─────────┘\n",
       "</pre>"
      ]
     },
     "execution_count": 15,
     "metadata": {},
     "output_type": "execute_result"
    },
    {
     "data": {
      "text/html": [
       "<pre class=\"language-APL\">┌───────────┬─────────┬─────────┐\n",
       "│v1         │v2       │v1 -_V v2│\n",
       "├───────────┼─────────┼─────────┤\n",
       "│┌─┬─┬─┬─┬─┐│┌─┬─┬─┬─┐│┌──┬──┐  │\n",
       "││1│0│0│1│0│││4│4│0│1│││¯3│¯4│  │\n",
       "││2│ │ │2│ │││5│5│ │2│││  │¯5│  │\n",
       "││3│ │ │3│ │││6│6│ │3│││  │¯6│  │\n",
       "│└─┴─┴─┴─┴─┘│└─┴─┴─┴─┘│└──┴──┘  │\n",
       "└───────────┴─────────┴─────────┘\n",
       "</pre>"
      ]
     },
     "execution_count": 15,
     "metadata": {},
     "output_type": "execute_result"
    }
   ],
   "source": [
    "_V  ← {⍺←⊢ ⋄ Z∘C⍺(⍺⍺_X)⍵}                               ⍝ (V)ector extension\n",
    "⍝ eg\n",
    "v1 v2 ← (1 2 3) (4 5)\n",
    "'v1' 'v2' 'v1 +_V v2' Table v1 v2 (v1 +_V v2)           ⍝ no error now\n",
    "v1 v2 ← ((⍪v1) 0 0 (⍪v1) 0) ((⍪v2,6) (⍪v2,6) 0 (⍪v1))\n",
    "'v1' 'v2' 'v1 -_V v2' Table v1 v2 (v1 -_V v2)           ⍝ subtraction under vector extension\n",
    "Assert 0 (¯3 ¯4) ≡ 0 0 0 (1 2) -_V 0 (3 4) 0 (1 2)"
   ]
  },
  {
   "cell_type": "markdown",
   "id": "4bbefc3a",
   "metadata": {},
   "source": [
    "## Vector spaces under vector extension\n",
    "\n",
    "Now that we can operate with vectors of arbitrary lengths, we can redefine the `VS` function, removing the requirement for vectors to have the same length. We also define an `E` function to check that two vectors are *equivalent* or, in other words, that they match after being simplified by `Z∘C`."
   ]
  },
  {
   "cell_type": "code",
   "execution_count": 16,
   "id": "e163bf81",
   "metadata": {},
   "outputs": [],
   "source": [
    "E ← ≡⍥(Z∘C)   ⍝ (E)quivalent vectors"
   ]
  },
  {
   "cell_type": "code",
   "execution_count": 17,
   "id": "a525522f",
   "metadata": {},
   "outputs": [],
   "source": [
    "]dinput\n",
    "VS ← {                                             ⍝ (V)ector (S)pace\n",
    "    _ ← Assert (⊂⍬) ∧.≡ ⍴¨ a b ← ⍺                 ⍝ a and b are scalars\n",
    "    _ ← Assert (⊂,1) ∧.≥ ⍴∘⍴¨ u v w ← ⍵            ⍝ u, v and w are vectors (rank 1)\n",
    "                                                   ⍝ properties:\n",
    "    _ ← Assert v                 E v + 0           ⍝   neutral element for addition\n",
    "    _ ← Assert v                 E 1 × v           ⍝   neutral element for multiplication\n",
    "    _ ← Assert 0                 E v +_V -v        ⍝   inverse element for addition\n",
    "    _ ← Assert (v -_V w)         E v +_V -w        ⍝   substraction function\n",
    "    _ ← Assert (v +_V w)         E w +_V v         ⍝   commutative addition\n",
    "    _ ← Assert (a × v)           E v × a           ⍝   commutative product with scalars\n",
    "    _ ← Assert (u +_V v +_V w)   E w +_V u +_V v   ⍝   associative addition\n",
    "    _ ← Assert (v × a × b)       E (v × a) × b     ⍝   associative product with scalars\n",
    "    _ ← Assert (a × v +_V w)     E v +_V⍥(a∘×) w   ⍝   distributive over addition of vectors\n",
    "    _ ← Assert (v × a + b)       E a +_V⍥(v∘×) b   ⍝   distributive over addition of scalars\n",
    "    1\n",
    "}"
   ]
  },
  {
   "cell_type": "code",
   "execution_count": 18,
   "id": "77dcb8ba",
   "metadata": {},
   "outputs": [
    {
     "data": {
      "text/html": [
       "<pre class=\"language-APL\">1\n",
       "</pre>"
      ]
     },
     "execution_count": 18,
     "metadata": {},
     "output_type": "execute_result"
    }
   ],
   "source": [
    "a b VS 1 (0 1) (0 0 1)"
   ]
  },
  {
   "cell_type": "markdown",
   "id": "11b10cfc",
   "metadata": {},
   "source": [
    "## Magnitude and unitary vector\n",
    "\n",
    "Let's define some more functions to work with vectors. The function `M` calculates the magnitude of a vector using the dot product, while `U` returns a unitary vector parallel to the given one dividing it by `M`."
   ]
  },
  {
   "cell_type": "code",
   "execution_count": 19,
   "id": "69188f8f",
   "metadata": {},
   "outputs": [
    {
     "data": {
      "text/html": [
       "<pre class=\"language-APL\">┌───────┬──────────────────────┬───────┬──────────────────┐\n",
       "│M v    │U v                   │M w    │U w               │\n",
       "├───────┼──────────────────────┼───────┼──────────────────┤\n",
       "│┌─────┐│┌──────┬──────┬──────┐│┌─────┐│┌─┬───────┬──────┐│\n",
       "││4.348│││0.481 │0.5509│0.682 │││4.22 │││0│0.9715 │0.237 ││\n",
       "││3.67 │││0.8153│0.2894│0.5015│││4.121│││ │0.9701 │0.2427││\n",
       "││2.132│││0.9606│0.1372│0.2418│││1.354│││ │0.6743 │0.7384││\n",
       "││5.538│││0.3168│0.4974│0.8076│││1.632│││ │0.7901 │0.6129││\n",
       "││3.456│││0.5459│0.6939│0.4696│││1    │││ │0.01302│0.9999││\n",
       "│└─────┘│└──────┴──────┴──────┘│└─────┘│└─┴───────┴──────┘│\n",
       "└───────┴──────────────────────┴───────┴──────────────────┘\n",
       "</pre>"
      ]
     },
     "execution_count": 19,
     "metadata": {},
     "output_type": "execute_result"
    }
   ],
   "source": [
    "M ← 0.5*⍨+.×⍨   ⍝ (M)agnitude of vector\n",
    "U ← ÷∘M⍨        ⍝ (U)nitary vector\n",
    "⍝ eg\n",
    "'M v' 'U v' 'M w' 'U w' Table (M v) (U _V v) (M w) (U _V w)\n",
    "Assert E∘(M×U)⍨¨ u v w   ⍝ a vector is the product of its magnitude by its unit vector"
   ]
  },
  {
   "cell_type": "markdown",
   "id": "9abbe582",
   "metadata": {},
   "source": [
    "# Geometric product\n",
    "\n",
    "## Inverse of a vector\n",
    "\n",
    "In addition to the properties of vector spaces, in a geometric algebra, there is an inverse element for multiplication using the geometric product (which has not been defined yet) such that for every vector `v` not equivalent to zero exists an inverse, that multiplied by the original vector results in `1`.\n",
    "\n",
    "It can help at this point to think of a concrete example to get an intuitive idea of what this inverse should be. Let's consider, for instance, a velocity, a scalar velocity. Let’s say this velocity is $5\\,m/s$. There is no discussion in that the inverse of this velocity is $0.2\\,s/m$. Similarly, a velocity of $-5\\,m/s$ will have an inverse of $-0.2\\,s/m$. The direction of the inverse is the same as the original, but its magnitude is the inverse of the original magnitude. Another way to express this is that the inverse is the original value divided by the square of its magnitude:"
   ]
  },
  {
   "cell_type": "code",
   "execution_count": 20,
   "id": "09a13f8e",
   "metadata": {},
   "outputs": [
    {
     "data": {
      "text/html": [
       "<pre class=\"language-APL\">┌────┬────────┬────────┬────┐\n",
       "│    │÷       │÷∘(×⍨|)⍨│×∘÷⍨│\n",
       "├────┼────────┼────────┼────┤\n",
       "│5 ¯5│0.2 ¯0.2│0.2 ¯0.2│1 1 │\n",
       "└────┴────────┴────────┴────┘\n",
       "</pre>"
      ]
     },
     "execution_count": 20,
     "metadata": {},
     "output_type": "execute_result"
    }
   ],
   "source": [
    "Assert ((|∘÷ ≡ ÷∘|),(×∘÷ ≡ ×),(÷ ≡ ÷∘(×⍨|)⍨))5 ¯5\n",
    "' ' '÷' '÷∘(×⍨|)⍨' '×∘÷⍨' Table (5 ¯5) (÷5 ¯5) (÷∘(×⍨|)⍨5 ¯5) (×∘÷⍨5 ¯5)"
   ]
  },
  {
   "cell_type": "markdown",
   "id": "27bb1c87",
   "metadata": {},
   "source": [
    "Our intention is to extend this concept to vectors. Therefore, we define the inverse of any vector `v` not equivalent to zero (`0(~E)v`) as another vector with the same direction of `v`, but with a magnitude which is the inverse of the magnitude of `v`. As with scalars, we can achieve this result dividing the original vector by the square of its magnitude (which, for vectors, is just its self dot product, `+.×⍨`):"
   ]
  },
  {
   "cell_type": "code",
   "execution_count": 21,
   "id": "dec9d5d0",
   "metadata": {},
   "outputs": [
    {
     "data": {
      "text/html": [
       "<pre class=\"language-APL\">┌───────────────────────┬────────┬───────────────────┬────────┐\n",
       "│I v                    │+.×∘I⍨ v│I w                │+.×∘I⍨ w│\n",
       "├───────────────────────┼────────┼───────────────────┼────────┤\n",
       "│┌──────┬───────┬──────┐│┌─┐     │┌─┬───────┬───────┐│┌─┐     │\n",
       "││0.1106│0.1267 │0.1569│││1│     ││0│0.2302 │0.05616│││1│     │\n",
       "││0.2222│0.07886│0.1367│││1│     ││ │0.2354 │0.05889│││1│     │\n",
       "││0.4506│0.06438│0.1134│││1│     ││ │0.4979 │0.5453 │││1│     │\n",
       "││0.0572│0.08982│0.1458│││1│     ││ │0.4843 │0.3757 │││1│     │\n",
       "││0.1579│0.2008 │0.1359│││1│     ││ │0.01302│0.9998 │││1│     │\n",
       "│└──────┴───────┴──────┘│└─┘     │└─┴───────┴───────┘│└─┘     │\n",
       "└───────────────────────┴────────┴───────────────────┴────────┘\n",
       "</pre>"
      ]
     },
     "execution_count": 21,
     "metadata": {},
     "output_type": "execute_result"
    }
   ],
   "source": [
    "I ← ×∘(÷+.×⍨)⍨   ⍝ (I)nverse vector\n",
    "⍝ eg\n",
    "'I v' '+.×∘I⍨ v' 'I w' '+.×∘I⍨ w' Table (I _V v) (+.×∘I⍨ v) (I _V w) (+.×∘I⍨ w) \n",
    "Assert (M I v) ≡ ÷ M v        ⍝ magnitude of inverse is inverse of magnitude\n",
    "Assert (U I v) ≡ U v          ⍝ same direction\n",
    "Assert   (I v) ≡ ((÷M)×U) v   ⍝ inverse vector\n",
    "⍝ the inverse of v is v divided by the square of its magnitude:\n",
    "Assert   (I v) ≡ ÷∘(×⍨M)⍨ v   ⍝ analogous to (÷⍵) ≡ ÷∘(×⍨|)⍨⍵"
   ]
  },
  {
   "cell_type": "markdown",
   "id": "2662a876",
   "metadata": {},
   "source": [
    "This definition might look a bit arbitrary, and indeed it is up to some point. We will come back to it later.\n",
    "\n",
    "Notice that the `I` function does not directly uses the dyadic divide function because, if we defined `I` as `÷∘(+.×⍨)⍨`, when we had a vector equivalent by zero, we would be dividing `0` by `0` and, in APL, `1 ≡ 0÷0`. However `÷0` results in a domain error, which looks like a more reasonable response. It is also important to be careful with nested vectors, since the function will fail with a single vector equivalent to `0` (when `0(~E)¨AV`):"
   ]
  },
  {
   "cell_type": "code",
   "execution_count": 22,
   "id": "4f43f9d2",
   "metadata": {},
   "outputs": [
    {
     "data": {
      "text/html": [
       "<pre class=\"language-APL\">┌─────────────────────┐\n",
       "│vz                   │\n",
       "├─────────────────────┤\n",
       "│┌─────┬──────┬──────┐│\n",
       "││2.091│2.395 │2.965 ││\n",
       "││2.992│1.062 │1.84  ││\n",
       "││2.048│0.2925│0.5153││\n",
       "││0    │0     │0     ││\n",
       "││1.887│2.398 │1.623 ││\n",
       "│└─────┴──────┴──────┘│\n",
       "└─────────────────────┘\n",
       "</pre>"
      ]
     },
     "execution_count": 22,
     "metadata": {},
     "output_type": "execute_result"
    },
    {
     "name": "stderr",
     "output_type": "stream",
     "text": [
      "assertion failure\n",
      "      Assert 0(~E)¨AV vz   ⍝ FAIL\n",
      "      ∧\n",
      "DOMAIN ERROR: Divide by zero\n",
      "      I vz                 ⍝ ERROR: domain\n",
      "      ∧\n"
     ]
    }
   ],
   "source": [
    "Assert 0(~E)¨AV v    ⍝ v has an inverse\n",
    "vz←v ⋄ (3⌷¨vz) ← 0   ⍝ vz is z with a 0 vector\n",
    "(⊂'vz') Table ,⊂vz\n",
    "Assert 0(~E)¨AV vz   ⍝ FAIL\n",
    "I vz                 ⍝ ERROR: domain"
   ]
  },
  {
   "cell_type": "markdown",
   "id": "faac972d",
   "metadata": {},
   "source": [
    "## Geometric product of vectors\n",
    "\n",
    "Once vector inverses are defined, the geometric product of vectors (represented here by `∆V`) is the product for which a vector multiplied by its inverse is equal to one:\n",
    "\n",
    "    1 ≡ v ∆V I v  ⍝ ∆V is the geometric product of vectors\n",
    "    \n",
    "From this definition, several properties can be derived. Before defining the `∆V` function, let's first see what is the result of multiplying parallel and perpendicular vectors. We will later use these results to define arbitrary geometric products."
   ]
  },
  {
   "cell_type": "markdown",
   "id": "ba9eb2f5",
   "metadata": {},
   "source": [
    "### Geometric product of parallel vectors\n",
    "\n",
    "When we calculate the inverse of a unitary vector using our definition, we will find that its inverse is the same vector. We divide by 1 when dividing by its magnitude (or its squared magnitude), leaving the original vector unchanged:"
   ]
  },
  {
   "cell_type": "code",
   "execution_count": 23,
   "id": "e7d8f5e2",
   "metadata": {},
   "outputs": [
    {
     "data": {
      "text/html": [
       "<pre class=\"language-APL\">┌──────────────────────┬──────────────────────┐\n",
       "│U v                   │I U v                 │\n",
       "├──────────────────────┼──────────────────────┤\n",
       "│┌──────┬──────┬──────┐│┌──────┬──────┬──────┐│\n",
       "││0.481 │0.5509│0.682 │││0.481 │0.5509│0.682 ││\n",
       "││0.8153│0.2894│0.5015│││0.8153│0.2894│0.5015││\n",
       "││0.9606│0.1372│0.2418│││0.9606│0.1372│0.2418││\n",
       "││0.3168│0.4974│0.8076│││0.3168│0.4974│0.8076││\n",
       "││0.5459│0.6939│0.4696│││0.5459│0.6939│0.4696││\n",
       "│└──────┴──────┴──────┘│└──────┴──────┴──────┘│\n",
       "└──────────────────────┴──────────────────────┘\n",
       "</pre>"
      ]
     },
     "execution_count": 23,
     "metadata": {},
     "output_type": "execute_result"
    }
   ],
   "source": [
    "Assert ≡∘I⍨ U v\n",
    "'U v' 'I U v' Table (U v) (I U v)"
   ]
  },
  {
   "cell_type": "markdown",
   "id": "cde310e9",
   "metadata": {},
   "source": [
    "Also by definition, the geometric product of a vector by its inverse must be 1. This implies that multiplying a unitary vector by itself will also be 1:\n",
    "\n",
    "    1 ≡ ∆V⍨ U v\n",
    "    \n",
    "More generally, we can calculate what is the result of multiplying any vector by itself. If a vector `v` is defined as `m×u`, where `m` is a scalar and `u` is a unitary vector, we can define its square as:\n",
    "\n",
    "    (∆V⍨ v) ≡ (m × u) ∆V m × u   ⍝ v ≡ m × u\n",
    "    (∆V⍨ v) ≡ m × m × u ∆V u     ⍝ (a × v) ≡ v × a\n",
    "    (∆V⍨ v) ≡ m × m              ⍝ 1 ≡ ∆V⍨ u\n",
    "\n",
    "The result of squaring a vector is the square of its magnitude. To multiply two parallel vectors `v` and `w` defined, respectively, as `a×u` and `b×u`:\n",
    "\n",
    "    (v ∆V w) ≡ (a × u) ∆V b × u\n",
    "    (v ∆V w) ≡ a × b × u ∆V u\n",
    "    (v ∆V w) ≡ a × b\n",
    "    \n",
    "So, the product of two parallel vectors is the scalar that results from multiplying their magnitudes."
   ]
  },
  {
   "cell_type": "markdown",
   "id": "3d5554c7",
   "metadata": {},
   "source": [
    "### Geometric product of perpendicular vectors\n",
    "\n",
    "Every vector can be descomposed in two perpendicular components in some base. For example:"
   ]
  },
  {
   "cell_type": "code",
   "execution_count": 24,
   "id": "93f870f5",
   "metadata": {},
   "outputs": [
    {
     "data": {
      "text/html": [
       "<pre class=\"language-APL\">┌───┬──┬───┬──┬───┐\n",
       "│v  │v1│u1 │v2│u2 │\n",
       "├───┼──┼───┼──┼───┤\n",
       "│3 2│3 │1 0│2 │0 1│\n",
       "└───┴──┴───┴──┴───┘\n",
       "</pre>"
      ]
     },
     "execution_count": 24,
     "metadata": {},
     "output_type": "execute_result"
    },
    {
     "data": {
      "text/html": [
       "<pre class=\"language-APL\">┌─────────────┬───────┬─────────────┬─────┐\n",
       "│v1 0 +.× 0 v2│m ← M v│u ← U v      │m × u│\n",
       "├─────────────┼───────┼─────────────┼─────┤\n",
       "│0            │3.606  │0.8321 0.5547│3 2  │\n",
       "└─────────────┴───────┴─────────────┴─────┘\n",
       "</pre>"
      ]
     },
     "execution_count": 24,
     "metadata": {},
     "output_type": "execute_result"
    }
   ],
   "source": [
    "v1 v2 ← 3 2   ⍝ eg\n",
    "Assert (⊃ v1 v2 +.× (1 0) (0 1)) ≡ (M×U) v1 v2   ⍝ ortoghonal components or magnitude and unit vector\n",
    "Assert 0 ≡ v1 0 +.× 0 v2                         ⍝ (v1 0) and (0 v2) are perpendicular (dot product is zero)\n",
    "'v' 'v1' 'u1' 'v2' 'u2' Table (3 2) 3 (1 0) 2 (0 1)\n",
    "'v1 0 +.× 0 v2' 'm ← M v' 'u ← U v' 'm × u' Table (3 0+.×0 2) (M v1 v2) (U v1 v2) ((M×U) v1 v2)"
   ]
  },
  {
   "cell_type": "markdown",
   "id": "253ce213",
   "metadata": {},
   "source": [
    "We saw before that the result of squaring the vector `v` (with magnitude `m`) will be its magnitude squared (`×⍨m`). We must get the same result when using as starting point the decomposition of `v` in perpendicular vectors:\n",
    "\n",
    "    (∆V⍨ v) ≡ ×⍨m\n",
    "    (∆V⍨ v) ≡ ((v1×u1) + v2×u2) ∆V (v1×u1) + v2×u2\n",
    "\n",
    "Developing further this expression, applying the distributive property:\n",
    "\n",
    "    (∆V⍨ v) ≡ (∆V⍨ v1×u1) + ((v1×u1) ∆V v2×u2) + ((v2×u2) ∆V v1×u1) + ∆V⍨ v2×u2\n",
    "\n",
    "And, applying the already known square formula:\n",
    "\n",
    "    (∆V⍨ v) ≡ (×⍨v1) + (v1×v2 × u1 ∆V u2) + (v1×v2 × u2 ∆V u1) + ×⍨v2\n",
    "\n",
    "The value `∆V⍨ v` is also `×⍨m` which, according to [Pythagoras](https://en.wikipedia.org/wiki/Pythagorean_theorem), must be equal to `(×⍨v1) + ×⍨v2`. Therefore:\n",
    "\n",
    "    0 ≡ v1×v2 × (u1 ∆V u2) + u2 ∆V u1\n",
    "    0 ≡ (u1 ∆V u2) + u2 ∆V u1\n",
    "\n",
    "So:\n",
    "\n",
    "    (u1 ∆V u2) ≡ -u2 ∆V u1\n",
    "\n",
    "The product of two perpendicular vectors is anti-commutative. As a particular solution, both `u1 ∆V u2` and `u2 ∆V u2` might be equal to zero. Let's assume they do and see what happens:\n",
    "\n",
    "    (V u) ≡ (V u) ∆ (V v) ∆ (V v)\n",
    "    (V u) ≡((V u) ∆ (V v))∆ (V v)\n",
    "    (V u) ≡             0 ∆ (V v)\n",
    "    (V u) ≡ 0 ⍝ ???\n",
    "    \n",
    "    \n",
    "\n",
    "    (V u) ≡ (V u) ∆ (V v) ∆ (V v)\n",
    "    (V u) ≡ (V v) ∆⍨(V u) ∆ (V v)\n",
    "    0 ≢ (V u) ∆ (V v)"
   ]
  },
  {
   "cell_type": "markdown",
   "id": "30cd80bb",
   "metadata": {},
   "source": [
    " If we defined the product of orthogonal vectors as zero, we would find that the product we are searching for is the dot product (`∆V ← +.×`). Instead, in geometric algebras we will impose that the geometric product of two perpendiculars vectors must be different from zero:\n",
    "\n",
    "    (0 ≢ u +.× v) ∨ 0 ≢ u ∆V v   ⍝ in other words: u (+.×∨⍥(0∘≢)∆V) v\n",
    "    \n",
    "As we will see, this decission has important consequences.\n",
    "\n",
    "### Bivectors\n",
    "\n",
    "It can be convenient, to get an intuitive idea of the geometric properties of multivectors to think in a more tangible example.\n",
    "\n",
    "We may have, for instance, two perpendicular vectors, each of them representing the width and height of a sheet of paper. To calculate the area of the sheet, we calculate the geometric product `h ∆V w`. Since `h` and `w` are perpendicular, the result will be a bivector (the bivector `hw`). It is easy to prove that we will obtain the same result independently of any rotation that we apply to the sheet of paper."
   ]
  },
  {
   "cell_type": "code",
   "execution_count": 25,
   "id": "849a95f2",
   "metadata": {},
   "outputs": [
    {
     "data": {
      "text/html": [
       "<pre class=\"language-APL\">┌──────────┬───────────┬────────────┬───────────┐\n",
       "│          │○0.5       │○1          │○1.5       │\n",
       "├──────────┼───────────┼────────────┼───────────┤\n",
       "│┌──────┐  │┌─────────┐│┌──────┐    │┌─────────┐│\n",
       "││h     │  ││0       h│││w    0│    ││        w││\n",
       "││      │  ││         │││      │    ││         ││\n",
       "││      │  ││w        │││      │    ││h       0││\n",
       "││      │  │└─────────┘││      │    │└─────────┘│\n",
       "││0    w│  │           ││     h│    │           │\n",
       "│└──────┘  │           │└──────┘    │           │\n",
       "├──────────┼───────────┼────────────┼───────────┤\n",
       "│0 h ∆V w 0│h 0 ∆V 0 ¯w│0 ¯h ∆V ¯w 0│¯h 0 ∆V 0 w│\n",
       "├──────────┼───────────┼────────────┼───────────┤\n",
       "│hw        │hw         │hw          │hw         │\n",
       "└──────────┴───────────┴────────────┴───────────┘\n",
       "</pre>"
      ]
     },
     "execution_count": 25,
     "metadata": {},
     "output_type": "execute_result"
    }
   ],
   "source": [
    "⍝ figure\n",
    "ps ls←(5 6⍴'h',¯29↑'0    w')(3 9⍴'0',(¯8↑'h'),¯18↑9↑'w')                   ⍝ portrait and landscape sheets\n",
    "r←' ' '○0.5' '○1' '○1.5' Table ⊂¨ps ls (⌽⊖ps) (⌽⊖ls)\n",
    "r⊣r⍪←'0 h ∆V w 0' 'h 0 ∆V 0 ¯w' '0 ¯h ∆V ¯w 0' '¯h 0 ∆V 0 w' Table ⊂'hw'   ⍝ rotated"
   ]
  },
  {
   "cell_type": "markdown",
   "id": "11ffe336",
   "metadata": {},
   "source": [
    "However, if we flip the sheet, the geometric product will be negative!"
   ]
  },
  {
   "cell_type": "code",
   "execution_count": 26,
   "id": "1bedac06",
   "metadata": {},
   "outputs": [
    {
     "data": {
      "text/html": [
       "<pre class=\"language-APL\">┌───────────┬───────────┬───────────┬────────────┐\n",
       "│⊖          │⊖○0.5      │⊖○1        │⊖○1.5       │\n",
       "├───────────┼───────────┼───────────┼────────────┤\n",
       "│┌──────┐   │┌─────────┐│┌──────┐   │┌─────────┐ │\n",
       "││0    w│   ││w        │││     h│   ││h       0│ │\n",
       "││      │   ││         │││      │   ││         │ │\n",
       "││      │   ││0       h│││      │   ││        w│ │\n",
       "││      │   │└─────────┘││      │   │└─────────┘ │\n",
       "││h     │   │           ││w    0│   │            │\n",
       "│└──────┘   │           │└──────┘   │            │\n",
       "├───────────┼───────────┼───────────┼────────────┤\n",
       "│0 ¯h ∆V w 0│h 0 ∆V 0 w │0 h ∆V ¯w 0│¯h 0 ∆V 0 ¯w│\n",
       "├───────────┼───────────┼───────────┼────────────┤\n",
       "│-hw        │-hw        │-hw        │-hw         │\n",
       "└───────────┴───────────┴───────────┴────────────┘\n",
       "</pre>"
      ]
     },
     "execution_count": 26,
     "metadata": {},
     "output_type": "execute_result"
    }
   ],
   "source": [
    "⍝ figure\n",
    "f←('⊖',¨' ' '○0.5' '○1' '○1.5') Table ⊂∘⊖¨ps ls (⌽⊖ps) (⌽⊖ls)\n",
    "f⊣f⍪←'0 ¯h ∆V w 0' 'h 0 ∆V 0 w' '0 h ∆V ¯w 0' '¯h 0 ∆V 0 ¯w' Table ⊂'-hw'  ⍝ flipped vertically"
   ]
  },
  {
   "cell_type": "markdown",
   "id": "9f28df68",
   "metadata": {},
   "source": [
    "The conclusion is the same if we flip the sheet horizontally instead of vertically:"
   ]
  },
  {
   "cell_type": "code",
   "execution_count": 27,
   "id": "1276767a",
   "metadata": {},
   "outputs": [
    {
     "data": {
      "text/html": [
       "<pre class=\"language-APL\">┌──────────┬───────────┬────────────┬───────────┬───────────┬───────────┬────────────┬───────────┐\n",
       "│          │○0.5       │○1          │○1.5       │⌽○1.5      │⌽○1        │⌽○0.5       │⌽          │\n",
       "├──────────┼───────────┼────────────┼───────────┼───────────┼───────────┼────────────┼───────────┤\n",
       "│┌──────┐  │┌─────────┐│┌──────┐    │┌─────────┐│┌─────────┐│┌──────┐   │┌─────────┐ │┌──────┐   │\n",
       "││h     │  ││0       h│││w    0│    ││        w│││w        │││0    w│   ││h       0│ ││     h│   │\n",
       "││      │  ││         │││      │    ││         │││         │││      │   ││         │ ││      │   │\n",
       "││      │  ││w        │││      │    ││h       0│││0       h│││      │   ││        w│ ││      │   │\n",
       "││      │  │└─────────┘││      │    │└─────────┘│└─────────┘││      │   │└─────────┘ ││      │   │\n",
       "││0    w│  │           ││     h│    │           │           ││h     │   │            ││w    0│   │\n",
       "│└──────┘  │           │└──────┘    │           │           │└──────┘   │            │└──────┘   │\n",
       "├──────────┼───────────┼────────────┼───────────┼───────────┼───────────┼────────────┼───────────┤\n",
       "│0 h ∆V w 0│h 0 ∆V 0 ¯w│0 ¯h ∆V ¯w 0│¯h 0 ∆V 0 w│h 0 ∆V 0 w │0 ¯h ∆V w 0│¯h 0 ∆V 0 ¯w│0 h ∆V ¯w 0│\n",
       "├──────────┼───────────┼────────────┼───────────┼───────────┼───────────┼────────────┼───────────┤\n",
       "│hw        │hw         │hw          │hw         │-hw        │-hw        │-hw         │-hw        │\n",
       "└──────────┴───────────┴────────────┴───────────┴───────────┴───────────┴────────────┴───────────┘\n",
       "</pre>"
      ]
     },
     "execution_count": 27,
     "metadata": {},
     "output_type": "execute_result"
    }
   ],
   "source": [
    "⍝ figure\n",
    "r,h←('⌽',¨'○1.5' '○1' '○0.5' ' ')⍪(⊂1+⍳3)⌷2⌽⌽f  ⍝ flipped horizontally"
   ]
  },
  {
   "cell_type": "markdown",
   "id": "77f06d31",
   "metadata": {},
   "source": [
    "By convention, we decide that a positive area is the one obtained by multiplying height by width (more generally, we impose that the product of a vector of higher dimensions by a vector of lower dimensions is positive). We may as well take the opposite convention and define positive areas as width by height. This would also work but, as it will be clear later, the chosen convention works better with the usual choice of an horizontal axis for one dimension, and APL's right-to-left evaluation rule.\n",
    "\n",
    "Recall that the product of orthonormal vectors must be anticommutative. Indeed, in our example, flipping the sheet is equivalent to swapping the factors of the product:"
   ]
  },
  {
   "cell_type": "code",
   "execution_count": 28,
   "id": "679b189c",
   "metadata": {},
   "outputs": [
    {
     "data": {
      "text/html": [
       "<pre class=\"language-APL\">┌──────────┬───────────┐\n",
       "│          │⌽○1.5      │\n",
       "├──────────┼───────────┤\n",
       "│┌──────┐  │┌─────────┐│\n",
       "││h     │  ││w        ││\n",
       "││      │  ││         ││\n",
       "││      │  ││0       h││\n",
       "││      │  │└─────────┘│\n",
       "││0    w│  │           │\n",
       "│└──────┘  │           │\n",
       "├──────────┼───────────┤\n",
       "│0 h ∆V w 0│h 0 ∆V 0 w │\n",
       "├──────────┼───────────┤\n",
       "│hw        │-hw        │\n",
       "└──────────┴───────────┘\n",
       "</pre>"
      ]
     },
     "execution_count": 28,
     "metadata": {},
     "output_type": "execute_result"
    }
   ],
   "source": [
    "(r,h)[;0 4]"
   ]
  },
  {
   "cell_type": "markdown",
   "id": "233b10f7",
   "metadata": {},
   "source": [
    "This idea can be further extended to higher dimensions. In three dimensions, we will get positive volumes when a positive thickness multiplies a positive area, and negative volumes if one of them is negative. Consequently, a volume is negated when it is turned inside out. For even higher dimensions, the same concepts apply, although it is more difficult to think of intuitive examples."
   ]
  },
  {
   "cell_type": "markdown",
   "id": "779aaaff",
   "metadata": {},
   "source": [
    "## Multivectors\n",
    "\n",
    "The value of the product `y ∆V x` (where `y` and `x` are perpendicular vectors) is not a vector, neither a scalar, it is another entity which we will call a *[bivector](https://en.wikipedia.org/wiki/Bivector)* (eg `yx ← y ∆V x`). Bivectors can be interpreted as oriented planes, just as vectors can be interpreted as oriented segments. If now we take an additional vector `z`, perpendicular to `x` and `y`, and multiply it by the bivector `yx`, the product will be a *[trivector](https://en.wikipedia.org/w/index.php?title=Trivector&redirect=no)* (`zyx`). Trivectors can be interpreted as oriented volumes. More generally, an *[n-vector](https://en.wikipedia.org/wiki/Multivector)* will be the product of a number `n` of vectors perpendicular between them, and can be interpreted as an n-dimensional entity. By extension of this concept, scalars can be considered *0-vectors*.\n",
    "\n",
    "We will call *multivectors* the elements obtained adding n-vectors. When a multivector is the result of adding n-vectors of the same grade `n`, we will say that it is a *homogeneous multivector* of grade `n` (and it can be proved it is an n-vector too). When a multivector is the sum of n-vectors of different grades (all of them with grade `n≤m`), we will call it a *heterogenous multivector* of grade `m`. Each of the individual components of a heterogeneous multivector are homogeneous multivectors. We will call each of these components a *blade*. Therefore, homogeneous multivectors are multivectors with all blades of the same grade. In summary:\n",
    "\n",
    "- 0-vector: scalar\n",
    "- 1-vector: vector (of any number of dimensions)\n",
    "- 2-vector: product of 2 orthogonal 1-vectors (bivector)\n",
    "- 3-vector: product of 3 orthogonal 1-vectors (trivector)\n",
    "- n-vector of grade `n`: product of `n` orthogonal 1-vectors (homogeneous multivector)\n",
    "- multivector of grade `m`: sum of n-vectors with `n≤m` (heterogeneous multivector)\n",
    "- blade of grade `n`: each component of a multivector of grade `m` with `m≥n`\n",
    "\n",
    "It can be proved that multivectors satisfy the properties of vector spaces, including heterogeneous multivectors with blades of different grades. Therefore, we are going to represent multivectors in APL using rank-1 arrays, just as normal vectors.\n",
    "\n",
    "It will be assumed that the component `n` of an array represents the unit multivector obtained multiplying, from left to right, the set of perpendicular unitary vectors corresponding to the ones in the binary representation of `n` (assuming `⎕IO←0`). Therefore, if the unitary vectors have `n` dimensions, the corresponding multivectors will have `2*n` blades, corresponding to all the possible products between the `n` 1-vectors. The unitary blades in binary form will be called *binary unitary blades*, or bub.\n",
    "\n",
    "The `BV` function returns the base vectors and `BB` returns the bub, when given the number of components. `G` returns the grade of a multivector. The grade of each blade is found adding the ones in the corresponding bub. The grade of the multivector is the maximum grade of its blades different from zero. Notice that the grade is not the same as the dimensions, given by `D`. While the grade indicates how many 1-vectors are multiplied, the dimensions correspond to the maximum number of dimensions of those 1-vectors. For instance, the vector `z` is a grade-1 blade of 3 dimensions, and the bivector `zy` is a grade-2 blade of 3 dimensions. Therefore, for every blade, `G≤D`."
   ]
  },
  {
   "cell_type": "code",
   "execution_count": 29,
   "id": "e5623af9",
   "metadata": {},
   "outputs": [
    {
     "data": {
      "text/html": [
       "<pre class=\"language-APL\">┌─────────────────┬───┬───────┬─────┬───┬─────┐\n",
       "│unitary blades   │≢  │bub    │grade│dim│name │\n",
       "├─────────────────┼───┼───────┼─────┼───┼─────┤\n",
       "│┌───────────────┐│┌─┐│┌─────┐│┌─┐  │┌─┐│┌───┐│\n",
       "││1              │││1│││0 0 0│││0│  ││0│││1  ││\n",
       "│├───────────────┤│├─┤│├─────┤│├─┤  │├─┤│├───┤│\n",
       "││0 1            │││2│││0 0 1│││1│  ││1│││x  ││\n",
       "│├───────────────┤│├─┤│├─────┤│├─┤  │├─┤│├───┤│\n",
       "││0 0 1          │││3│││0 1 0│││1│  ││2│││y  ││\n",
       "│├───────────────┤│├─┤│├─────┤│├─┤  │├─┤│├───┤│\n",
       "││0 0 0 1        │││4│││0 1 1│││2│  ││2│││yx ││\n",
       "│├───────────────┤│├─┤│├─────┤│├─┤  │├─┤│├───┤│\n",
       "││0 0 0 0 1      │││5│││1 0 0│││1│  ││3│││z  ││\n",
       "│├───────────────┤│├─┤│├─────┤│├─┤  │├─┤│├───┤│\n",
       "││0 0 0 0 0 1    │││6│││1 0 1│││2│  ││3│││zx ││\n",
       "│├───────────────┤│├─┤│├─────┤│├─┤  │├─┤│├───┤│\n",
       "││0 0 0 0 0 0 1  │││7│││1 1 0│││2│  ││3│││zy ││\n",
       "│├───────────────┤│├─┤│├─────┤│├─┤  │├─┤│├───┤│\n",
       "││0 0 0 0 0 0 0 1│││8│││1 1 1│││3│  ││3│││zyx││\n",
       "│└───────────────┘│└─┘│└─────┘│└─┘  │└─┘│└───┘│\n",
       "└─────────────────┴───┴───────┴─────┴───┴─────┘\n",
       "</pre>"
      ]
     },
     "execution_count": 29,
     "metadata": {},
     "output_type": "execute_result"
    }
   ],
   "source": [
    "BV ← S¨1↑⍨¨∘-1+⍳           ⍝ (B)ase unitary (V)ectors for ⍵ components\n",
    "BB ← ↓∘⍉2⊥⍣¯1⍳             ⍝ (B)inary unitary (B)lades (bub) for ⍵ components\n",
    "G  ← {⌈/+/¨(0≢¨C⍵)/BB≢⍵}   ⍝ (G)rade\n",
    "D  ← ⌈2⍟⌈⍥≢                ⍝ (D)imensions\n",
    "⍝ eg: 3D base vectors\n",
    "d   ← 3                   ⍝ dimensions (3D)\n",
    "bu  ← BV 2*d              ⍝ base unitary multivectors\n",
    "bub ← BB 2*d              ⍝ binary unitary blades\n",
    "id  ← '1',1↓bub/¨⊂'zyx'   ⍝ names\n",
    "'unitary blades' '≢' 'bub' 'grade' 'dim' 'name' Table∘(⍪¨) bu (,∘≢¨bu) bub (,∘G¨bu) (,∘D¨bu) id\n",
    "Assert (G≤D)¨bu"
   ]
  },
  {
   "cell_type": "markdown",
   "id": "faf5d57a",
   "metadata": {},
   "source": [
    "The function `V` takes a vector and returns a multivector (when used dyadically, arbitrary components can be specified):"
   ]
  },
  {
   "cell_type": "code",
   "execution_count": 30,
   "id": "3ce168de",
   "metadata": {},
   "outputs": [
    {
     "data": {
      "text/html": [
       "<pre class=\"language-APL\">┌─────────────────┬─────────────────────────┬─────────────────────────────┐\n",
       "│V 1 2 3 4        │V v                      │3 5 6 V v                    │\n",
       "├─────────────────┼─────────────────────────┼─────────────────────────────┤\n",
       "│0 1 2 0 3 0 0 0 4│┌─┬─────┬──────┬─┬──────┐│┌─┬─┬─┬─────┬─┬──────┬──────┐│\n",
       "│                 ││0│2.091│2.395 │0│2.965 │││0│0│0│2.091│0│2.395 │2.965 ││\n",
       "│                 ││ │2.992│1.062 │ │1.84  │││ │ │ │2.992│ │1.062 │1.84  ││\n",
       "│                 ││ │2.048│0.2925│ │0.5153│││ │ │ │2.048│ │0.2925│0.5153││\n",
       "│                 ││ │1.754│2.754 │ │4.472 │││ │ │ │1.754│ │2.754 │4.472 ││\n",
       "│                 ││ │1.887│2.398 │ │1.623 │││ │ │ │1.887│ │2.398 │1.623 ││\n",
       "│                 │└─┴─────┴──────┴─┴──────┘│└─┴─┴─┴─────┴─┴──────┴──────┘│\n",
       "└─────────────────┴─────────────────────────┴─────────────────────────────┘\n",
       "</pre>"
      ]
     },
     "execution_count": 30,
     "metadata": {},
     "output_type": "execute_result"
    }
   ],
   "source": [
    "V ← {⍺←2*⍳≢⍵ ⋄ v←0⍴⍨1+⌈/,⍺ ⋄ v[⍺]+←(⍴⍺)↑⍵ ⋄ v}   ⍝ multi(V)ector with blades ⍵ at ⍺ (1-vector by default)\n",
    "⍝ eg\n",
    "'V 1 2 3 4' 'V v' '3 5 6 V v' Table (V 1+⍳4) (V v) (3 5 6 V v)\n",
    "Assert 0 1 2 0 3 ≡ V 1 2 3\n",
    "Assert 0 0 1 2 0 0 3 ≡ 2 3 6 V 1 2 3"
   ]
  },
  {
   "cell_type": "markdown",
   "id": "96cf967b",
   "metadata": {},
   "source": [
    "Vectors are created by `V` in two steps. First, a vector of zeros is defined to fit all the given components (with length `1+⌈/,⍺`). Then, that vector is filled adding the elements given as right argument. Notice that, this way, we can also use `V` for sums:"
   ]
  },
  {
   "cell_type": "code",
   "execution_count": 31,
   "id": "912b25ec",
   "metadata": {},
   "outputs": [
    {
     "name": "stderr",
     "output_type": "stream",
     "text": [
      "VALUE ERROR: Undefined name: MV\n",
      "      Assert(+.×⍨v)MV(0⊣_X v)V×⍨v\n",
      "                   ∧\n"
     ]
    }
   ],
   "source": [
    "Assert (+.×⍨v) MV (0⊣_X v)V×⍨ v"
   ]
  },
  {
   "cell_type": "markdown",
   "id": "8cb7fa05",
   "metadata": {},
   "source": [
    "We are also going to define a function `B` to get the blades of a multivector grouped according to their grade (calculated as `+/¨BB≢` instead of using `G`). With a left argument, `B` will return the blades of those grades."
   ]
  },
  {
   "cell_type": "code",
   "execution_count": 32,
   "id": "b1aa229b",
   "metadata": {},
   "outputs": [
    {
     "data": {
      "text/html": [
       "<pre class=\"language-APL\">┌───────────────┬──────┬──────┬────────┬─────────┐\n",
       "│multivector    │scalar│vector│bivector│trivector│\n",
       "├───────────────┼──────┼──────┼────────┼─────────┤\n",
       "│0 1 2 3 4 5 6 7│0     │1 2 4 │3 5 6   │7        │\n",
       "└───────────────┴──────┴──────┴────────┴─────────┘\n",
       "</pre>"
      ]
     },
     "execution_count": 32,
     "metadata": {},
     "output_type": "execute_result"
    }
   ],
   "source": [
    "B ← {b←Z({⊂⊂⍵}⌸+/¨BB≢⍵)⌷¨⊂,⍵ ⋄ ⍺←⍳≢b ⋄ (⊂⍺)⌷(1+⌈/,⍺)X b}   ⍝ return blades from multivector ⍵\n",
    "'multivector' 'scalar' 'vector' 'bivector' 'trivector' Table (⊂⍳8),B⍳8\n",
    "Assert (B⍳8) ≡ (⍳4)(⊃⍤B)¨⊂⍳8"
   ]
  },
  {
   "cell_type": "markdown",
   "id": "aa08d209",
   "metadata": {},
   "source": [
    "## Geometric product of unit blades\n",
    "\n",
    "We are now ready to define the geometric product of multivectors, `∆`. First, we will look at the product of unit blades. We know that the result of squaring a unitary vector is `1`, and therefore the product of orthogonal vectors is anticommutative:\n",
    "\n",
    "    1 ≡ ∆V⍨u                         ⍝ square of unitary vector u is 1\n",
    "    (u +.× v ≡ 0) ∧ u (∆V⍨≡-⍤∆V) v   ⍝ anticommutative product of orthogonal vectors\n",
    "\n",
    "When multiplying multivectors, we only need to apply these two rules. For example (we consider the 3D base defined above):\n",
    "\n",
    "    (yx ∆ x) ≡ (y ∆ x) ∆ x    ⋄  ((y ∆ x) ∆ x) ≡ y ∆ (x ∆ x)      ⋄  (yx ∆ x) ≡  y ∆ 1   ⋄  (yx ∆ x) ≡  y\n",
    "    (yx ∆ y) ≡ (y ∆ x) ∆ y    ⋄  ((y ∆ x) ∆ y) ≡ (-x ∆ y) ∆ y     ⋄  (yx ∆ y) ≡ -x ∆ 1   ⋄  (yx ∆ y) ≡ -x\n",
    "    (∆⍨ yx)  ≡ y ∆ x ∆ y ∆ x  ⋄  (∆⍨ yx)       ≡ - y ∆ x ∆ x ∆ y  ⋄  (∆⍨ yx)  ≡ - y ∆ y  ⋄  (∆⍨ yx)  ≡ ¯1 \n",
    "\n",
    "The same rules apply for more dimensions:\n",
    "\n",
    "    (zyx ∆ yx) ≡ z ∆ yx ∆ yx        ⋄  (zyx ∆ yx) ≡ z ∆ ¯1               ⋄  (zyx ∆ yx) ≡ - z\n",
    "    (zyx ∆ zy) ≡ z ∆ y ∆ x ∆ z ∆ y  ⋄  (zyx ∆ zy) ≡ - z ∆ z ∆ y ∆ x ∆ x  ⋄  (zyx ∆ zy) ≡ - y\n",
    "    (zyx ∆ y)  ≡ z ∆ yx ∆ y         ⋄  (zyx ∆ y)  ≡ z ∆ -x               ⋄  (zyx ∆ y)  ≡ - zx\n",
    "    (∆⍨ zyx)   ≡ z ∆ yx ∆ z ∆ yx    ⋄  (∆⍨ zyx)   ≡ yx ∆ yx              ⋄  (∆⍨zyx)    ≡ ¯1\n",
    "    (zx ∆ yx)  ≡ z ∆ x ∆ y ∆ x      ⋄  (zx ∆ yx)  ≡ z ∆ -y               ⋄  (zx ∆ yx)  ≡ - zy\n",
    "\n",
    "(the square of a bivector or a trivector is `¯1`, so `yx` and `zyx` are solutions to `¯1*0.5`, just like `0j1`!)"
   ]
  },
  {
   "cell_type": "markdown",
   "id": "cd56c53d",
   "metadata": {},
   "source": [
    "### Multiplication table\n",
    "\n",
    "In the example above, we have calculated almost all possible products between unit blades. Let's create a table with all of them. We are going to define a function that, given a number of components, uses the bub to find the multiplication table."
   ]
  },
  {
   "cell_type": "code",
   "execution_count": 33,
   "id": "2f2ded79",
   "metadata": {},
   "outputs": [
    {
     "data": {
      "text/html": [
       "<pre class=\"language-APL\">┌─────┬─────────────────┬─────────────────────────────────────────────────┐\n",
       "│1D   │2D               │3D                                               │\n",
       "├─────┼─────────────────┼─────────────────────────────────────────────────┤\n",
       "│┌─┬─┐│┌───┬───┬───┬───┐│┌─────┬─────┬─────┬─────┬─────┬─────┬─────┬─────┐│\n",
       "││0│1│││0 0│0 1│1 0│1 1│││0 0 0│0 0 1│0 1 0│0 1 1│1 0 0│1 0 1│1 1 0│1 1 1││\n",
       "│└─┴─┘│└───┴───┴───┴───┘│└─────┴─────┴─────┴─────┴─────┴─────┴─────┴─────┘│\n",
       "└─────┴─────────────────┴─────────────────────────────────────────────────┘\n",
       "</pre>"
      ]
     },
     "execution_count": 33,
     "metadata": {},
     "output_type": "execute_result"
    }
   ],
   "source": [
    "⍝ eg\n",
    "⍝ base unitary vectors for 1, 2 and 3 dimensions\n",
    "b1 ← BB 2*1  ⍝ 1D bub: 2*1 elements (scalar, x)\n",
    "b2 ← BB 2*2  ⍝ 2D bub: 2*2 elements (scalar, x, y, yx)\n",
    "b3 ← BB 2*3  ⍝ 3D bub: 2*3 elements (scalar, x, y, yx, z, zx, zy, zyx)\n",
    "'1D' '2D' '3D' Table b1 b2 b3"
   ]
  },
  {
   "cell_type": "markdown",
   "id": "1ba07101",
   "metadata": {},
   "source": [
    "Parallel vectors, when multiplied, result in a scalar value. Therefore, if a 1-vector is in both factors, it will not be present in the product. For example, in:\n",
    "\n",
    "    (zyx ∆ y)  ≡ - zx  ⋄  (zyx ∆ yx) ≡ - z  ⋄  (zx ∆ yx)  ≡ - zy  ⋄  ¯1 ≡ ∆⍨ yx\n",
    "    \n",
    "we see that when a vector (`x`, `y` or `z`) is found in both factors, it does not appear in the result. In other words, each vector will be present in the product if it is in one and only one of the factors. Therefore, to obtain the position of the product of two bub, we first perform a XOR (`≠`), and then convert it back to index value with `2⊥`."
   ]
  },
  {
   "cell_type": "code",
   "execution_count": 34,
   "id": "3e4b59ce",
   "metadata": {},
   "outputs": [
    {
     "data": {
      "text/html": [
       "<pre class=\"language-APL\">┌─────────────────────────────────────────────────┬───────────────┐\n",
       "│∘.≠                                              │∘.(2⊥≠)        │\n",
       "├─────────────────────────────────────────────────┼───────────────┤\n",
       "│┌─────┬─────┬─────┬─────┬─────┬─────┬─────┬─────┐│0 1 2 3 4 5 6 7│\n",
       "││0 0 0│0 0 1│0 1 0│0 1 1│1 0 0│1 0 1│1 1 0│1 1 1││1 0 3 2 5 4 7 6│\n",
       "│├─────┼─────┼─────┼─────┼─────┼─────┼─────┼─────┤│2 3 0 1 6 7 4 5│\n",
       "││0 0 1│0 0 0│0 1 1│0 1 0│1 0 1│1 0 0│1 1 1│1 1 0││3 2 1 0 7 6 5 4│\n",
       "│├─────┼─────┼─────┼─────┼─────┼─────┼─────┼─────┤│4 5 6 7 0 1 2 3│\n",
       "││0 1 0│0 1 1│0 0 0│0 0 1│1 1 0│1 1 1│1 0 0│1 0 1││5 4 7 6 1 0 3 2│\n",
       "│├─────┼─────┼─────┼─────┼─────┼─────┼─────┼─────┤│6 7 4 5 2 3 0 1│\n",
       "││0 1 1│0 1 0│0 0 1│0 0 0│1 1 1│1 1 0│1 0 1│1 0 0││7 6 5 4 3 2 1 0│\n",
       "│├─────┼─────┼─────┼─────┼─────┼─────┼─────┼─────┤│               │\n",
       "││1 0 0│1 0 1│1 1 0│1 1 1│0 0 0│0 0 1│0 1 0│0 1 1││               │\n",
       "│├─────┼─────┼─────┼─────┼─────┼─────┼─────┼─────┤│               │\n",
       "││1 0 1│1 0 0│1 1 1│1 1 0│0 0 1│0 0 0│0 1 1│0 1 0││               │\n",
       "│├─────┼─────┼─────┼─────┼─────┼─────┼─────┼─────┤│               │\n",
       "││1 1 0│1 1 1│1 0 0│1 0 1│0 1 0│0 1 1│0 0 0│0 0 1││               │\n",
       "│├─────┼─────┼─────┼─────┼─────┼─────┼─────┼─────┤│               │\n",
       "││1 1 1│1 1 0│1 0 1│1 0 0│0 1 1│0 1 0│0 0 1│0 0 0││               │\n",
       "│└─────┴─────┴─────┴─────┴─────┴─────┴─────┴─────┘│               │\n",
       "└─────────────────────────────────────────────────┴───────────────┘\n",
       "</pre>"
      ]
     },
     "execution_count": 34,
     "metadata": {},
     "output_type": "execute_result"
    },
    {
     "data": {
      "text/html": [
       "<pre class=\"language-APL\">┌───┬───────┬───────────────┐\n",
       "│1D │2D     │3D             │\n",
       "├───┼───────┼───────────────┤\n",
       "│0 1│0 1 2 3│0 1 2 3 4 5 6 7│\n",
       "│1 0│1 0 3 2│1 0 3 2 5 4 7 6│\n",
       "│   │2 3 0 1│2 3 0 1 6 7 4 5│\n",
       "│   │3 2 1 0│3 2 1 0 7 6 5 4│\n",
       "│   │       │4 5 6 7 0 1 2 3│\n",
       "│   │       │5 4 7 6 1 0 3 2│\n",
       "│   │       │6 7 4 5 2 3 0 1│\n",
       "│   │       │7 6 5 4 3 2 1 0│\n",
       "└───┴───────┴───────────────┘\n",
       "</pre>"
      ]
     },
     "execution_count": 34,
     "metadata": {},
     "output_type": "execute_result"
    },
    {
     "data": {
      "text/html": [
       "<pre class=\"language-APL\">┌─────┬─────────────┬─────────────────────────────────┐\n",
       "│1D   │2D           │3D                               │\n",
       "├─────┼─────────────┼─────────────────────────────────┤\n",
       "│┌─┬─┐│┌──┬──┬──┬──┐│┌───┬───┬───┬───┬───┬───┬───┬───┐│\n",
       "││1│x│││1 │x │y │yx│││1  │x  │y  │yx │z  │zx │zy │zyx││\n",
       "│├─┼─┤│├──┼──┼──┼──┤│├───┼───┼───┼───┼───┼───┼───┼───┤│\n",
       "││x│1│││x │1 │yx│y │││x  │1  │yx │y  │zx │z  │zyx│zy ││\n",
       "│└─┴─┘│├──┼──┼──┼──┤│├───┼───┼───┼───┼───┼───┼───┼───┤│\n",
       "│     ││y │yx│1 │x │││y  │yx │1  │x  │zy │zyx│z  │zx ││\n",
       "│     │├──┼──┼──┼──┤│├───┼───┼───┼───┼───┼───┼───┼───┤│\n",
       "│     ││yx│y │x │1 │││yx │y  │x  │1  │zyx│zy │zx │z  ││\n",
       "│     │└──┴──┴──┴──┘│├───┼───┼───┼───┼───┼───┼───┼───┤│\n",
       "│     │             ││z  │zx │zy │zyx│1  │x  │y  │yx ││\n",
       "│     │             │├───┼───┼───┼───┼───┼───┼───┼───┤│\n",
       "│     │             ││zx │z  │zyx│zy │x  │1  │yx │y  ││\n",
       "│     │             │├───┼───┼───┼───┼───┼───┼───┼───┤│\n",
       "│     │             ││zy │zyx│z  │zx │y  │yx │1  │x  ││\n",
       "│     │             │├───┼───┼───┼───┼───┼───┼───┼───┤│\n",
       "│     │             ││zyx│zy │zx │z  │yx │y  │x  │1  ││\n",
       "│     │             │└───┴───┴───┴───┴───┴───┴───┴───┘│\n",
       "└─────┴─────────────┴─────────────────────────────────┘\n",
       "</pre>"
      ]
     },
     "execution_count": 34,
     "metadata": {},
     "output_type": "execute_result"
    }
   ],
   "source": [
    "PB ← 2⊥≠   ⍝ (P)osition of product of (B)ub\n",
    "⍝ eg\n",
    "'∘.≠' '∘.(2⊥≠)' Table (∘.≠⍨ b3) (∘.(2⊥≠)⍨ b3)\n",
    "'1D' '2D' '3D' Table ∘.PB⍨¨ b1 b2 b3\n",
    "'1D' '2D' '3D' Table (⌷∘id⊂)¨∘.PB⍨¨ b1 b2 b3"
   ]
  },
  {
   "cell_type": "markdown",
   "id": "1af8b899",
   "metadata": {},
   "source": [
    "The n-dimensional table is just a subset of the (n+1)-dimensional table. We also see that the product is closed for a number of dimensions, but not for a number of components.\n",
    "\n",
    "We also need to determine the sign resulting from the operation. By convention, we will assume that a product is positive when vectors of higher dimensions multiply vectors with of lower dimensions from left to right (ie. `0 0 0 1` is `1 0 ∆V 0 1`; the result of `0 1 ∆V 1 0` will be `0 0 0 ¯1`). And remember that we will multiply by `¯1` each time we switch positions. We need to count the number of vectors that are multiplying, by the right, vectors of higher dimensions, and multiply by `¯1` for each of them. Notice that we ignore the first component of the left argument (`1↓⊣`) and the last component of the right one (`¯1↓⊢`)."
   ]
  },
  {
   "cell_type": "code",
   "execution_count": 35,
   "id": "2754b2a9",
   "metadata": {},
   "outputs": [
    {
     "data": {
      "text/html": [
       "<pre class=\"language-APL\">┌─────────┬──────────┬──┬────┐\n",
       "│tzx ∆ uzy│p         │np│¯1*p│\n",
       "├─────────┼──────────┼──┼────┤\n",
       "│┌───────┐│┌────────┐│0 │ 1  │\n",
       "││ tzxuzy│││        ││1 │¯1  │\n",
       "│├───────┤│├────────┤│2 │ 1  │\n",
       "││-txzuzy│││zx ≡ -xz││3 │¯1  │\n",
       "│├───────┤│├────────┤│4 │ 1  │\n",
       "││ txuy  │││uz ≡ -zu││5 │¯1  │\n",
       "│├───────┤│├────────┤│  │    │\n",
       "││-tuxy  │││xu ≡ -ux││  │    │\n",
       "│├───────┤│├────────┤│  │    │\n",
       "││ utxy  │││tu ≡ -ut││  │    │\n",
       "│├───────┤│├────────┤│  │    │\n",
       "││-utyx  │││xy ≡ -yx││  │    │\n",
       "│└───────┘│└────────┘│  │    │\n",
       "└─────────┴──────────┴──┴────┘\n",
       "</pre>"
      ]
     },
     "execution_count": 35,
     "metadata": {},
     "output_type": "execute_result"
    },
    {
     "data": {
      "text/html": [
       "<pre class=\"language-APL\">┌─────────┬─────────┬───────┬─────────┬───────┬───────┬──────────┐\n",
       "│l←tzx    │r←uzy    │ll←1↓l │rr←+\\¯1↓r│ll×rr  │ll+.×rr│¯1*ll+.×rr│\n",
       "├─────────┼─────────┼───────┼─────────┼───────┼───────┼──────────┤\n",
       "│0 1 1 0 1│1 0 1 1 0│1 1 0 1│1 1 2 3  │1 1 0 3│5      │¯1        │\n",
       "└─────────┴─────────┴───────┴─────────┴───────┴───────┴──────────┘\n",
       "</pre>"
      ]
     },
     "execution_count": 35,
     "metadata": {},
     "output_type": "execute_result"
    },
    {
     "data": {
      "text/html": [
       "<pre class=\"language-APL\">┌───┬─────────┬─────────────────────┐\n",
       "│1D │2D       │3D                   │\n",
       "├───┼─────────┼─────────────────────┤\n",
       "│1 1│1 1  1  1│1 1  1  1  1  1  1  1│\n",
       "│1 1│1 1 ¯1 ¯1│1 1 ¯1 ¯1 ¯1 ¯1  1  1│\n",
       "│   │1 1  1  1│1 1  1  1 ¯1 ¯1 ¯1 ¯1│\n",
       "│   │1 1 ¯1 ¯1│1 1 ¯1 ¯1  1  1 ¯1 ¯1│\n",
       "│   │         │1 1  1  1  1  1  1  1│\n",
       "│   │         │1 1 ¯1 ¯1 ¯1 ¯1  1  1│\n",
       "│   │         │1 1  1  1 ¯1 ¯1 ¯1 ¯1│\n",
       "│   │         │1 1 ¯1 ¯1  1  1 ¯1 ¯1│\n",
       "└───┴─────────┴─────────────────────┘\n",
       "</pre>"
      ]
     },
     "execution_count": 35,
     "metadata": {},
     "output_type": "execute_result"
    }
   ],
   "source": [
    "SB ← ¯1*(+\\¯1↓⊢)+.×1↓⊣   ⍝ (S)ign of product of (B)ub\n",
    "⍝ eg\n",
    "l ← 0 1 1 0 1  ⋄  ln ← 'tzx'  ⋄  ll ← 1↓l                 ⍝ left argument\n",
    "r ← 1 0 1 1 0  ⋄  rn ← 'uzy'  ⋄  rr ← +\\¯1↓r              ⍝ right argument\n",
    "s ← ' tzxuzy' '-txzuzy' ' txuy' '-tuxy' ' utxy' '-utyx'   ⍝ sequence\n",
    "p ← ' ' 'zx ≡ -xz' 'uz ≡ -zu' 'xu ≡ -ux' 'tu ≡ -ut' 'xy ≡ -yx'\n",
    "(ln,' ∆ ',rn) 'p' 'np' '¯1*p' Table∘(⍪¨) s p (⍳6) (1 ¯1 1 ¯1 1 ¯1)\n",
    "h ← ('l←',ln) ('r←',rn) 'll←1↓l' 'rr←+\\¯1↓r' 'll×rr' 'll+.×rr' '¯1*ll+.×rr'\n",
    "h Table l r ll rr (ll×rr) (ll+.×rr) (¯1*ll+.×rr)\n",
    "'1D' '2D' '3D' Table ∘.SB⍨¨ b1 b2 b3"
   ]
  },
  {
   "cell_type": "markdown",
   "id": "4b463a62",
   "metadata": {},
   "source": [
    "In fact, we do not need to know the total number of permutations, only its parity, so we can instead use the `≠` function again:"
   ]
  },
  {
   "cell_type": "code",
   "execution_count": 36,
   "id": "c2186157",
   "metadata": {},
   "outputs": [],
   "source": [
    "SB ← ¯1*(≠\\¯1↓⊢)≠.∧1↓⊣   ⍝ (S)ign of product of (B)ub\n",
    "⍝ eg\n",
    "Assert (∘.(¯1*(+\\¯1↓⊢)+.×1↓⊣)⍨¨ ≡ ∘.SB⍨¨) b1 b2 b3"
   ]
  },
  {
   "cell_type": "markdown",
   "id": "748b8c62",
   "metadata": {},
   "source": [
    "This is the function to calculate the multiplication table:"
   ]
  },
  {
   "cell_type": "code",
   "execution_count": 37,
   "id": "9095cf14",
   "metadata": {},
   "outputs": [
    {
     "data": {
      "text/html": [
       "<pre class=\"language-APL\">               ┌┴─┐\n",
       "               ⊢ ┌┴┐\n",
       "                 ⊃ ⍤\n",
       "            ┌──────┴───────┐\n",
       "            /          ┌───┴───┐\n",
       "          ┌─┘          ∘     ┌─┼─┐\n",
       "  ┌───────┼─┐      ┌───┴───┐ 2 * ⊢\n",
       "┌─┴─┐     ¨ ⊢      ⍨     ┌─┴──┐\n",
       "- ┌─┼─┐ ┌─┘      ┌─┘     ∘  ┌─┼─┐\n",
       "  1 + ⊣ ↑ ┌──────┼────┐ ┌┴┐ 2 ⍣ ⍳\n",
       "          .      ⍥    . ↓ ⍉  ┌┴┐\n",
       "        ┌─┴─┐   ┌┴┐ ┌─┴──┐   ⊥ ¯1\n",
       "        ∘ ┌─┼─┐ , ⊂ ∘ ┌──┼─────────┐\n",
       "          2 ⊥ ≠       ¯1 * ┌───────┼────┐\n",
       "                         ┌─┴──┐    .  ┌─┼─┐\n",
       "                         \\ ┌──┼─┐ ┌┴┐ 1 ↓ ⊣\n",
       "                       ┌─┘ ¯1 ↓ ⊢ + ×\n",
       "                       +\n",
       "</pre>"
      ]
     },
     "execution_count": 37,
     "metadata": {},
     "output_type": "execute_result"
    },
    {
     "data": {
      "text/html": [
       "<pre class=\"language-APL\">┌─────────┬──────────────────────────────────┐\n",
       "│1D       │2D                                │\n",
       "├─────────┼──────────────────────────────────┤\n",
       "│┌───┬───┐│┌───────┬───────┬────────┬───────┐│\n",
       "││1  │0 1│││1      │0 1    │0 0 1   │0 0 0 1││\n",
       "│├───┼───┤│├───────┼───────┼────────┼───────┤│\n",
       "││0 1│1  │││0 1    │1      │0 0 0 ¯1│0 0 ¯1 ││\n",
       "│└───┴───┘│├───────┼───────┼────────┼───────┤│\n",
       "│         ││0 0 1  │0 0 0 1│1       │0 1    ││\n",
       "│         │├───────┼───────┼────────┼───────┤│\n",
       "│         ││0 0 0 1│0 0 1  │0 ¯1    │¯1     ││\n",
       "│         │└───────┴───────┴────────┴───────┘│\n",
       "└─────────┴──────────────────────────────────┘\n",
       "</pre>"
      ]
     },
     "execution_count": 37,
     "metadata": {},
     "output_type": "execute_result"
    },
    {
     "data": {
      "text/html": [
       "<pre class=\"language-APL\">┌───────────────────────────────────────┐\n",
       "│3D                                     │\n",
       "├───────────────────────────────────────┤\n",
       "│┌───────────────┬─────────────────────┐│\n",
       "││0 1 2 3 4 5 6 7│1 1  1  1  1  1  1  1││\n",
       "││1 0 3 2 5 4 7 6│1 1 ¯1 ¯1 ¯1 ¯1  1  1││\n",
       "││2 3 0 1 6 7 4 5│1 1  1  1 ¯1 ¯1 ¯1 ¯1││\n",
       "││3 2 1 0 7 6 5 4│1 1 ¯1 ¯1  1  1 ¯1 ¯1││\n",
       "││4 5 6 7 0 1 2 3│1 1  1  1  1  1  1  1││\n",
       "││5 4 7 6 1 0 3 2│1 1 ¯1 ¯1 ¯1 ¯1  1  1││\n",
       "││6 7 4 5 2 3 0 1│1 1  1  1 ¯1 ¯1 ¯1 ¯1││\n",
       "││7 6 5 4 3 2 1 0│1 1 ¯1 ¯1  1  1 ¯1 ¯1││\n",
       "│└───────────────┴─────────────────────┘│\n",
       "└───────────────────────────────────────┘\n",
       "</pre>"
      ]
     },
     "execution_count": 37,
     "metadata": {},
     "output_type": "execute_result"
    }
   ],
   "source": [
    " BB  ← ↓∘⍉2⊥⍣¯1⍳           ⍝ (B)inary unitary (B)lades for multivectors of ⍵ components\n",
    " PB  ← 2⊥≠                 ⍝ (P)osition of product of (B)inary unitary blades\n",
    " SB  ← ¯1*(+\\¯1↓⊢)+.×1↓⊣   ⍝ (S)ign of product of (B)inary unitary blades\n",
    " PS  ← (∘.PB,⍥⊂∘.SB)⍨∘BB   ⍝ (P)osition and (S)ign multiplication tables for multivectors of ⍵ components\n",
    " TD  ← PS(2*⊢)             ⍝ multiplication (T)ables for multivectors of ⍵ (D)imensions\n",
    " BN  ← ⊃((-1+⊣)↑¨⊢)/⍤PS    ⍝ (B)lades multiplication table for multivectors of ⍵ compo(N)ents\n",
    "⊢BD  ← ⊃((-1+⊣)↑¨⊢)/⍤TD    ⍝ (B)lades multiplication table for multivectors of ⍵ (D)imensions\n",
    "⍝ eg\n",
    "'1D' '2D' Table BD¨1 2   ⍝ 1D and 2D blades tables\n",
    "(⊂'3D')Table,⊂TD 3       ⍝ 3D positions and signs tables"
   ]
  },
  {
   "cell_type": "markdown",
   "id": "59c1ca37",
   "metadata": {},
   "source": [
    "## Geometric product of multivectors\n",
    "\n",
    "In general, if we have two multivectors, we will apply the distributive property, so we need to calculate the outer product of its components, then multiply by the multiplication table, and add all the results. Let's see an example:"
   ]
  },
  {
   "cell_type": "code",
   "execution_count": 38,
   "id": "9f4ae39b",
   "metadata": {},
   "outputs": [
    {
     "data": {
      "text/html": [
       "<pre class=\"language-APL\">┌──────────────┬─────────────────┐\n",
       "│u             │v                │\n",
       "├──────────────┼─────────────────┤\n",
       "│4.273 0 0.6168│2.091 2.395 2.965│\n",
       "└──────────────┴─────────────────┘\n",
       "</pre>"
      ]
     },
     "execution_count": 38,
     "metadata": {},
     "output_type": "execute_result"
    },
    {
     "data": {
      "text/html": [
       "<pre class=\"language-APL\">┌────────────────────────┬───────────────────┬────────────────────────────────┐\n",
       "│t                       │u∘.×v              │u(t×∘.×)v                       │\n",
       "├────────────────────────┼───────────────────┼────────────────────────────────┤\n",
       "│┌─────┬───────┬────────┐│8.937 10.24  12.67 │┌────────┬───────────┬─────────┐│\n",
       "││1    │0 1    │0 0 1   ││0      0      0    ││8.937   │0 10.24    │0 0 12.67││\n",
       "│├─────┼───────┼────────┤│1.29   1.477  1.829│├────────┼───────────┼─────────┤│\n",
       "││0 1  │1      │0 0 0 ¯1││                   ││0 0     │0          │0 0 0 0  ││\n",
       "│├─────┼───────┼────────┤│                   │├────────┼───────────┼─────────┤│\n",
       "││0 0 1│0 0 0 1│1       ││                   ││0 0 1.29│0 0 0 1.477│1.829    ││\n",
       "│└─────┴───────┴────────┘│                   │└────────┴───────────┴─────────┘│\n",
       "└────────────────────────┴───────────────────┴────────────────────────────────┘\n",
       "</pre>"
      ]
     },
     "execution_count": 38,
     "metadata": {},
     "output_type": "execute_result"
    },
    {
     "data": {
      "text/html": [
       "<pre class=\"language-APL\">┌───────────────────────┬───────────────────────┐\n",
       "│↑,u(t×∘.×)v            │+⌿↑,u(t×∘.×)v          │\n",
       "├───────────────────────┼───────────────────────┤\n",
       "│8.937  0     0    0    │10.77 10.24 13.96 1.477│\n",
       "│0     10.24  0    0    │                       │\n",
       "│0      0    12.67 0    │                       │\n",
       "│0      0     0    0    │                       │\n",
       "│0      0     0    0    │                       │\n",
       "│0      0     0    0    │                       │\n",
       "│0      0     1.29 0    │                       │\n",
       "│0      0     0    1.477│                       │\n",
       "│1.829  0     0    0    │                       │\n",
       "└───────────────────────┴───────────────────────┘\n",
       "</pre>"
      ]
     },
     "execution_count": 38,
     "metadata": {},
     "output_type": "execute_result"
    }
   ],
   "source": [
    "⍝ eg\n",
    "'uv' Table u1 v1 ← ⊃¨¨u v                                               ⍝ multivectors of 3 components: 1, x, y\n",
    "t ← u1(BN⌈⍥≢)v1                                                         ⍝ multiplication table\n",
    "'t' 'u∘.×v' 'u(t×∘.×)v'       Table t (u1∘.×v1) (u1(t×∘.×)v1)           ⍝ products\n",
    "'↑,u(t×∘.×)v' '+⌿↑,u(t×∘.×)v' Table (↑,u1(t×∘.×)v1) (+⌿↑,u1(t×∘.×)v1)   ⍝ mix and reduce"
   ]
  },
  {
   "cell_type": "markdown",
   "id": "45ca0906",
   "metadata": {},
   "source": [
    "A function to calculate the geometric product of two multivectors can therefore be defined as:"
   ]
  },
  {
   "cell_type": "code",
   "execution_count": 39,
   "id": "7f2c4f08",
   "metadata": {},
   "outputs": [
    {
     "data": {
      "text/html": [
       "<pre class=\"language-APL\">  ┌──┴───┐\n",
       "  ⊢ ┌────┴────┐\n",
       "    ∘   ┌─────┼──────────┐\n",
       "   ┌┴┐  .   ┌─┼─┐        ⍥\n",
       "   ∘ , ┌┴┐  ∘ × ⊢       ┌┴┐\n",
       "  ┌┴┐  ∘ × ┌┴┐          ⍤ ≢\n",
       "  ⌿ ↑      ⍨ ⍴         ┌┴─┐\n",
       "┌─┘      ┌─┘          ┌┴┐ ⌈\n",
       "+        ⍤            ⊃ ⍤\n",
       "        ┌┴┐       ┌─────┴──────┐\n",
       "        ¨ ↑       /            ∘\n",
       "      ┌─┘       ┌─┘        ┌───┴───┐\n",
       "      ⊂ ┌───────┼─┐        ⍨     ┌─┴──┐\n",
       "      ┌─┴─┐     ¨ ⊢      ┌─┘     ∘  ┌─┼─┐\n",
       "      - ┌─┼─┐ ┌─┘ ┌──────┼────┐ ┌┴┐ 2 ⍣ ⍳\n",
       "        1 + ⊣ ↑   .      ⍥    . ↓ ⍉  ┌┴┐\n",
       "                ┌─┴─┐   ┌┴┐ ┌─┴──┐   ⊥ ¯1\n",
       "                ∘ ┌─┼─┐ , ⊂ ∘ ┌──┼─────────┐\n",
       "                  2 ⊥ ≠       ¯1 * ┌───────┼────┐\n",
       "                                 ┌─┴──┐    .  ┌─┼─┐\n",
       "                                 \\ ┌──┼─┐ ┌┴┐ 1 ↓ ⊣\n",
       "                               ┌─┘ ¯1 ↓ ⊢ + ×\n",
       "                               +\n",
       "</pre>"
      ]
     },
     "execution_count": 39,
     "metadata": {},
     "output_type": "execute_result"
    },
    {
     "data": {
      "text/html": [
       "<pre class=\"language-APL\">┌────────────────┬─────────────────────┬─────────────────────────────────────────┐\n",
       "│u               │v                    │u P⍥V v                                  │\n",
       "├────────────────┼─────────────────────┼─────────────────────────────────────────┤\n",
       "│┌─────┬─┬──────┐│┌─────┬──────┬──────┐│┌──────┬─┬─┬────────┬─┬────────┬──────┬─┐│\n",
       "││4.273│0│0.6168│││2.091│2.395 │2.965 │││10.77 │0│0│¯10.24  │0│¯11.38  │ 1.477│0││\n",
       "││1.203│ │2.405 │││2.992│1.062 │1.84  │││ 8.026│0│0│ ¯1.278 │0│  4.982 │ 2.554│0││\n",
       "││1.929│ │0.9094│││2.048│0.2925│0.5153│││ 4.419│0│0│ ¯0.5644│0│  0.8677│ 0.266│0││\n",
       "││1.21 │ │4.783 │││1.754│2.754 │4.472 │││23.51 │0│0│ ¯3.332 │0│  2.979 │13.17 │0││\n",
       "││1.23 │ │2.414 │││1.887│2.398 │1.623 │││ 6.24 │0│0│ ¯2.951 │0│  2.558 │ 5.79 │0││\n",
       "│└─────┴─┴──────┘│└─────┴──────┴──────┘│└──────┴─┴─┴────────┴─┴────────┴──────┴─┘│\n",
       "└────────────────┴─────────────────────┴─────────────────────────────────────────┘\n",
       "</pre>"
      ]
     },
     "execution_count": 39,
     "metadata": {},
     "output_type": "execute_result"
    }
   ],
   "source": [
    "GP ← {t ← ⍺(BN⌈⍥≢)⍵ ⋄ +⌿↑,⍺(t×(⍴t)⊂¨⍤↑∘.×)⍵}   ⍝ geometric product\n",
    "⍝ or as a tacit expression:\n",
    "⊢ P ← +⌿∘↑∘,∘.×(⊂¨⍤↑⍨∘⍴×⊢)BN⍤⌈⍥≢\n",
    "⍝ eg\n",
    "'u' 'v' 'u P⍥V v' Table u v (u P⍥V v)\n",
    "Assert (u P v) ≡ u GP v"
   ]
  },
  {
   "cell_type": "markdown",
   "id": "0e964641",
   "metadata": {},
   "source": [
    "Notice that we enclose the elements of the result of the outer product to allow the multiplication of nested multivectors. We are also going to define an operator `_GP_` that takes as left operand the multiplication function, and as right operand the multiplication table or a function to calculate it:"
   ]
  },
  {
   "cell_type": "code",
   "execution_count": 40,
   "id": "4d2c3441",
   "metadata": {},
   "outputs": [
    {
     "data": {
      "text/html": [
       "<pre class=\"language-APL\">┌─────────┬─────────┬───────────────────┬────────────────────┬─────────┐\n",
       "│v1       │v2       │×_GP               │∘.×_GP              │+.×_GP   │\n",
       "├─────────┼─────────┼───────────────────┼────────────────────┼─────────┤\n",
       "│┌───┬───┐│┌───┬───┐│┌─────┬───┬───┬───┐│┌─────┬───┬───┬────┐│70 0 0 16│\n",
       "││1 2│3 4│││5 6│7 8│││26 44│0 0│0 0│8 8│││26 30│0 0│0 0│8 10││         │\n",
       "│└───┴───┘│└───┴───┘│└─────┴───┴───┴───┘││38 44│0 0│0 0│6  8││         │\n",
       "│         │         │                   │└─────┴───┴───┴────┘│         │\n",
       "└─────────┴─────────┴───────────────────┴────────────────────┴─────────┘\n",
       "</pre>"
      ]
     },
     "execution_count": 40,
     "metadata": {},
     "output_type": "execute_result"
    },
    {
     "data": {
      "text/html": [
       "<pre class=\"language-APL\">                                                                         \n",
       "  v1   ×_GP v2  → 1.6E¯5 |   0% ⎕⎕⎕⎕⎕⎕⎕⎕⎕⎕⎕⎕⎕⎕⎕⎕⎕⎕⎕⎕⎕⎕⎕⎕⎕⎕⎕⎕⎕⎕⎕⎕⎕⎕⎕⎕⎕⎕⎕⎕ \n",
       "* v1   ×_GP2 v2 → 1.3E¯5 | -22% ⎕⎕⎕⎕⎕⎕⎕⎕⎕⎕⎕⎕⎕⎕⎕⎕⎕⎕⎕⎕⎕⎕⎕⎕⎕⎕⎕⎕⎕⎕⎕⎕         \n",
       "</pre>"
      ]
     },
     "execution_count": 40,
     "metadata": {},
     "output_type": "execute_result"
    },
    {
     "data": {
      "text/html": [
       "<pre class=\"language-APL\">                                                                         \n",
       "  v1 ∘.×_GP v2  → 1.7E¯5 |   0% ⎕⎕⎕⎕⎕⎕⎕⎕⎕⎕⎕⎕⎕⎕⎕⎕⎕⎕⎕⎕⎕⎕⎕⎕⎕⎕⎕⎕⎕⎕⎕⎕⎕⎕⎕⎕⎕⎕⎕⎕ \n",
       "* v1 ∘.×_GP2 v2 → 1.5E¯5 | -14% ⎕⎕⎕⎕⎕⎕⎕⎕⎕⎕⎕⎕⎕⎕⎕⎕⎕⎕⎕⎕⎕⎕⎕⎕⎕⎕⎕⎕⎕⎕⎕⎕⎕⎕⎕      \n",
       "</pre>"
      ]
     },
     "execution_count": 40,
     "metadata": {},
     "output_type": "execute_result"
    }
   ],
   "source": [
    "_GP_ ← {t ← ⍺(⍵⍵⍨⍨)⍵ ⋄ +⌿↑,⍺(t×∘⊂¨(⍴t)↑∘.(⍺⍺_Z))⍵}   ⍝ geometric product operator\n",
    "_GP  ← _GP_(BN⌈⍥≢)                                   ⍝ geometric product operator (will compute table)\n",
    "_GP2 ← _GP_(BD 2)                                    ⍝ geometric product 2D (will use precomputed table)\n",
    " GP  ← ×_GP  _V                                      ⍝ geometric product function (will compute table)\n",
    " GP2 ← ×_GP2 _V                                      ⍝ geometric product 2D (will use precomputed table)\n",
    "⍝ eg\n",
    "v1 ← (1 2) (3 4) ⋄ v2 ← (5 6) (7 8)   ⍝ 2D vectors\n",
    "'v1' 'v2' '×_GP' '∘.×_GP' '+.×_GP' Table v1 v2 (v1(×_GP)⍥V v2) (v1(∘.×_GP)⍥V v2) (v1(+.×_GP)⍥V v2)\n",
    "]RunTime 'v1   ×_GP v2' 'v1   ×_GP2 v2' -compare\n",
    "]RunTime 'v1 ∘.×_GP v2' 'v1 ∘.×_GP2 v2' -compare"
   ]
  },
  {
   "cell_type": "markdown",
   "id": "cb0097c2",
   "metadata": {},
   "source": [
    "Using a precomputed table suposes only a small improvement. We will work on the performance of the geometric product later.\n",
    "\n",
    "## Properties of the geometric product\n",
    "\n",
    "As it has been defined, the result of multiplying a vector by its inverse using the geometric product (`GP∘I⍨`) must result in the scalar `1`. Indeed:"
   ]
  },
  {
   "cell_type": "code",
   "execution_count": 41,
   "id": "0fd032f8",
   "metadata": {},
   "outputs": [
    {
     "name": "stderr",
     "output_type": "stream",
     "text": [
      "VALUE ERROR: Undefined name: MV\n",
      "      Assert 1 MV¨(GP∘I⍨)∘V¨u v w\n",
      "               ∧\n"
     ]
    }
   ],
   "source": [
    "Assert 1 MV¨ (GP∘I⍨)∘V¨ u v w"
   ]
  },
  {
   "cell_type": "markdown",
   "id": "3927132f",
   "metadata": {},
   "source": [
    "This is not the only property that a geometric product must fulfill. In fact, we have already used several other properties such as associativity or the distributive property. Let's clearly define the properties of the geometric product:"
   ]
  },
  {
   "cell_type": "code",
   "execution_count": 42,
   "id": "4108a2e1",
   "metadata": {},
   "outputs": [],
   "source": [
    "]dinput\n",
    "_GA ← {                                            ⍝ (G)eometric (A)lgebra\n",
    "    _ ← Assert (a b ← ⍺) VS (u v w ← ⍵)            ⍝ vector space: a b scalars, u v w multivectors\n",
    "    ∆ ← ⍺⍺                                         ⍝ geometric product function\n",
    "    b ← V¨BV⌈/D¨⍵                                  ⍝ unitary vectors (base)\n",
    "                                                   ⍝ properties:\n",
    "    _ ← Assert (a ∆ v)          MV a × v           ⍝   left-product by scalar is scalar product\n",
    "    _ ← Assert (v ∆ a)          MV v × a           ⍝   right-product by scalar is scalar product\n",
    "    _ ← Assert (u ∆ v ∆ w)      MV (u ∆ v) ∆ w     ⍝   associative product\n",
    "    _ ← Assert ((u +_V v) ∆ w)  MV u +_V⍥(∆∘w) v   ⍝   distributive by right\n",
    "    _ ← Assert (u ∆ (v +_V w))  MV v +_V⍥(u∘∆) w   ⍝   distributive by left\n",
    "    _ ← Assert (1⍴⍨≢b)          MV¨∆⍨¨ b           ⍝   unitary vectors square to 1\n",
    "    _ ← Assert                     ∆/1,b           ⍝   the product of orthonormal vectors is not zero\n",
    "    1\n",
    "}"
   ]
  },
  {
   "cell_type": "markdown",
   "id": "a4a7785e",
   "metadata": {},
   "source": [
    "When we have a vector space with a product that follows these properties, we say we have a *geometric algebra*. The operator `_GA` is analogous to `VS`, but takes as operand a geometric product function. If we try the functions we already have:"
   ]
  },
  {
   "cell_type": "code",
   "execution_count": 43,
   "id": "29de2b8f",
   "metadata": {
    "scrolled": true
   },
   "outputs": [
    {
     "name": "stderr",
     "output_type": "stream",
     "text": [
      "VALUE ERROR: Undefined name: MV\n",
      "_GA[5] _←Assert(a ∆ v)MV a×v           ⍝   left-product by scalar is scalar product\n",
      "                      ∧\n",
      "VALUE ERROR: Undefined name: MV\n",
      "_GA[5] _←Assert(a ∆ v)MV a×v           ⍝   left-product by scalar is scalar product\n",
      "                      ∧\n"
     ]
    }
   ],
   "source": [
    "a b (GP  _GA)V¨ u v w   ⍝ geometric algebra with geometric product ∆ (u v w are vectors)\n",
    "a b (GP2 _GA)   u v w   ⍝ geometric algebra with geometric product ∆2 (u v w are multivectors)"
   ]
  },
  {
   "cell_type": "markdown",
   "id": "9710ef51",
   "metadata": {},
   "source": [
    "The `GP` and `GP2` functions are geometric products.\n",
    "\n",
    "Inside `_GA`, we are making sure that the geometric product follows the properties that we have defined. The square of unitary vectors must be one (`(1⍴⍨≢b)MV ∆⍨¨b`). Therefore, as long as the other properties hold, unitary vectors will be their own inverses, and the square of vectors the square of their magnitudes. Moreover, this property is the reason the product of orthonormal vectors is anti-commutative. We also impose that the product of orthonormal vectors cannot be zero. This is checked with `∆/1,b` (`b` is prefixed by a `1` to explicitly allow 0-dimensional spaces). Notice that, due to the scalar property (left and right products by scalar are scalar products), this single condition guarantees that all possible products are not zero. :\n",
    "\n",
    "    0 ≢ zyx  ⋄  0 ≢ z ∆ y ∆ x  ⋄  0 ≢ z ∆ y  ⋄  0 ≢ y ∆ x\n",
    "                0 ≢-z ∆ x ∆ y  ⋄  0 ≢ z ∆ x"
   ]
  },
  {
   "cell_type": "markdown",
   "id": "26a27a27",
   "metadata": {},
   "source": [
    "## Improving the performance of the geometric product\n",
    "\n",
    "The performance of our geometric product can be improved. We can do much better using the `V` function defined before instead of mix and reduce. As we have defined it, `V` can be used to add blades into a multivector. For example, we can use it to calculate the unit blades product table from the tables of positions and signs:"
   ]
  },
  {
   "cell_type": "code",
   "execution_count": 44,
   "id": "79fc1044",
   "metadata": {},
   "outputs": [
    {
     "data": {
      "text/html": [
       "<pre class=\"language-APL\">┌─────────┬──────────────────────────────────┐\n",
       "│1D       │2D                                │\n",
       "├─────────┼──────────────────────────────────┤\n",
       "│┌───┬───┐│┌───────┬───────┬────────┬───────┐│\n",
       "││1  │0 1│││1      │0 1    │0 0 1   │0 0 0 1││\n",
       "│├───┼───┤│├───────┼───────┼────────┼───────┤│\n",
       "││0 1│1  │││0 1    │1      │0 0 0 ¯1│0 0 ¯1 ││\n",
       "│└───┴───┘│├───────┼───────┼────────┼───────┤│\n",
       "│         ││0 0 1  │0 0 0 1│1       │0 1    ││\n",
       "│         │├───────┼───────┼────────┼───────┤│\n",
       "│         ││0 0 0 1│0 0 1  │0 ¯1    │¯1     ││\n",
       "│         │└───────┴───────┴────────┴───────┘│\n",
       "└─────────┴──────────────────────────────────┘\n",
       "</pre>"
      ]
     },
     "execution_count": 44,
     "metadata": {},
     "output_type": "execute_result"
    }
   ],
   "source": [
    "BT ← ⊃V¨/     ⍝ (B)lades from position and sign (T)ables\n",
    "BN  ← BT PS   ⍝ (B)lades multiplication table for (N)umber of components ⍵\n",
    "BD  ← BT TD   ⍝ (B)lades multiplication table for ⍵ (D)imensions\n",
    "⍝ eg\n",
    "'1D' '2D' Table BD¨1 2   ⍝ same result as before"
   ]
  },
  {
   "cell_type": "markdown",
   "id": "2e8732da",
   "metadata": {},
   "source": [
    "And we can also use it in the definition of the geometric product. This is our new version:"
   ]
  },
  {
   "cell_type": "code",
   "execution_count": 45,
   "id": "b0749319",
   "metadata": {},
   "outputs": [
    {
     "data": {
      "text/html": [
       "<pre class=\"language-APL\">┌─────────┬─────────┬───────────────┬────────────────┬─────────┐\n",
       "│v1       │v2       │×_∆            │∘.×_∆           │+.×_∆    │\n",
       "├─────────┼─────────┼───────────────┼────────────────┼─────────┤\n",
       "│┌───┬───┐│┌───┬───┐│┌─────┬─┬─┬───┐│┌─────┬─┬─┬────┐│70 0 0 16│\n",
       "││1 2│3 4│││5 6│7 8│││26 44│0│0│8 8│││26 30│0│0│8 10││         │\n",
       "│└───┴───┘│└───┴───┘│└─────┴─┴─┴───┘││38 44│ │ │6  8││         │\n",
       "│         │         │               │└─────┴─┴─┴────┘│         │\n",
       "└─────────┴─────────┴───────────────┴────────────────┴─────────┘\n",
       "</pre>"
      ]
     },
     "execution_count": 45,
     "metadata": {},
     "output_type": "execute_result"
    },
    {
     "name": "stderr",
     "output_type": "stream",
     "text": [
      "VALUE ERROR: Undefined name: MV\n",
      "_GA[5] _←Assert(a ∆ v)MV a×v           ⍝   left-product by scalar is scalar product\n",
      "                      ∧\n",
      "VALUE ERROR: Undefined name: MV\n",
      "_GA[5] _←Assert(a ∆ v)MV a×v           ⍝   left-product by scalar is scalar product\n",
      "                      ∧\n",
      "VALUE ERROR: Undefined name: MV\n",
      "      Assert(u(∆ MV ∆2)v)\n",
      "                 ∧\n"
     ]
    },
    {
     "data": {
      "text/html": [
       "<pre class=\"language-APL\">┌────────────────────┬─────────────────────────┬─────────────────────────────────────────┐\n",
       "│u                   │v                        │u ∆ v                                    │\n",
       "├────────────────────┼─────────────────────────┼─────────────────────────────────────────┤\n",
       "│┌─┬─────┬─┬─┬──────┐│┌─┬─────┬──────┬─┬──────┐│┌──────┬─┬─┬────────┬─┬────────┬──────┬─┐│\n",
       "││0│4.273│0│0│0.6168│││0│2.091│2.395 │0│2.965 │││10.77 │0│0│¯10.24  │0│¯11.38  │ 1.477│0││\n",
       "││ │1.203│ │ │2.405 │││ │2.992│1.062 │ │1.84  │││ 8.026│ │ │ ¯1.278 │ │  4.982 │ 2.554│ ││\n",
       "││ │1.929│ │ │0.9094│││ │2.048│0.2925│ │0.5153│││ 4.419│ │ │ ¯0.5644│ │  0.8677│ 0.266│ ││\n",
       "││ │1.21 │ │ │4.783 │││ │1.754│2.754 │ │4.472 │││23.51 │ │ │ ¯3.332 │ │  2.979 │13.17 │ ││\n",
       "││ │1.23 │ │ │2.414 │││ │1.887│2.398 │ │1.623 │││ 6.24 │ │ │ ¯2.951 │ │  2.558 │ 5.79 │ ││\n",
       "│└─┴─────┴─┴─┴──────┘│└─┴─────┴──────┴─┴──────┘│└──────┴─┴─┴────────┴─┴────────┴──────┴─┘│\n",
       "└────────────────────┴─────────────────────────┴─────────────────────────────────────────┘\n",
       "</pre>"
      ]
     },
     "execution_count": 45,
     "metadata": {},
     "output_type": "execute_result"
    }
   ],
   "source": [
    "Vo ← {⍺←2*⍳≢⍵ ⋄ v←0⍴⍨1+⌈/,⍺ ⋄ v[⍺]+←(⍴⍺)↑⍵ ⋄ v}   ⍝ multi(V)ector with blades ⍵ at ⍺ (1-vector by default)\n",
    "V ← {⍺←2*⍳≢⍵ ⋄ v←0⍴⍨1+⌈/,a←(r←⍺⌊⍥⍴⍵)↑⍺ ⋄ v[a]+←r↑⍵ ⋄ v}   ⍝ multi(V)ector with blades ⍵ at ⍺ (1-vector by default)\n",
    "⍝V ← {⍺←2*⍳≢⍵ ⋄ a w←⍺⍵↑⍨¨⊂⍺⌊⍥⍴⍵ ⋄ v←0⍴⍨1+⌈/,a ⋄ v[a]+←w ⋄ v}   ⍝ multi(V)ector with blades ⍵ at ⍺ (1-vector by default)\n",
    "V ← {⍺←2*⍳≢⍵ ⋄ a←⍺↑⍨r←⍺⌊⍥⍴⍵ ⋄ v←0⍴⍨1+⌈/,a ⋄ v[a]+←r↑⍵ ⋄ v}   ⍝ multi(V)ector with blades ⍵ at ⍺ (1-vector by default)\n",
    "_Z  ← {⍺←⊢ ⋄ 0∊⍺⍵:0 ⋄ ⍺(⍺⍺)⍵}                       ⍝ result (Z)ero for zero argument\n",
    "_Z  ← {(0≡⍵)∨0≡⍺:0 ⋄ ⍺(⍺⍺)⍵}                       ⍝ result (Z)ero for zero argument\n",
    "⍝_Z  ← {⍺←⊢ ⋄ (0∊⍺⍵)⊃(⍺(⍺⍺)⍵) 0}                       ⍝ result (Z)ero for zero argument\n",
    "⍝_Z  ← {{0}⍣(0∊⍺⍵)⊢⍺(⍺⍺)⍵}                       ⍝ result (Z)ero for zero argument\n",
    "⍝ GEOMETRIC PRODUCT\n",
    "_∆_ ← {p s←⍺(⍵⍵⍨⍨)⍵ ⋄ r←(≢¨⍺⍵)⌊⍴p ⋄ (r↑p)V(r↑s)×r↑⍺∘.(⍺⍺_Z)⍥,⍵}        ⍝ ⍺⍺ product, ⍵⍵ tables or tables func\n",
    "⍝_∆_ ← {p s←⍺(⍵⍵⍨⍨)⍵ ⋄ r←(≢¨⍺⍵)⌊⍴p ⋄ p V(r↑s)×r↑⍺∘.(⍺⍺_Z)⍥,⍵}        ⍝ ⍺⍺ product, ⍵⍵ tables or tables func\n",
    "_∆  ← _∆_(PS⌈⍥≢)                                                       ⍝ ⍺⍺ product (table will be computed)\n",
    " ∆  ← ×_∆                                                              ⍝ geometric product\n",
    " ∆2 ← ×_∆_(TD 2)                                                       ⍝ 2D geometric product\n",
    "⍝ eg\n",
    "'v1' 'v2' '×_∆' '∘.×_∆' '+.×_∆' Table v1 v2 (v1(×_∆)⍥V v2) (v1(∘.×_∆)⍥V v2) (v1(+.×_∆)⍥V v2)\n",
    "Assert a b (∆  _GA)V¨ u v w   ⍝ ∆ is a geometric product\n",
    "Assert a b (∆2 _GA)   u v w   ⍝ ∆2 is a geometric product\n",
    "Assert (u(∆ MV ∆2)v)\n",
    "'u' 'v' 'u ∆ v'  Table (V u) (V v) (u ∆⍥V v)"
   ]
  },
  {
   "cell_type": "markdown",
   "id": "74efa0ba",
   "metadata": {},
   "source": [
    "We have already checked (with the help of `_GA`) that `∆` is a geometric product. Let's check the performance and memory requirements:"
   ]
  },
  {
   "cell_type": "code",
   "execution_count": 46,
   "id": "b3cf0304",
   "metadata": {},
   "outputs": [
    {
     "data": {
      "text/html": [
       "<pre class=\"language-APL\">┌─────────┬─────────┬───────────────────┬────────────────────┬─────────┐\n",
       "│v1       │v2       │×_∆                │∘.×_∆               │+.×_∆    │\n",
       "├─────────┼─────────┼───────────────────┼────────────────────┼─────────┤\n",
       "│┌───┬───┐│┌───┬───┐│┌─────┬───┬───┬───┐│┌─────┬───┬───┬────┐│70 0 0 16│\n",
       "││1 2│3 4│││5 6│7 8│││26 44│0 0│0 0│8 8│││26 30│0 0│0 0│8 10││         │\n",
       "│└───┴───┘│└───┴───┘│└─────┴───┴───┴───┘││38 44│   │   │6  8││         │\n",
       "│         │         │                   │└─────┴───┴───┴────┘│         │\n",
       "└─────────┴─────────┴───────────────────┴────────────────────┴─────────┘\n",
       "</pre>"
      ]
     },
     "execution_count": 46,
     "metadata": {},
     "output_type": "execute_result"
    },
    {
     "data": {
      "text/html": [
       "<pre class=\"language-APL\">                                                                             \n",
       "  u  ∘.×_∆⍥V v      → 5.5E¯5 |   0% ⎕⎕⎕⎕⎕⎕⎕⎕⎕⎕⎕⎕⎕⎕⎕⎕⎕⎕⎕⎕⎕⎕⎕⎕⎕⎕⎕⎕⎕⎕⎕⎕⎕        \n",
       "* u  ∘.×_GP⍥V v     → 6.7E¯5 | +22% ⎕⎕⎕⎕⎕⎕⎕⎕⎕⎕⎕⎕⎕⎕⎕⎕⎕⎕⎕⎕⎕⎕⎕⎕⎕⎕⎕⎕⎕⎕⎕⎕⎕⎕⎕⎕⎕⎕⎕⎕ \n",
       "  u  ∘.×_Z _∆y⍥V v  → 5.8E¯5 |  +5% ⎕⎕⎕⎕⎕⎕⎕⎕⎕⎕⎕⎕⎕⎕⎕⎕⎕⎕⎕⎕⎕⎕⎕⎕⎕⎕⎕⎕⎕⎕⎕⎕⎕⎕       \n",
       "</pre>"
      ]
     },
     "execution_count": 46,
     "metadata": {},
     "output_type": "execute_result"
    },
    {
     "data": {
      "text/html": [
       "<pre class=\"language-APL\">                                                                        \n",
       "  u  ∆3⍥V v   → 2.2E¯5 |    0% ⎕⎕⎕⎕⎕⎕⎕⎕⎕⎕⎕⎕⎕⎕⎕⎕⎕⎕⎕                      \n",
       "* u  GP3⍥V v  → 4.7E¯5 | +116% ⎕⎕⎕⎕⎕⎕⎕⎕⎕⎕⎕⎕⎕⎕⎕⎕⎕⎕⎕⎕⎕⎕⎕⎕⎕⎕⎕⎕⎕⎕⎕⎕⎕⎕⎕⎕⎕⎕⎕⎕ \n",
       "* u  y3⍥V v   → 1.3E¯5 |  -42% ⎕⎕⎕⎕⎕⎕⎕⎕⎕⎕⎕                              \n",
       "</pre>"
      ]
     },
     "execution_count": 46,
     "metadata": {},
     "output_type": "execute_result"
    },
    {
     "data": {
      "text/html": [
       "<pre class=\"language-APL\">                                                                       \n",
       "  us ∆2   vs  → 2.6E¯4 |   0% ⎕⎕⎕⎕⎕⎕⎕⎕⎕⎕⎕⎕⎕⎕⎕⎕⎕⎕⎕⎕⎕⎕⎕⎕⎕⎕⎕⎕⎕⎕⎕⎕⎕⎕⎕⎕     \n",
       "* us GP2   vs → 2.9E¯4 | +11% ⎕⎕⎕⎕⎕⎕⎕⎕⎕⎕⎕⎕⎕⎕⎕⎕⎕⎕⎕⎕⎕⎕⎕⎕⎕⎕⎕⎕⎕⎕⎕⎕⎕⎕⎕⎕⎕⎕⎕⎕ \n",
       "* us y2   vs  → 2.6E¯4 |  -3% ⎕⎕⎕⎕⎕⎕⎕⎕⎕⎕⎕⎕⎕⎕⎕⎕⎕⎕⎕⎕⎕⎕⎕⎕⎕⎕⎕⎕⎕⎕⎕⎕⎕⎕⎕      \n",
       "</pre>"
      ]
     },
     "execution_count": 46,
     "metadata": {},
     "output_type": "execute_result"
    },
    {
     "data": {
      "text/html": [
       "<pre class=\"language-APL\">┌───────────┬────┐\n",
       "│u  ∆3⍥V v  │2868│\n",
       "├───────────┼────┤\n",
       "│u  GP3⍥V v │9140│\n",
       "├───────────┼────┤\n",
       "│u  y3⍥V v  │3308│\n",
       "└───────────┴────┘\n",
       "</pre>"
      ]
     },
     "execution_count": 46,
     "metadata": {},
     "output_type": "execute_result"
    },
    {
     "data": {
      "text/html": [
       "<pre class=\"language-APL\">┌───────────┬──────┐\n",
       "│us ∆2   vs │961236│\n",
       "├───────────┼──────┤\n",
       "│us GP2   vs│961516│\n",
       "├───────────┼──────┤\n",
       "│us y2   vs │990756│\n",
       "└───────────┴──────┘\n",
       "</pre>"
      ]
     },
     "execution_count": 46,
     "metadata": {},
     "output_type": "execute_result"
    }
   ],
   "source": [
    "us vs ← V¨RC∘1e4¨3 4   ⍝ large vectors (3 and 4 components of 10k rows each)\n",
    "_∆y_ ← {p s←⍺(⍵⍵⍨⍨)⍵ ⋄ r←(≢¨⍺⍵)⌊⍴p ⋄ (r↑p)Vo(r↑s)×r↑⍺∘.(⍺⍺)⍥,⍵}    ⍝ ⍺⍺ product, ⍵⍵ tables or tables func\n",
    "_∆y ← _∆y_(PS⌈⍥≢)\n",
    "y3 ← ×_∆y_(TD 3)\n",
    "y2 ← ×_∆y_(TD 2)\n",
    "'v1' 'v2' '×_∆' '∘.×_∆' '+.×_∆' Table v1 v2 (v1(×_∆y)⍥V v2) (v1(∘.×_∆y)⍥V v2) (v1(+.×_∆y)⍥V v2)\n",
    "GP3 ← ×_GP_(BD 3)\n",
    "GP2 ← ×_GP_(BD 2)\n",
    "∆3 ← ×_∆_(TD 3)\n",
    "]RunTime     'u  ∘.×_∆⍥V v ' 'u  ∘.×_GP⍥V v ' 'u  ∘.×_Z _∆y⍥V v ' -compare\n",
    "]RunTime     'u  ∆3⍥V v ' 'u  GP3⍥V v ' 'u  y3⍥V v ' -compare\n",
    "]RunTime     'us ∆2   vs' 'us GP2   vs' 'us y2   vs' -compare\n",
    "]SpaceNeeded 'u  ∆3⍥V v ' 'u  GP3⍥V v ' 'u  y3⍥V v '\n",
    "]SpaceNeeded 'us ∆2   vs' 'us GP2   vs' 'us y2   vs'"
   ]
  },
  {
   "cell_type": "markdown",
   "id": "ab66c195",
   "metadata": {},
   "source": [
    "That's quite faster for small vectors, and much faster for the larger ones. It even needs less space. Of course, when a precomputed multiplication table is not used, it takes a bit longer (and more space), but much less than using `GP`:"
   ]
  },
  {
   "cell_type": "code",
   "execution_count": 47,
   "id": "740713b7",
   "metadata": {},
   "outputs": [
    {
     "data": {
      "text/html": [
       "<pre class=\"language-APL\">                                                                       \n",
       "  u  ∆3⍥V v  → 2.3E¯5 |    0% ⎕⎕⎕⎕⎕⎕⎕⎕⎕                                \n",
       "  u  ∆ ⍥V v  → 5.9E¯5 | +158% ⎕⎕⎕⎕⎕⎕⎕⎕⎕⎕⎕⎕⎕⎕⎕⎕⎕⎕⎕⎕⎕⎕⎕⎕                 \n",
       "* u  GP⍥V v  → 9.7E¯5 | +326% ⎕⎕⎕⎕⎕⎕⎕⎕⎕⎕⎕⎕⎕⎕⎕⎕⎕⎕⎕⎕⎕⎕⎕⎕⎕⎕⎕⎕⎕⎕⎕⎕⎕⎕⎕⎕⎕⎕⎕⎕ \n",
       "</pre>"
      ]
     },
     "execution_count": 47,
     "metadata": {},
     "output_type": "execute_result"
    },
    {
     "data": {
      "text/html": [
       "<pre class=\"language-APL\">                                                                         \n",
       "  us ∆2   vs → 1.0E¯4 |      0%                                          \n",
       "* us ∆    vs → 2.5E¯4 |   +149% ⎕                                        \n",
       "* us GP   vs → 1.0E¯2 | +10064% ⎕⎕⎕⎕⎕⎕⎕⎕⎕⎕⎕⎕⎕⎕⎕⎕⎕⎕⎕⎕⎕⎕⎕⎕⎕⎕⎕⎕⎕⎕⎕⎕⎕⎕⎕⎕⎕⎕⎕⎕ \n",
       "</pre>"
      ]
     },
     "execution_count": 47,
     "metadata": {},
     "output_type": "execute_result"
    },
    {
     "data": {
      "text/html": [
       "<pre class=\"language-APL\">┌──────────┬────┐\n",
       "│u  ∆3⍥V v │2868│\n",
       "├──────────┼────┤\n",
       "│u  ∆ ⍥V v │2940│\n",
       "├──────────┼────┤\n",
       "│u  GP⍥V v │6348│\n",
       "└──────────┴────┘\n",
       "</pre>"
      ]
     },
     "execution_count": 47,
     "metadata": {},
     "output_type": "execute_result"
    },
    {
     "data": {
      "text/html": [
       "<pre class=\"language-APL\">┌──────────┬───────┐\n",
       "│us ∆2   vs│961236 │\n",
       "├──────────┼───────┤\n",
       "│us ∆    vs│1442908│\n",
       "├──────────┼───────┤\n",
       "│us GP   vs│1639300│\n",
       "└──────────┴───────┘\n",
       "</pre>"
      ]
     },
     "execution_count": 47,
     "metadata": {},
     "output_type": "execute_result"
    }
   ],
   "source": [
    "]RunTime     'u  ∆3⍥V v ' 'u  ∆ ⍥V v ' 'u  GP⍥V v ' -compare\n",
    "]RunTime     'us ∆2   vs' 'us ∆    vs' 'us GP   vs' -compare\n",
    "]SpaceNeeded 'u  ∆3⍥V v ' 'u  ∆ ⍥V v ' 'u  GP⍥V v '\n",
    "]SpaceNeeded 'us ∆2   vs' 'us ∆    vs' 'us GP   vs'"
   ]
  },
  {
   "cell_type": "code",
   "execution_count": 48,
   "id": "c8506eb0",
   "metadata": {},
   "outputs": [
    {
     "data": {
      "text/html": [
       "<pre class=\"language-APL\">                                                                       \n",
       "  u  ∆3⍥V v  → 3.9E¯5 |    0% ⎕⎕⎕⎕⎕⎕⎕⎕⎕⎕⎕⎕⎕                            \n",
       "  u  ∆ ⍥V v  → 1.1E¯4 | +172% ⎕⎕⎕⎕⎕⎕⎕⎕⎕⎕⎕⎕⎕⎕⎕⎕⎕⎕⎕⎕⎕⎕⎕⎕⎕⎕⎕⎕⎕⎕⎕⎕⎕⎕       \n",
       "* u  ∆y⍥V v  → 6.3E¯5 |  +61% ⎕⎕⎕⎕⎕⎕⎕⎕⎕⎕⎕⎕⎕⎕⎕⎕⎕⎕⎕⎕                     \n",
       "* u  GP⍥V v  → 1.2E¯4 | +217% ⎕⎕⎕⎕⎕⎕⎕⎕⎕⎕⎕⎕⎕⎕⎕⎕⎕⎕⎕⎕⎕⎕⎕⎕⎕⎕⎕⎕⎕⎕⎕⎕⎕⎕⎕⎕⎕⎕⎕⎕ \n",
       "</pre>"
      ]
     },
     "execution_count": 48,
     "metadata": {},
     "output_type": "execute_result"
    },
    {
     "data": {
      "text/html": [
       "<pre class=\"language-APL\">                                                                         \n",
       "  us ∆2   vs → 1.1E¯4 |      0%                                          \n",
       "* us ∆    vs → 2.6E¯4 |   +138% ⎕                                        \n",
       "* us ∆y   vs → 2.9E¯4 |   +174% ⎕                                        \n",
       "* us GP   vs → 1.1E¯2 | +10232% ⎕⎕⎕⎕⎕⎕⎕⎕⎕⎕⎕⎕⎕⎕⎕⎕⎕⎕⎕⎕⎕⎕⎕⎕⎕⎕⎕⎕⎕⎕⎕⎕⎕⎕⎕⎕⎕⎕⎕⎕ \n",
       "</pre>"
      ]
     },
     "execution_count": 48,
     "metadata": {},
     "output_type": "execute_result"
    },
    {
     "data": {
      "text/html": [
       "<pre class=\"language-APL\">┌──────────┬────┐\n",
       "│u  ∆3⍥V v │2868│\n",
       "├──────────┼────┤\n",
       "│u  ∆y⍥V v │3380│\n",
       "├──────────┼────┤\n",
       "│u  ∆ ⍥V v │2940│\n",
       "├──────────┼────┤\n",
       "│u  GP⍥V v │6348│\n",
       "└──────────┴────┘\n",
       "</pre>"
      ]
     },
     "execution_count": 48,
     "metadata": {},
     "output_type": "execute_result"
    },
    {
     "data": {
      "text/html": [
       "<pre class=\"language-APL\">┌──────────┬───────┐\n",
       "│us ∆2   vs│961236 │\n",
       "├──────────┼───────┤\n",
       "│us ∆y   vs│1479756│\n",
       "├──────────┼───────┤\n",
       "│us ∆    vs│1442908│\n",
       "├──────────┼───────┤\n",
       "│us GP   vs│1639300│\n",
       "└──────────┴───────┘\n",
       "</pre>"
      ]
     },
     "execution_count": 48,
     "metadata": {},
     "output_type": "execute_result"
    }
   ],
   "source": [
    "∆y ← ×_∆y_(PS⌈⍥≢)\n",
    "]RunTime     'u  ∆3⍥V v ' 'u  ∆ ⍥V v ' 'u  ∆y⍥V v ' 'u  GP⍥V v ' -compare\n",
    "]RunTime     'us ∆2   vs' 'us ∆    vs' 'us ∆y   vs' 'us GP   vs' -compare\n",
    "]SpaceNeeded 'u  ∆3⍥V v ' 'u  ∆y⍥V v ' 'u  ∆ ⍥V v ' 'u  GP⍥V v '\n",
    "]SpaceNeeded 'us ∆2   vs' 'us ∆y   vs' 'us ∆    vs' 'us GP   vs'"
   ]
  },
  {
   "cell_type": "markdown",
   "id": "74485cc4",
   "metadata": {},
   "source": [
    "## Products of vectors and blades\n",
    "\n",
    "Finally, we are going to define some additional functions to make it easier to multiply vectors, just for convenience:"
   ]
  },
  {
   "cell_type": "code",
   "execution_count": 49,
   "id": "4197024e",
   "metadata": {},
   "outputs": [
    {
     "data": {
      "text/html": [
       "<pre class=\"language-APL\">┌─┬───┬─────┬─────────┬───────┬───────────┬─────────────┬───────────────┐\n",
       "│ │x  │y    │z        │yx     │zx         │zy           │zyx            │\n",
       "├─┼───┼─────┼─────────┼───────┼───────────┼─────────────┼───────────────┤\n",
       "│1│0 1│0 0 1│0 0 0 0 1│0 0 0 1│0 0 0 0 0 1│0 0 0 0 0 0 1│0 0 0 0 0 0 0 1│\n",
       "└─┴───┴─────┴─────────┴───────┴───────────┴─────────────┴───────────────┘\n",
       "</pre>"
      ]
     },
     "execution_count": 49,
     "metadata": {},
     "output_type": "execute_result"
    }
   ],
   "source": [
    "∆V ← ∆⍥V   ⍝ geometric product of vectors\n",
    "∆v ← ∆∘V   ⍝ geometric product of multivector and vector\n",
    "⍝ eg: 3D unitary blades: scalar, vectors, bivectors, trivector\n",
    "x y z        ← 1 (0 1) (0 0 1)                   ⍝ unitary vectors\n",
    "yx zx zy zyx ← (y z z ∆V¨ x x y),⊂z ∆v⍨ y ∆V x   ⍝ unitary bivectors and trivector\n",
    "' ' 'x' 'y' 'z' 'yx' 'zx' 'zy' 'zyx' Table 1,(V¨x y z),yx zx zy zyx"
   ]
  },
  {
   "cell_type": "markdown",
   "id": "5218fc34",
   "metadata": {},
   "source": [
    "We can use these new functions to study what is the result of multiplying different blades. For instance, we can observe that the product of perpendicular vectors or penpendicular bivectors is anticommutative, but the product of bivectors and orthogonal vectors is commutative:"
   ]
  },
  {
   "cell_type": "code",
   "execution_count": 50,
   "id": "aff4a01e",
   "metadata": {},
   "outputs": [
    {
     "name": "stderr",
     "output_type": "stream",
     "text": [
      "VALUE ERROR: Undefined name: MV\n",
      "      Assert(z ∆V y)MV-y ∆V z\n",
      "                    ∧\n",
      "VALUE ERROR: Undefined name: MV\n",
      "      Assert(y ∆V x)MV-x ∆V y\n",
      "                    ∧\n",
      "VALUE ERROR: Undefined name: MV\n",
      "      Assert(x ∆V z)MV-z ∆V x\n",
      "                    ∧\n",
      "VALUE ERROR: Undefined name: MV\n",
      "      Assert(yx ∆ zy)MV-zy ∆ yx\n",
      "                     ∧\n",
      "VALUE ERROR: Undefined name: MV\n",
      "      Assert(zy ∆ zx)MV-zx ∆ zy\n",
      "                     ∧\n",
      "VALUE ERROR: Undefined name: MV\n",
      "      Assert(zx ∆ yx)MV-yx ∆ zx\n",
      "                     ∧\n"
     ]
    }
   ],
   "source": [
    "⍝ anticommutative product of vector and orthogonal vector\n",
    "Assert (z ∆V y) MV - y ∆V z\n",
    "Assert (y ∆V x) MV - x ∆V y\n",
    "Assert (x ∆V z) MV - z ∆V x\n",
    "⍝ anticommutative product of bivector and orthogonal bivector\n",
    "Assert (yx ∆ zy) MV - zy ∆ yx\n",
    "Assert (zy ∆ zx) MV - zx ∆ zy\n",
    "Assert (zx ∆ yx) MV - yx ∆ zx\n",
    "⍝ commutative product of bivector and orthogonal vector\n",
    "Assert ((V z) ∆ y ∆V x) ≡ z ∆v⍨ y ∆V x\n",
    "Assert ((V y) ∆ z ∆V x) ≡ y ∆v⍨ z ∆V x\n",
    "Assert ((V x) ∆ z ∆V y) ≡ x ∆v⍨ z ∆V y"
   ]
  },
  {
   "cell_type": "markdown",
   "id": "ddb273a2",
   "metadata": {},
   "source": [
    "# Signed geometric algebras\n",
    "\n",
    "## Non-proper vectors\n",
    "\n",
    "Until now, all the vectors that we have considered had the property `(∆⍨ v) ≡ +.×⍨ v`. Consequently, all vectors, when squared, resulted in a positive number (and unitary vectors, in particular, square to `1`). We will call the vectors that square to positive scalars *vectors with positive metric*, or 0<vectors. However, it is possible to find vectors with different square values. They will be called *non-proper vectors*.\n",
    "\n",
    "### Vectors of negative metric\n",
    "\n",
    "For example, let's consider a 3D space and calculate the square value of each of the unit blades."
   ]
  },
  {
   "cell_type": "code",
   "execution_count": 51,
   "id": "7d87fa57",
   "metadata": {},
   "outputs": [
    {
     "data": {
      "text/html": [
       "<pre class=\"language-APL\">┌─────────────────┬───────┬─────┬─────┬──────────────────┬───────┐\n",
       "│unitary blades   │bub    │name │grade│∆⍨                │vector?│\n",
       "├─────────────────┼───────┼─────┼─────┼──────────────────┼───────┤\n",
       "│┌───────────────┐│┌─────┐│┌───┐│0    │┌────────────────┐│1      │\n",
       "││1              │││0 0 0│││1  ││1    ││1               ││1      │\n",
       "│├───────────────┤│├─────┤│├───┤│1    │├────────────────┤│1      │\n",
       "││0 1            │││0 0 1│││x  ││2    ││1 0             ││1      │\n",
       "│├───────────────┤│├─────┤│├───┤│1    │├────────────────┤│1      │\n",
       "││0 0 1          │││0 1 0│││y  ││2    ││1 0 0 0         ││1      │\n",
       "│├───────────────┤│├─────┤│├───┤│2    │├────────────────┤│1      │\n",
       "││0 0 0 1        │││0 1 1│││yx ││3    ││¯1 0 0 0        ││1      │\n",
       "│├───────────────┤│├─────┤│├───┤│     │├────────────────┤│       │\n",
       "││0 0 0 0 1      │││1 0 0│││z  ││     ││1 0 0 0 0 0 0 0 ││       │\n",
       "│├───────────────┤│├─────┤│├───┤│     │├────────────────┤│       │\n",
       "││0 0 0 0 0 1    │││1 0 1│││zx ││     ││¯1 0 0 0 0 0 0 0││       │\n",
       "│├───────────────┤│├─────┤│├───┤│     │├────────────────┤│       │\n",
       "││0 0 0 0 0 0 1  │││1 1 0│││zy ││     ││¯1 0 0 0 0 0 0 0││       │\n",
       "│├───────────────┤│├─────┤│├───┤│     │├────────────────┤│       │\n",
       "││0 0 0 0 0 0 0 1│││1 1 1│││zyx││     ││¯1 0 0 0 0 0 0 0││       │\n",
       "│└───────────────┘│└─────┘│└───┘│     │└────────────────┘│       │\n",
       "└─────────────────┴───────┴─────┴─────┴──────────────────┴───────┘\n",
       "</pre>"
      ]
     },
     "execution_count": 51,
     "metadata": {},
     "output_type": "execute_result"
    }
   ],
   "source": [
    "gr ← G¨bu                ⍝ grades\n",
    "sq ← ∆⍨¨bu               ⍝ squares\n",
    "vs ← (a b VS u v,⊂)¨bu   ⍝ is a vector?\n",
    "'unitary blades' 'bub' 'name' 'grade' '∆⍨' 'vector?' Table∘(⍪¨) bu bub id gr sq vs"
   ]
  },
  {
   "cell_type": "markdown",
   "id": "df97bb7b",
   "metadata": {},
   "source": [
    "As we saw above, some unitary blades (the bivectors and trivectors) have negative squares. Nevertheless, they are vectors according to our definition of vector spaces (as checked by `a b VS u v,⊂`). They will be called *vectors with negative metric*, or 0>vectors. The 0>vectors also fulfill the anticommutative property for orthogonal vectors of the geometric product. However they do not square to `1`, but to `¯1`."
   ]
  },
  {
   "cell_type": "code",
   "execution_count": 52,
   "id": "51cf5029",
   "metadata": {},
   "outputs": [
    {
     "data": {
      "text/html": [
       "<pre class=\"language-APL\">┌───────────────┬──────────────────┬─────────────────┬──────────────────┬──────┐\n",
       "│               │∆⍨                │∆∘(1∘⌽)⍨         │∆⍨∘(1∘⌽)⍨         │∆⍨≡-⍤∆│\n",
       "├───────────────┼──────────────────┼─────────────────┼──────────────────┼──────┤\n",
       "│┌─────────────┐│┌────────────────┐│┌───────────────┐│┌────────────────┐│1     │\n",
       "││0 0 0 1      │││¯1 0 0 0        │││0 0 0 0 0 0 1 0│││0 0 0 0 0 0 ¯1 0││1     │\n",
       "│├─────────────┤│├────────────────┤│├───────────────┤│├────────────────┤│1     │\n",
       "││0 0 0 0 0 1  │││¯1 0 0 0 0 0 0 0│││0 0 0 1 0 0 0 0│││0 0 0 ¯1 0 0 0 0││      │\n",
       "│├─────────────┤│├────────────────┤│├───────────────┤│├────────────────┤│      │\n",
       "││0 0 0 0 0 0 1│││¯1 0 0 0 0 0 0 0│││0 0 0 0 0 1 0 0│││0 0 0 0 0 ¯1 0 0││      │\n",
       "│└─────────────┘│└────────────────┘│└───────────────┘│└────────────────┘│      │\n",
       "└───────────────┴──────────────────┴─────────────────┴──────────────────┴──────┘\n",
       "</pre>"
      ]
     },
     "execution_count": 52,
     "metadata": {},
     "output_type": "execute_result"
    },
    {
     "name": "stderr",
     "output_type": "stream",
     "text": [
      "VALUE ERROR: Undefined name: MV\n",
      "_GA[5] _←Assert(a ∆ v)MV a×v           ⍝   left-product by scalar is scalar product\n",
      "                      ∧\n"
     ]
    }
   ],
   "source": [
    "b3 ← yx zx zy   ⍝ bivectors in 3D\n",
    "' ' '∆⍨' '∆∘(1∘⌽)⍨' '∆⍨∘(1∘⌽)⍨' '∆⍨≡-⍤∆' Table∘(⍪¨) b3 (∆¨⍨b3) (∆¨∘(1∘⌽)⍨b3) (∆⍨¨∘(1∘⌽)⍨b3) ((∆⍨≡-⍤∆)¨∘(1∘⌽)⍨b3)\n",
    "a b (∆ _GA) b3"
   ]
  },
  {
   "cell_type": "markdown",
   "id": "37ea5ac1",
   "metadata": {},
   "source": [
    "Then, we could define a vector space, in which the base is formed by `1` and the bivectors `yx`, `zx` and `zy`, for example (this space would actually be the *[quaternion](https://en.wikipedia.org/wiki/Quaternion_algebra)* space). We will use our geometric product `∆` to calculate the corresponding multiplication table, and the functions `VQ` and `QV` to change of basis between quaternions and 3D multivectors:"
   ]
  },
  {
   "cell_type": "code",
   "execution_count": 53,
   "id": "f8a8b2cc",
   "metadata": {
    "scrolled": false
   },
   "outputs": [
    {
     "data": {
      "text/html": [
       "<pre class=\"language-APL\">┌───────┬─────────────┬─────────────┬───────┐\n",
       "│q      │VQ q         │v            │QV v   │\n",
       "├───────┼─────────────┼─────────────┼───────┤\n",
       "│1 2 3 4│1 0 0 2 0 3 4│1 2 3 4 5 6 7│1 4 6 7│\n",
       "└───────┴─────────────┴─────────────┴───────┘\n",
       "</pre>"
      ]
     },
     "execution_count": 53,
     "metadata": {},
     "output_type": "execute_result"
    },
    {
     "data": {
      "text/html": [
       "<pre class=\"language-APL\">┌───────────────┬──────────────────────────────────────────────────────────────────┐\n",
       "│basis          │∘.∆⍨                                                              │\n",
       "├───────────────┼──────────────────────────────────────────────────────────────────┤\n",
       "│┌─────────────┐│┌─────────────┬────────────────┬────────────────┬────────────────┐│\n",
       "││1            │││1            │0 0 0 1         │0 0 0 0 0 1     │0 0 0 0 0 0 1   ││\n",
       "│├─────────────┤│├─────────────┼────────────────┼────────────────┼────────────────┤│\n",
       "││0 0 0 1      │││0 0 0 1      │¯1 0 0 0        │0 0 0 0 0 0 1 0 │0 0 0 0 0 ¯1 0 0││\n",
       "│├─────────────┤│├─────────────┼────────────────┼────────────────┼────────────────┤│\n",
       "││0 0 0 0 0 1  │││0 0 0 0 0 1  │0 0 0 0 0 0 ¯1 0│¯1 0 0 0 0 0 0 0│0 0 0 1 0 0 0 0 ││\n",
       "│├─────────────┤│├─────────────┼────────────────┼────────────────┼────────────────┤│\n",
       "││0 0 0 0 0 0 1│││0 0 0 0 0 0 1│0 0 0 0 0 1 0 0 │0 0 0 ¯1 0 0 0 0│¯1 0 0 0 0 0 0 0││\n",
       "│└─────────────┘│└─────────────┴────────────────┴────────────────┴────────────────┘│\n",
       "└───────────────┴──────────────────────────────────────────────────────────────────┘\n",
       "</pre>"
      ]
     },
     "execution_count": 53,
     "metadata": {},
     "output_type": "execute_result"
    },
    {
     "data": {
      "text/html": [
       "<pre class=\"language-APL\">┌─────────┬──────────────────────────────────┐\n",
       "│basis    │QV¨∘.∆⍨                           │\n",
       "├─────────┼──────────────────────────────────┤\n",
       "│┌───────┐│┌───────┬────────┬───────┬───────┐│\n",
       "││1      │││1      │0 1     │0 0 1  │0 0 0 1││\n",
       "│├───────┤│├───────┼────────┼───────┼───────┤│\n",
       "││0 1    │││0 1    │¯1      │0 0 0 1│0 0 ¯1 ││\n",
       "│├───────┤│├───────┼────────┼───────┼───────┤│\n",
       "││0 0 1  │││0 0 1  │0 0 0 ¯1│¯1     │0 1    ││\n",
       "│├───────┤│├───────┼────────┼───────┼───────┤│\n",
       "││0 0 0 1│││0 0 0 1│0 0 1   │0 ¯1   │¯1     ││\n",
       "│└───────┘│└───────┴────────┴───────┴───────┘│\n",
       "└─────────┴──────────────────────────────────┘\n",
       "</pre>"
      ]
     },
     "execution_count": 53,
     "metadata": {},
     "output_type": "execute_result"
    }
   ],
   "source": [
    "VQ ← Z∘C 1 ¯2 1 0 1 1\\4∘X   ⍝ multivector from quaternion\n",
    "QV ← Z∘C (⊂0 3 5 6)⌷7∘X     ⍝ quaternion from multivector\n",
    "⍝ eg\n",
    "'q' 'VQ q' 'v' 'QV v' Table (1+⍳4) (VQ 1+⍳4) (1+⍳7) (QV 1+⍳7)   ⍝ change of basis\n",
    "bq ← 1 yx zx zy                                                 ⍝ quaternions base\n",
    "'basis' '∘.∆⍨' Table (⍪bq) (∘.∆⍨bq)                             ⍝ quaternions product table\n",
    "'basis' 'QV¨∘.∆⍨' Table (⍪BV 4) (tq ← QV¨∘.∆⍨bq)                ⍝ change of basis"
   ]
  },
  {
   "cell_type": "markdown",
   "id": "87d6e36b",
   "metadata": {},
   "source": [
    "Having a multiplication table for basis blades, we can use `_GP_` to get a geometric product fuction. Or we could use the 3D multiplication under a change of basis:"
   ]
  },
  {
   "cell_type": "code",
   "execution_count": 54,
   "id": "f235fdd5",
   "metadata": {},
   "outputs": [
    {
     "name": "stderr",
     "output_type": "stream",
     "text": [
      "VALUE ERROR: Undefined name: P3\n",
      "      ∆Q←QV P3⍥VQ      ⍝ 3D geometric product under change of basis\n",
      "            ∧\n"
     ]
    },
    {
     "data": {
      "text/html": [
       "<pre class=\"language-APL\">┌────────────────┬───────────────────────┬──────────────────────┬─────────────────────────────┐\n",
       "│u               │v                      │VQ u                  │VQ v                         │\n",
       "├────────────────┼───────────────────────┼──────────────────────┼─────────────────────────────┤\n",
       "│┌─────┬─┬──────┐│┌─────┬──────┬──────┬─┐│┌─────┬─┬─┬─┬─┬──────┐│┌─────┬─┬─┬──────┬─┬──────┬─┐│\n",
       "││4.273│0│0.6168│││2.091│2.395 │2.965 │5│││4.273│0│0│0│0│0.6168│││2.091│0│0│2.395 │0│2.965 │5││\n",
       "││1.203│ │2.405 │││2.992│1.062 │1.84  │ │││1.203│ │ │ │ │2.405 │││2.992│ │ │1.062 │ │1.84  │ ││\n",
       "││1.929│ │0.9094│││2.048│0.2925│0.5153│ │││1.929│ │ │ │ │0.9094│││2.048│ │ │0.2925│ │0.5153│ ││\n",
       "││1.21 │ │4.783 │││1.754│2.754 │4.472 │ │││1.21 │ │ │ │ │4.783 │││1.754│ │ │2.754 │ │4.472 │ ││\n",
       "││1.23 │ │2.414 │││1.887│2.398 │1.623 │ │││1.23 │ │ │ │ │2.414 │││1.887│ │ │2.398 │ │1.623 │ ││\n",
       "│└─────┴─┴──────┘│└─────┴──────┴──────┴─┘│└─────┴─┴─┴─┴─┴──────┘│└─────┴─┴─┴──────┴─┴──────┴─┘│\n",
       "└────────────────┴───────────────────────┴──────────────────────┴─────────────────────────────┘\n",
       "</pre>"
      ]
     },
     "execution_count": 54,
     "metadata": {},
     "output_type": "execute_result"
    },
    {
     "name": "stderr",
     "output_type": "stream",
     "text": [
      "VALUE ERROR: Undefined name: P3\n",
      "      'u P3⍥VQ v' 'u Pq v'Table(u P3⍥VQ v,5)(u Pq v,5)\n",
      "                                  ∧\n"
     ]
    },
    {
     "data": {
      "text/html": [
       "<pre class=\"language-APL\">* Command Execution Failed: VALUE ERROR: Undefined name: ∆Q\n",
       "</pre>"
      ]
     },
     "execution_count": 54,
     "metadata": {},
     "output_type": "execute_result"
    }
   ],
   "source": [
    "Pq ← ×_GP_ tq _V   ⍝ quaternion product using quaternion table\n",
    "∆Q ← QV P3⍥VQ      ⍝ 3D geometric product under change of basis\n",
    "'u' 'v' 'VQ u' 'VQ v' Table u (v,5) (VQ u) (VQ v,5)\n",
    "'u P3⍥VQ v' 'u Pq v' Table (u P3⍥VQ v,5) (u Pq v,5)\n",
    "]RunTime 'u ∆Q v,5' 'u Pq v,5' -compare"
   ]
  },
  {
   "cell_type": "markdown",
   "id": "2f4c3bd6",
   "metadata": {},
   "source": [
    "However:"
   ]
  },
  {
   "cell_type": "code",
   "execution_count": 55,
   "id": "4ce33383",
   "metadata": {},
   "outputs": [
    {
     "name": "stderr",
     "output_type": "stream",
     "text": [
      "VALUE ERROR: Undefined name: MV\n",
      "_GA[5] _←Assert(a ∆ v)MV a×v           ⍝   left-product by scalar is scalar product\n",
      "                      ∧\n"
     ]
    }
   ],
   "source": [
    "a b (Pq _GA) u v w   ⍝ ERROR: unit vectors must square to 1"
   ]
  },
  {
   "cell_type": "markdown",
   "id": "ecb78db2",
   "metadata": {},
   "source": [
    "But that is only because our definition specifically required that vectors squared to `1`. Our definition of vector inverses, which we came up with intuitively deducing what should be the inverse of a velocity, was a bit shortsighted. It worked well with velocities, but vectors can represent anything as long as the properties defined in `VS` are fulfilled. For example, a vector could represent a rotation, and in that case the inverse should be a rotation in the opposite direction (not a rotation of inverse magnitude). More generally, any blade of a multivector or any linear combination of blades will fulfill the vector space properties and could be part of the base of a vector space. We will fix this using signed geometric algebras.\n",
    "\n",
    "### Null vectors\n",
    "\n",
    "There is another kind of vectors: those ones for which the square is zero. They will be called *null vectors*, or 0=vectors. Null vectors can be obtained adding a trivector and a vector orthogonal to the trivector. For example:"
   ]
  },
  {
   "cell_type": "code",
   "execution_count": 56,
   "id": "336960c5",
   "metadata": {},
   "outputs": [
    {
     "data": {
      "text/html": [
       "<pre class=\"language-APL\">┌───────────────┬─────────────────┬───────────┬─────────────────┬───────────────────────────────┐\n",
       "│zyx            │t                │zyx +.×_V t│n ← zyx + t      │∆⍨ n                           │\n",
       "├───────────────┼─────────────────┼───────────┼─────────────────┼───────────────────────────────┤\n",
       "│0 0 0 0 0 0 0 1│0 0 0 0 0 0 0 0 1│0          │0 0 0 0 0 0 0 1 1│0 0 0 0 0 0 0 0 0 0 0 0 0 0 0 0│\n",
       "└───────────────┴─────────────────┴───────────┴─────────────────┴───────────────────────────────┘\n",
       "</pre>"
      ]
     },
     "execution_count": 56,
     "metadata": {},
     "output_type": "execute_result"
    },
    {
     "name": "stderr",
     "output_type": "stream",
     "text": [
      "assertion failure\n",
      "      Assert 0≡∆⍨n           ⍝ the square of zyx+t is zero\n",
      "      ∧\n",
      "VALUE ERROR: Undefined name: MV\n",
      "_GA[5] _←Assert(a ∆ v)MV a×v           ⍝   left-product by scalar is scalar product\n",
      "                      ∧\n"
     ]
    }
   ],
   "source": [
    "t ← 0,zyx   ⍝ vector orthogonal to zyx\n",
    "n ← zyx,1   ⍝ null vector\n",
    "'zyx' 't' 'zyx +.×_V t' 'n ← zyx + t' '∆⍨ n' Table zyx t (zyx+.×_V t) n (∆⍨n)\n",
    "Assert 0 ≡ zyx +.×_V t   ⍝ zyx and t are perpendicular (dot product zero)\n",
    "Assert 0 ≡ ∆⍨n           ⍝ the square of zyx+t is zero\n",
    "a b (∆ _GA) u v n"
   ]
  },
  {
   "cell_type": "markdown",
   "id": "6b4f3752",
   "metadata": {},
   "source": [
    "We can also use null vectors as the basis of a vector space and define a product table. However, it is starting to get complicated having to change into a basis of 0<vectors. For example, for an algebra with three 0<vectors and one 0=vector, we would need `2` dimensions for the 0<vectors and `3+1` dimensions for the 0=vector. To represent the trivector we will need `2*2+3+1` components, so 64 components multivectors. However, if we directly used a basis with 0=vectors, we would only need 8 components (`2*3`). Signed geometric algebras allow us to define geometric algebra with a basis that contains non-proper vectors."
   ]
  },
  {
   "cell_type": "markdown",
   "id": "a469305f",
   "metadata": {},
   "source": [
    "## Signature\n",
    "\n",
    "We will specify what kind of vectors we are using as the basis of a geometric algebra with the *signature* of the algebra. The signature is a list of up to three numbers: the first one specifies the number of 0<vectors, the second one the number of 0>vectors, and the third one the number of 0=vectors. If there are missing items, it is assumed that there are zero vectors of that kind. A geometric algebra with a specific signature will be called a *signed geometric algebra*.\n",
    "\n",
    "For example, the algebra of quaternions will correspond to a geometric algebra with signature `0 2` (two of the unit quaternions will be vectors that square to `¯1` and the third one the bivector obtained multiplying them). The algebra with a 0<vector and a 0=vector would have the signature `1 0 1`. Other examples of signed geometric algebras will be presented later.\n",
    "\n",
    "We will define a `_GA_` operator analogous to `_GA` but which can also take a signature (as right operand). It makes use of the `QS` function, which will take as argument a signutare and return the metric of the space, ie. the value of the squared vectors."
   ]
  },
  {
   "cell_type": "code",
   "execution_count": 57,
   "id": "e5dc48e9",
   "metadata": {},
   "outputs": [
    {
     "data": {
      "text/html": [
       "<pre class=\"language-APL\">┌───────┬─────────┐\n",
       "│s      │QS s     │\n",
       "├───────┼─────────┤\n",
       "│┌─────┐│┌───────┐│\n",
       "││3    │││1 1 1  ││\n",
       "│├─────┤│├───────┤│\n",
       "││0 2  │││¯1 ¯1  ││\n",
       "│├─────┤│├───────┤│\n",
       "││3 0 1│││1 1 1 0││\n",
       "│├─────┤│├───────┤│\n",
       "││1 1 1│││1 ¯1 0 ││\n",
       "│└─────┘│└───────┘│\n",
       "└───────┴─────────┘\n",
       "</pre>"
      ]
     },
     "execution_count": 57,
     "metadata": {},
     "output_type": "execute_result"
    }
   ],
   "source": [
    "QS ← ⊃1 ¯1 0,.⍴⍨(⊢↑⍨3⌈≢)   ⍝ s(Q)uared vectors for (S)ignature ⍵\n",
    "⍝ eg\n",
    "ss ← 3 (0 2) (3 0 1) (1 1 1)   ⍝ signatures\n",
    "'s' 'QS s' Table (⍪ss) (⍪QS¨ss)\n",
    "Assert (1 ¯1 0) ≡ QS 1 1 1"
   ]
  },
  {
   "cell_type": "code",
   "execution_count": 58,
   "id": "05719c8b",
   "metadata": {},
   "outputs": [],
   "source": [
    "]dinput\n",
    "_GA_ ← {\n",
    "    _ ← Assert (a b ← ⍺)      VS (u v w ← ⍵)         ⍝ vector space: a b scalars, u v w vectors\n",
    "    ∆ ← ⍺⍺                                           ⍝ geometric product\n",
    "    s ← ⍵⍵                                           ⍝ signature\n",
    "    b ← V¨BV+/s                                      ⍝ base unitary vectors, as multivectors\n",
    "                                                     ⍝ properties:\n",
    "    _ ← Assert (a ∆ v)        MV a × v               ⍝   left-product by scalar is scalar product\n",
    "    _ ← Assert (v ∆ a)        MV v × a               ⍝   right-product by scalar is scalar product\n",
    "    _ ← Assert (u ∆ v ∆ w)    MV w ∆⍨ u ∆ v          ⍝   associative product\n",
    "    _ ← Assert (u ∆ v +_V w)  MV (u ∆ v) +_V u ∆ w   ⍝   distributive by left\n",
    "    _ ← Assert (w ∆⍨ u +_V v) MV (u ∆ w) +_V v ∆ w   ⍝   distributive by right\n",
    "    _ ← Assert (QS s)         MV  ∆⍨¨ b              ⍝   squared vectors given by signature\n",
    "    _ ← Assert ∆/1,b                                 ⍝   non-zero product of base (orthonormal) vectors\n",
    "    1\n",
    "}"
   ]
  },
  {
   "cell_type": "code",
   "execution_count": 59,
   "id": "5c8dbfb3",
   "metadata": {},
   "outputs": [
    {
     "name": "stderr",
     "output_type": "stream",
     "text": [
      "VALUE ERROR: Undefined name: MV\n",
      "_GA_[6] _←Assert(a ∆ v)MV a×v               ⍝   left-product by scalar is scalar product\n",
      "                       ∧\n"
     ]
    }
   ],
   "source": [
    "a b (Pq _GA_ 0 2) u v w"
   ]
  },
  {
   "cell_type": "markdown",
   "id": "0767279f",
   "metadata": {},
   "source": [
    "Quaternions are a signed geometric algebra."
   ]
  },
  {
   "cell_type": "markdown",
   "id": "81cc9406",
   "metadata": {},
   "source": [
    "## Signed geometric product\n",
    "\n",
    "Instead of finding the multiplication table using multivectors with a potentially large number of additional dimensions, we will directly calculate it using the signature. The `BS` function returns the bub given the signature. We also define a new operator `_SQ` to find a multiplication factor for each bub product. We need to check if two bub's being multiplied contain the same vector (`⍺∧⍵`), and multiply by the corresponding squared value (given by `QS`). The `TS` function is analogous to `TD`, but it takes as argument a signature."
   ]
  },
  {
   "cell_type": "code",
   "execution_count": 60,
   "id": "d49c6a43",
   "metadata": {},
   "outputs": [
    {
     "data": {
      "text/html": [
       "<pre class=\"language-APL\">┌───────────────────┬────────────────────┬───────────────────┐\n",
       "│2                  │0 2                 │1 0 1              │\n",
       "├───────────────────┼────────────────────┼───────────────────┤\n",
       "│┌───────┬─────────┐│┌───────┬──────────┐│┌───────┬─────────┐│\n",
       "││0 1 2 3│1 1  1  1│││0 1 2 3│1  1  1  1│││0 1 2 3│1 1  1  1││\n",
       "││1 0 3 2│1 1 ¯1 ¯1│││1 0 3 2│1 ¯1 ¯1  1│││1 0 3 2│1 1 ¯1 ¯1││\n",
       "││2 3 0 1│1 1  1  1│││2 3 0 1│1  1 ¯1 ¯1│││2 3 0 1│1 1  0  0││\n",
       "││3 2 1 0│1 1 ¯1 ¯1│││3 2 1 0│1 ¯1  1 ¯1│││3 2 1 0│1 1  0  0││\n",
       "│└───────┴─────────┘│└───────┴──────────┘│└───────┴─────────┘│\n",
       "└───────────────────┴────────────────────┴───────────────────┘\n",
       "</pre>"
      ]
     },
     "execution_count": 60,
     "metadata": {},
     "output_type": "execute_result"
    },
    {
     "data": {
      "text/html": [
       "<pre class=\"language-APL\">┌───────────────────────────────────────┬─────────────────────────────────────┐\n",
       "│3                                      │1 1 1                                │\n",
       "├───────────────────────────────────────┼─────────────────────────────────────┤\n",
       "│┌───────────────┬─────────────────────┐│┌───────────────┬───────────────────┐│\n",
       "││0 1 2 3 4 5 6 7│1 1  1  1  1  1  1  1│││0 1 2 3 4 5 6 7│1 1  1  1  1  1 1 1││\n",
       "││1 0 3 2 5 4 7 6│1 1 ¯1 ¯1 ¯1 ¯1  1  1│││1 0 3 2 5 4 7 6│1 1 ¯1 ¯1 ¯1 ¯1 1 1││\n",
       "││2 3 0 1 6 7 4 5│1 1  1  1 ¯1 ¯1 ¯1 ¯1│││2 3 0 1 6 7 4 5│1 1 ¯1 ¯1 ¯1 ¯1 1 1││\n",
       "││3 2 1 0 7 6 5 4│1 1 ¯1 ¯1  1  1 ¯1 ¯1│││3 2 1 0 7 6 5 4│1 1  1  1  1  1 1 1││\n",
       "││4 5 6 7 0 1 2 3│1 1  1  1  1  1  1  1│││4 5 6 7 0 1 2 3│1 1  1  1  0  0 0 0││\n",
       "││5 4 7 6 1 0 3 2│1 1 ¯1 ¯1 ¯1 ¯1  1  1│││5 4 7 6 1 0 3 2│1 1 ¯1 ¯1  0  0 0 0││\n",
       "││6 7 4 5 2 3 0 1│1 1  1  1 ¯1 ¯1 ¯1 ¯1│││6 7 4 5 2 3 0 1│1 1 ¯1 ¯1  0  0 0 0││\n",
       "││7 6 5 4 3 2 1 0│1 1 ¯1 ¯1  1  1 ¯1 ¯1│││7 6 5 4 3 2 1 0│1 1  1  1  0  0 0 0││\n",
       "│└───────────────┴─────────────────────┘│└───────────────┴───────────────────┘│\n",
       "└───────────────────────────────────────┴─────────────────────────────────────┘\n",
       "</pre>"
      ]
     },
     "execution_count": 60,
     "metadata": {},
     "output_type": "execute_result"
    }
   ],
   "source": [
    " BS ← BB(2*+/)                      ⍝ (B)inary unitary blades from (S)ignature\n",
    "_SQ ← {(⍺SB⍵)×(⌽⍺⍺)×.*⍺∧⍵}          ⍝ (S)ign that multiplies product. ⍺⍺: s(Q)uared vectors, ⍺ ⍵ bub\n",
    " TS ← {(∘.PB,⍥⊂∘.((QS⍵)_SQ))⍨BS⍵}   ⍝ multiplication (T)able from (S)ignature\n",
    "⍝ eg\n",
    "'2' '0 2' '1 0 1' Table TS¨2 (0 2) (1 0 1)   ⍝ multiplication tables for some 2D algebras\n",
    "'3' '1 1 1'       Table TS¨3 (1 1 1)         ⍝ multiplication tables for some 3D algebras"
   ]
  },
  {
   "cell_type": "markdown",
   "id": "c3031869",
   "metadata": {},
   "source": [
    "We can directly use the tables generated by `TS` with the `_∆_` operator previously defined:"
   ]
  },
  {
   "cell_type": "code",
   "execution_count": 61,
   "id": "19ac23e1",
   "metadata": {},
   "outputs": [
    {
     "data": {
      "text/html": [
       "<pre class=\"language-APL\">┌───┬─────┬────────┬───────────────────────────┐\n",
       "│i  │j    │k       │∘.∆Q                       │\n",
       "├───┼─────┼────────┼───────────────────────────┤\n",
       "│0 1│0 0 1│0 0 0 ¯1│┌───────┬────────┬────────┐│\n",
       "│   │     │        ││¯1 0   │0 0 0 ¯1│0 0 ¯1 0││\n",
       "│   │     │        │├───────┼────────┼────────┤│\n",
       "│   │     │        ││0 0 0 1│¯1 0 0 0│0 1 0 0 ││\n",
       "│   │     │        │├───────┼────────┼────────┤│\n",
       "│   │     │        ││0 0 1 0│0 ¯1 0 0│¯1 0 0 0││\n",
       "│   │     │        │└───────┴────────┴────────┘│\n",
       "└───┴─────┴────────┴───────────────────────────┘\n",
       "</pre>"
      ]
     },
     "execution_count": 61,
     "metadata": {},
     "output_type": "execute_result"
    }
   ],
   "source": [
    "_∆Q ← _∆_(TS 0 2)   ⍝ quaternion product operator\n",
    " ∆Q ← ×_∆Q          ⍝ quaternion product\n",
    "i j ← V¨ 1 (0 1) ⋄ k ← i ∆Q j                 ⍝ quaternion units\n",
    "'i' 'j' 'k' '∘.∆Q' Table i j k (∘.∆Q⍨i j k)   ⍝ quaternions multiplication table"
   ]
  },
  {
   "cell_type": "markdown",
   "id": "c3520f4f",
   "metadata": {},
   "source": [
    "And, now, it is easy to define different geometric algebras:"
   ]
  },
  {
   "cell_type": "code",
   "execution_count": 62,
   "id": "38104205",
   "metadata": {},
   "outputs": [
    {
     "name": "stderr",
     "output_type": "stream",
     "text": [
      "VALUE ERROR: Undefined name: MV\n",
      "_GA_[6] _←Assert(a ∆ v)MV a×v               ⍝   left-product by scalar is scalar product\n",
      "                       ∧\n",
      "VALUE ERROR: Undefined name: MV\n",
      "_GA_[6] _←Assert(a ∆ v)MV a×v               ⍝   left-product by scalar is scalar product\n",
      "                       ∧\n",
      "LENGTH ERROR: Mismatched left and right argument shapes\n",
      "VS[9] _←Assert(a×v)E v×a           ⍝   commutative product with scalars\n",
      "                      ∧\n"
     ]
    }
   ],
   "source": [
    "⍝ geometric algebras\n",
    "Assert a b (∆Q _GA_ 0 2) i j k\n",
    "Assert a b (×_∆_(TS 1 1 1)_GA_ 1 1 1) V¨ u v w\n",
    "Assert a b (×_∆_(TS 3 0 1)_GA_ 3 0 1) V¨ u (v,1 RC 10) w"
   ]
  },
  {
   "cell_type": "markdown",
   "id": "9f8c0a3b",
   "metadata": {},
   "source": [
    "## Additional functions\n",
    "\n",
    "### Exterior and inner products\n",
    "\n",
    "There are other products that we can define, derived from the geometric product. The *exterior product* (which comes from [Grassman algebra](https://en.wikipedia.org/wiki/Exterior_algebra)) allows the formation of higher-dimensional entities when applied to orthonormal vectors, like the geometric product, but is always zero for parallel vectors. On the contrary, the *inner product* is equal to the geometric product for parallel vectors (and, therefore, equal to the dot product for proper vectors), but is zero for orthonormal vectors. The inner and exterior product are very useful to perform geometric operations.\n",
    "\n",
    "We are going to define two operators. The monadic operator `_∆I` takes as operand a signature and applies the corresponding interior product (it directly uses `×` and `+/` instead of using the geometric product for simplicity). The dyadic operator `_∆X_` also takes a signature (as right argument), but also a product. It will apply the corresponding exterior product to the given arguments. It does this calculating a multiplication table for a signature in which all vectors are null vectors (therefore, their product will always be zero)."
   ]
  },
  {
   "cell_type": "code",
   "execution_count": 63,
   "id": "7fc0258f",
   "metadata": {},
   "outputs": [
    {
     "data": {
      "text/html": [
       "<pre class=\"language-APL\">┌─────┬───────────────────────────────────────────┐\n",
       "│∘.∆I │∘.∆X                                       │\n",
       "├─────┼───────────────────────────────────────────┤\n",
       "│1 0 0│┌───────────┬─────────────┬───────────────┐│\n",
       "│0 1 0││0 0        │0 0 0 ¯1     │0 0 0 0 0 ¯1   ││\n",
       "│0 0 1│├───────────┼─────────────┼───────────────┤│\n",
       "│     ││0 0 0 1    │0 0 0 0      │0 0 0 0 0 0 ¯1 ││\n",
       "│     │├───────────┼─────────────┼───────────────┤│\n",
       "│     ││0 0 0 0 0 1│0 0 0 0 0 0 1│0 0 0 0 0 0 0 0││\n",
       "│     │└───────────┴─────────────┴───────────────┘│\n",
       "└─────┴───────────────────────────────────────────┘\n",
       "</pre>"
      ]
     },
     "execution_count": 63,
     "metadata": {},
     "output_type": "execute_result"
    },
    {
     "data": {
      "text/html": [
       "<pre class=\"language-APL\">┌─────────────┬───────────────────────────────────────────┐\n",
       "│∘.(1 1 1 _∆I)│∘.(1 1 1 _∆X)                              │\n",
       "├─────────────┼───────────────────────────────────────────┤\n",
       "│1  0 0       │┌───────────┬─────────────┬───────────────┐│\n",
       "│0 ¯1 0       ││0 0        │0 0 0 ¯1     │0 0 0 0 0 ¯1   ││\n",
       "│0  0 0       │├───────────┼─────────────┼───────────────┤│\n",
       "│             ││0 0 0 1    │0 0 0 0      │0 0 0 0 0 0 ¯1 ││\n",
       "│             │├───────────┼─────────────┼───────────────┤│\n",
       "│             ││0 0 0 0 0 1│0 0 0 0 0 0 1│0 0 0 0 0 0 0 0││\n",
       "│             │└───────────┴─────────────┴───────────────┘│\n",
       "└─────────────┴───────────────────────────────────────────┘\n",
       "</pre>"
      ]
     },
     "execution_count": 63,
     "metadata": {},
     "output_type": "execute_result"
    }
   ],
   "source": [
    "_∆X ← {⍺(×_∆_(TS 0 0,+/⍺(⍺⍺⍨⍨)⍵))⍵}    ⍝ e(X)terior product\n",
    "_∆I ← {+/(0 0⍉⊃⌽TS⍺(⍺⍺⍨⍨)⍵)×_X⍺×_X⍵}   ⍝ (I)nner product\n",
    "∆X ← D _∆X                             ⍝ exterior 3D product\n",
    "∆I ← D _∆I                             ⍝ inner 3D product\n",
    "⍝ eg\n",
    "'∘.∆I' '∘.∆X' Table (∘.∆I⍨ V¨ x y z) (∘.∆X⍨ V¨ x y z)\n",
    "'∘.(1 1 1 _∆I)' '∘.(1 1 1 _∆X)' Table (∘.(1 1 1 _∆I)⍨ V¨ x y z) (∘.(1 1 1 _∆X)⍨ V¨ x y z)"
   ]
  },
  {
   "cell_type": "markdown",
   "id": "eaca8371",
   "metadata": {},
   "source": [
    "Alternatively, we could have defined the inner and exterior products in basis of the geometric product:"
   ]
  },
  {
   "cell_type": "code",
   "execution_count": 64,
   "id": "210eda15",
   "metadata": {},
   "outputs": [
    {
     "name": "stderr",
     "output_type": "stream",
     "text": [
      "VALUE ERROR: Undefined name: MV\n",
      "      Assert∘.((∆I MV 2÷⍨∆+_V ∆⍨)⍥V)⍨u v w\n",
      "                   ∧\n",
      "VALUE ERROR: Undefined name: MV\n",
      "      Assert∘.((∆X MV 2÷⍨∆-_V ∆⍨)⍥V)⍨u v w\n",
      "                   ∧\n"
     ]
    }
   ],
   "source": [
    "Assert ∘.((∆I MV 2÷⍨∆+_V ∆⍨)⍥V)⍨ u v w\n",
    "Assert ∘.((∆X MV 2÷⍨∆-_V ∆⍨)⍥V)⍨ u v w"
   ]
  },
  {
   "cell_type": "markdown",
   "id": "e63c2e7b",
   "metadata": {},
   "source": [
    "The exterior and inner products, when added together, define the geometric product:"
   ]
  },
  {
   "cell_type": "code",
   "execution_count": 65,
   "id": "393d6a9f",
   "metadata": {
    "scrolled": false
   },
   "outputs": [
    {
     "name": "stderr",
     "output_type": "stream",
     "text": [
      "VALUE ERROR: Undefined name: MV\n",
      "      Assert∘.((∆ MV ∆I+_V ∆X)⍥V)⍨u v w\n",
      "                  ∧\n"
     ]
    }
   ],
   "source": [
    "Assert ∘.((∆ MV ∆I +_V ∆X)⍥V)⍨ u v w"
   ]
  },
  {
   "cell_type": "markdown",
   "id": "2672512c",
   "metadata": {},
   "source": [
    "So that we can use precomputed tables"
   ]
  },
  {
   "cell_type": "code",
   "execution_count": 66,
   "id": "ebc7de28",
   "metadata": {},
   "outputs": [
    {
     "data": {
      "text/html": [
       "<pre class=\"language-APL\">┌─────┬───────────────────────────────────────────┐\n",
       "│∘.∆I │∘.∆X                                       │\n",
       "├─────┼───────────────────────────────────────────┤\n",
       "│1 0 0│┌───────────┬─────────────┬───────────────┐│\n",
       "│0 1 0││0 0        │0 0 0 ¯1     │0 0 0 0 0 ¯1   ││\n",
       "│0 0 1│├───────────┼─────────────┼───────────────┤│\n",
       "│     ││0 0 0 1    │0 0 0 0      │0 0 0 0 0 0 ¯1 ││\n",
       "│     │├───────────┼─────────────┼───────────────┤│\n",
       "│     ││0 0 0 0 0 1│0 0 0 0 0 0 1│0 0 0 0 0 0 0 0││\n",
       "│     │└───────────┴─────────────┴───────────────┘│\n",
       "└─────┴───────────────────────────────────────────┘\n",
       "</pre>"
      ]
     },
     "execution_count": 66,
     "metadata": {},
     "output_type": "execute_result"
    },
    {
     "data": {
      "text/html": [
       "<pre class=\"language-APL\">┌─────────────┬───────────────────────────────────────────┐\n",
       "│∘.(1 1 1 _∆I)│∘.(×_∆X_ 1 1 1)                            │\n",
       "├─────────────┼───────────────────────────────────────────┤\n",
       "│1 0 0        │┌───────────┬─────────────┬───────────────┐│\n",
       "│0 1 0        ││0 0        │0 0 0 ¯1     │0 0 0 0 0 ¯1   ││\n",
       "│0 0 0        │├───────────┼─────────────┼───────────────┤│\n",
       "│             ││0 0 0 1    │0 0 0 0      │0 0 0 0 0 0 ¯1 ││\n",
       "│             │├───────────┼─────────────┼───────────────┤│\n",
       "│             ││0 0 0 0 0 1│0 0 0 0 0 0 1│0 0 0 0 0 0 0 0││\n",
       "│             │└───────────┴─────────────┴───────────────┘│\n",
       "└─────────────┴───────────────────────────────────────────┘\n",
       "</pre>"
      ]
     },
     "execution_count": 66,
     "metadata": {},
     "output_type": "execute_result"
    },
    {
     "name": "stderr",
     "output_type": "stream",
     "text": [
      "VALUE ERROR: Undefined name: MV\n",
      "      Assert∘.((∆I MV 2÷⍨∆+_V ∆⍨)⍥V)⍨u v w\n",
      "                   ∧\n",
      "VALUE ERROR: Undefined name: MV\n",
      "      Assert∘.((∆X MV 2÷⍨∆-_V ∆⍨)⍥V)⍨u v w\n",
      "                   ∧\n",
      "VALUE ERROR: Undefined name: MV\n",
      "      Assert∘.((∆ MV ∆I+_V ∆X)⍥V)⍨u v w\n",
      "                  ∧\n"
     ]
    }
   ],
   "source": [
    "⍝ inner product\n",
    " TI ← 0 0⍉∘⊃⌽∘TS           ⍝ (T)able for (I)nner product\n",
    "_∆I ← {+/⍺(⍺⍺×_X×_X)⍵}     ⍝ (I)nner product, ⍺⍺ is table\n",
    " ∆I ← TI⍤D _∆I             ⍝ (I)nner product\n",
    "⍝ exterior product\n",
    " TX  ← TS 0 0,+/           ⍝ (T)able for e(X)terior product\n",
    "_∆X_ ← {⍺(⍺⍺_∆_(TX⍵⍵))⍵}   ⍝ e(X)terior product, ⍺⍺ is product function, ⍵⍵ is signature\n",
    "_∆X  ← _∆_(TX⍤D)           ⍝ e(X)terior product, ⍺⍺ is product function\n",
    " ∆X  ← ×_∆X                ⍝ e(X)terior product\n",
    "⍝ eg\n",
    "'∘.∆I' '∘.∆X' Table (∘.∆I⍨ V¨ x y z) (∘.∆X⍨ V¨ x y z)\n",
    "'∘.(1 1 1 _∆I)' '∘.(×_∆X_ 1 1 1)' Table (∘.(1 1 1 _∆I)⍨ V¨ x y z) (∘.(×_∆X_ 1 1 1)⍨ V¨ x y z)\n",
    "Assert ∘.((∆I MV 2÷⍨∆+_V ∆⍨)⍥V)⍨ u v w\n",
    "Assert ∘.((∆X MV 2÷⍨∆-_V ∆⍨)⍥V)⍨ u v w\n",
    "Assert ∘.((∆  MV  ∆I +_V ∆X)⍥V)⍨ u v w"
   ]
  },
  {
   "cell_type": "code",
   "execution_count": 67,
   "id": "6c1d3f10",
   "metadata": {
    "scrolled": false
   },
   "outputs": [
    {
     "data": {
      "text/html": [
       "<pre class=\"language-APL\">┌───────┬───────────────────────────────────────────┐\n",
       "│∘.∆I   │∘.∆X                                       │\n",
       "├───────┼───────────────────────────────────────────┤\n",
       "│┌─┬─┬─┐│┌───────────┬─────────────┬───────────────┐│\n",
       "││1│0│0│││0 0        │0 0 0 ¯1     │0 0 0 0 0 ¯1   ││\n",
       "│├─┼─┼─┤│├───────────┼─────────────┼───────────────┤│\n",
       "││0│1│0│││0 0 0 1    │0 0 0 0      │0 0 0 0 0 0 ¯1 ││\n",
       "│├─┼─┼─┤│├───────────┼─────────────┼───────────────┤│\n",
       "││0│0│1│││0 0 0 0 0 1│0 0 0 0 0 0 1│0 0 0 0 0 0 0 0││\n",
       "│└─┴─┴─┘│└───────────┴─────────────┴───────────────┘│\n",
       "└───────┴───────────────────────────────────────────┘\n",
       "</pre>"
      ]
     },
     "execution_count": 67,
     "metadata": {},
     "output_type": "execute_result"
    },
    {
     "name": "stderr",
     "output_type": "stream",
     "text": [
      "VALUE ERROR: Undefined name: MV\n",
      "      Assert∘.((∆I MV 2÷⍨∆+_V ∆⍨)⍥V)⍨u v w\n",
      "                   ∧\n",
      "VALUE ERROR: Undefined name: MV\n",
      "      Assert∘.((∆X MV 2÷⍨∆-_V ∆⍨)⍥V)⍨u v w\n",
      "                   ∧\n",
      "VALUE ERROR: Undefined name: MV\n",
      "      Assert∘.((∆ MV ∆I+_V ∆X)⍥V)⍨u v w\n",
      "                  ∧\n"
     ]
    }
   ],
   "source": [
    "⍝ inner product\n",
    " TI ← 0 0⍉∘⊃⌽∘TS                ⍝ (T)able for (I)nner product\n",
    "_∆I_ ← {0 V _X⍺(⍵⍵×_X⍺⍺¨_X)⍵}   ⍝ (I)nner product, ⍺⍺ is multiplication, ⍵⍵ is table\n",
    "_∆I  ← _∆I_(TI⍤D)               ⍝ (I)nner product, ⍺⍺ is multiplication, ⍵⍵ is table\n",
    " ∆I  ← ×_∆I                     ⍝ (I)nner product\n",
    "⍝ exterior product\n",
    " TX  ← TS 0 0,+/                ⍝ (T)able for e(X)terior product\n",
    "_∆X_ ← {⍺(⍺⍺_∆_(TX⍵⍵))⍵}        ⍝ e(X)terior product, ⍺⍺ is product function, ⍵⍵ is signature\n",
    "_∆X  ← _∆_(TX⍤D)                ⍝ e(X)terior product, ⍺⍺ is product function\n",
    " ∆X  ← ×_∆X                     ⍝ e(X)terior product\n",
    "⍝ eg\n",
    "'∘.∆I' '∘.∆X' Table (∘.∆I⍨ V¨ x y z) (∘.∆X⍨ V¨ x y z)\n",
    "⍝'∘.(1 1 1 _∆I)' '∘.(×_∆X_ 1 1 1)' Table (∘.(1 1 1 _∆I)⍨ V¨ x y z) (∘.(×_∆X_ 1 1 1)⍨ V¨ x y z)\n",
    "Assert ∘.((∆I MV 2÷⍨∆+_V ∆⍨)⍥V)⍨ u v w\n",
    "Assert ∘.((∆X MV 2÷⍨∆-_V ∆⍨)⍥V)⍨ u v w\n",
    "Assert ∘.((∆  MV  ∆I +_V ∆X)⍥V)⍨ u v w"
   ]
  },
  {
   "cell_type": "markdown",
   "id": "e3af4723",
   "metadata": {},
   "source": [
    "### Reverses and complements\n",
    "\n",
    "The [reverse](http://rigidgeometricalgebra.org/wiki/index.php?title=Reverses) is a linear operation, so it can be applied component by component. The reverse of a blade of grade n that constitutes the product of n 1-vectors is the result of multiplying those same n 1-vectors in the reverse order (from right to left instead of from left to right). The result is that each blade must be multiplied by `1` or by `¯1`. This can be calculated simply as the result of squaring each blade (`SB⍨BB`):"
   ]
  },
  {
   "cell_type": "code",
   "execution_count": 68,
   "id": "b97a7c2b",
   "metadata": {},
   "outputs": [
    {
     "data": {
      "text/html": [
       "<pre class=\"language-APL\">┌───────────────────┬─────────────────────┐\n",
       "│i                  │R i                  │\n",
       "├───────────────────┼─────────────────────┤\n",
       "│┌───┬─┬──┬───┬────┐│┌───┬─┬───┬────┬────┐│\n",
       "││0.1│1│21│321│4321│││0.1│1│¯21│¯321│4321││\n",
       "││   │2│31│421│    │││   │2│¯31│¯421│    ││\n",
       "││   │3│32│431│    │││   │3│¯32│¯431│    ││\n",
       "││   │4│41│432│    │││   │4│¯41│¯432│    ││\n",
       "││   │ │42│   │    │││   │ │¯42│    │    ││\n",
       "││   │ │43│   │    │││   │ │¯43│    │    ││\n",
       "│└───┴─┴──┴───┴────┘│└───┴─┴───┴────┴────┘│\n",
       "└───────────────────┴─────────────────────┘\n",
       "</pre>"
      ]
     },
     "execution_count": 68,
     "metadata": {},
     "output_type": "execute_result"
    },
    {
     "name": "stderr",
     "output_type": "stream",
     "text": [
      "VALUE ERROR: Undefined name: MV\n",
      "      Assert MV∘R∘R⍨¨i u v w   ⍝ reverse of reverse is the same\n",
      "             ∧\n"
     ]
    }
   ],
   "source": [
    "R ← ×∘(SB⍨¨BB∘≢)⍨   ⍝ (R)everse\n",
    "⍝ eg\n",
    "i←0.1,⍎¨1↓(↓↑BB 16)(⊢⍤/¨)⊂'4321'\n",
    "'i' 'R i' Table (⍪¨B)¨ i (R i)\n",
    "Assert MV∘R∘R⍨¨ i u v w   ⍝ reverse of reverse is the same"
   ]
  },
  {
   "cell_type": "markdown",
   "id": "1150d0d8",
   "metadata": {},
   "source": [
    "Like reverses, [complements](http://rigidgeometricalgebra.org/wiki/index.php?title=Complements) are linear operations. The left complement of a unitary blade is the unitary blade that multiplied by the left will result in the *pseudoscalar*. The pseudoscalar for n dimensions is the last blade, corresponding to the product of n 1-vectors. Its right complement is the unitary blade that multiplied by the right will result in the pseudoscalar. And the double complement can be calculated either as the result of applying twice the left complement or as the result of applying twice the right complement.\n",
    "\n",
    "Before defining the functions to find the complement, we define an operator `_C` which calculates the products using the given function. The left and righ complements are then found using as operand either the geometric product, or its reverse:"
   ]
  },
  {
   "cell_type": "code",
   "execution_count": 69,
   "id": "8bc56b16",
   "metadata": {},
   "outputs": [
    {
     "data": {
      "text/html": [
       "<pre class=\"language-APL\">┌───────────────────┬──────────────────────┬─────────────────────┬─────────────────────┐\n",
       "│i                  │LC i                  │RC i                 │DC i                 │\n",
       "├───────────────────┼──────────────────────┼─────────────────────┼─────────────────────┤\n",
       "│┌───┬─┬──┬───┬────┐│┌────┬────┬───┬──┬───┐│┌───┬─┬───┬────┬────┐│┌───┬──┬──┬────┬────┐│\n",
       "││0.1│1│21│321│4321│││4321│¯432│ 43│¯4│0.1│││0.1│1│¯21│¯321│4321│││0.1│¯1│21│¯321│4321││\n",
       "││   │2│31│421│    │││    │ 431│¯42│ 3│   │││   │2│¯31│¯421│    │││   │¯2│31│¯421│    ││\n",
       "││   │3│32│431│    │││    │¯421│ 41│¯2│   │││   │3│¯32│¯431│    │││   │¯3│32│¯431│    ││\n",
       "││   │4│41│432│    │││    │ 321│ 32│ 1│   │││   │4│¯41│¯432│    │││   │¯4│41│¯432│    ││\n",
       "││   │ │42│   │    │││    │    │¯31│  │   │││   │ │¯42│    │    │││   │  │42│    │    ││\n",
       "││   │ │43│   │    │││    │    │ 21│  │   │││   │ │¯43│    │    │││   │  │43│    │    ││\n",
       "│└───┴─┴──┴───┴────┘│└────┴────┴───┴──┴───┘│└───┴─┴───┴────┴────┘│└───┴──┴──┴────┴────┘│\n",
       "└───────────────────┴──────────────────────┴─────────────────────┴─────────────────────┘\n",
       "</pre>"
      ]
     },
     "execution_count": 69,
     "metadata": {},
     "output_type": "execute_result"
    },
    {
     "name": "stderr",
     "output_type": "stream",
     "text": [
      "VALUE ERROR: Undefined name: MV\n",
      "      Assert p MV∘(∆⍨∘LC⍨)¨bu         ⍝ Left-product by LC is pseudoscalar\n",
      "               ∧\n",
      "VALUE ERROR: Undefined name: MV\n",
      "      Assert p MV∘(∆∘RC⍨)¨bu          ⍝ right-product by LC is pseudoscalar\n",
      "               ∧\n",
      "VALUE ERROR: Undefined name: MV\n",
      "      Assert(zyx MV ∆⍨∘(3∘LC)⍨)¨bu   ⍝ left-product by 8∘LC is the 3D pseudoscalar\n",
      "                 ∧\n",
      "VALUE ERROR: Undefined name: MV\n",
      "      Assert(zyx MV ∆∘(3∘LC)⍨)¨bu    ⍝ right-product by 8∘LC is the 3D pseudoscalar\n",
      "                 ∧\n",
      "VALUE ERROR: Undefined name: MV\n",
      "      Assert MV∘RC∘LC⍨¨u v w         ⍝ right complement of left complement is the same\n",
      "             ∧\n",
      "VALUE ERROR: Undefined name: MV\n",
      "      Assert(DC MV RC⍣2)¨u v w      ⍝ double left complement and double right complement are the same\n",
      "                ∧\n"
     ]
    }
   ],
   "source": [
    "_C ← {⍺←D⍵ ⋄ (⌽(2*⍺)X⍵)×_V+/⍤⍺⍺¨∘⌽⍨BV≢(2*⍺)X⍵}   ⍝ (C)omplement\n",
    "LC ← ∆ _C                                        ⍝ (L)eft complement\n",
    "RC ← ∆⍨_C                                        ⍝ (R)ight complement\n",
    "DC ← LC⍣2                                        ⍝ (D)ouble complement\n",
    "⍝ eg\n",
    "'i' 'LC i' 'RC i' 'DC i' Table (⍪¨B)¨ i (LC i) (R i) (DC i)\n",
    "p  ← (1↑⍨∘-2*∘⌈2⍟≢)¨bu          ⍝ pseudoscalars\n",
    "Assert p MV∘(∆⍨∘LC⍨)¨bu         ⍝ Left-product by LC is pseudoscalar\n",
    "Assert p MV∘(∆∘RC⍨)¨bu          ⍝ right-product by LC is pseudoscalar\n",
    "Assert (zyx MV ∆⍨∘(3∘LC)⍨)¨bu   ⍝ left-product by 8∘LC is the 3D pseudoscalar\n",
    "Assert (zyx MV ∆∘(3∘LC)⍨)¨bu    ⍝ right-product by 8∘LC is the 3D pseudoscalar\n",
    "Assert MV∘RC∘LC⍨¨ u v w         ⍝ right complement of left complement is the same\n",
    "Assert (DC MV RC⍣2)¨ u v w      ⍝ double left complement and double right complement are the same"
   ]
  },
  {
   "cell_type": "code",
   "execution_count": 70,
   "id": "fb4d0c90",
   "metadata": {},
   "outputs": [
    {
     "data": {
      "text/html": [
       "<pre class=\"language-APL\">┌───────────────────┬──────────────────────┬─────────────────────┬─────────────────────┐\n",
       "│i                  │LC i                  │RC i                 │DC i                 │\n",
       "├───────────────────┼──────────────────────┼─────────────────────┼─────────────────────┤\n",
       "│┌───┬─┬──┬───┬────┐│┌────┬────┬───┬──┬───┐│┌───┬─┬───┬────┬────┐│┌───┬──┬──┬────┬────┐│\n",
       "││0.1│1│21│321│4321│││4321│¯432│ 43│¯4│0.1│││0.1│1│¯21│¯321│4321│││0.1│¯1│21│¯321│4321││\n",
       "││   │2│31│421│    │││    │ 431│¯42│ 3│   │││   │2│¯31│¯421│    │││   │¯2│31│¯421│    ││\n",
       "││   │3│32│431│    │││    │¯421│ 41│¯2│   │││   │3│¯32│¯431│    │││   │¯3│32│¯431│    ││\n",
       "││   │4│41│432│    │││    │ 321│ 32│ 1│   │││   │4│¯41│¯432│    │││   │¯4│41│¯432│    ││\n",
       "││   │ │42│   │    │││    │    │¯31│  │   │││   │ │¯42│    │    │││   │  │42│    │    ││\n",
       "││   │ │43│   │    │││    │    │ 21│  │   │││   │ │¯43│    │    │││   │  │43│    │    ││\n",
       "│└───┴─┴──┴───┴────┘│└────┴────┴───┴──┴───┘│└───┴─┴───┴────┴────┘│└───┴──┴──┴────┴────┘│\n",
       "└───────────────────┴──────────────────────┴─────────────────────┴─────────────────────┘\n",
       "</pre>"
      ]
     },
     "execution_count": 70,
     "metadata": {},
     "output_type": "execute_result"
    },
    {
     "name": "stderr",
     "output_type": "stream",
     "text": [
      "VALUE ERROR: Undefined name: MV\n",
      "      Assert p MV∘(∆⍨∘LC⍨)¨bu         ⍝ Left-product by LC is pseudoscalar\n",
      "               ∧\n",
      "VALUE ERROR: Undefined name: MV\n",
      "      Assert p MV∘(∆∘RC⍨)¨bu          ⍝ right-product by LC is pseudoscalar\n",
      "               ∧\n",
      "VALUE ERROR: Undefined name: MV\n",
      "      Assert(zyx MV ∆⍨∘(3∘LC)⍨)¨bu   ⍝ left-product by 8∘LC is the 3D pseudoscalar\n",
      "                 ∧\n",
      "VALUE ERROR: Undefined name: MV\n",
      "      Assert(zyx MV ∆∘(3∘LC)⍨)¨bu    ⍝ right-product by 8∘LC is the 3D pseudoscalar\n",
      "                 ∧\n",
      "VALUE ERROR: Undefined name: MV\n",
      "      Assert MV∘RC∘LC⍨¨u v w         ⍝ right complement of left complement is the same\n",
      "             ∧\n",
      "VALUE ERROR: Undefined name: MV\n",
      "      Assert(DC MV RC⍣2)¨u v w      ⍝ double left complement and double right complement are the same\n",
      "                ∧\n"
     ]
    }
   ],
   "source": [
    "_TC ← {+/⍤⍺⍺¨∘⌽⍨⍤BV≢⍵}          ⍝ (T)able of (C)omplements. ⍺⍺: product\n",
    "_C  ← {⍺←D⍵ ⋄ (⍺⍺×_V⌽)⍵X⍨2*⍺}   ⍝ (C)omplement. ⍺⍺: table\n",
    "LC ← ∆ _TC _C                   ⍝ (L)eft complement\n",
    "RC ← ∆⍨_TC _C                   ⍝ (R)ight complement\n",
    "DC ← LC⍣2                       ⍝ (D)ouble complement\n",
    "⍝ eg\n",
    "'i' 'LC i' 'RC i' 'DC i' Table (⍪¨B)¨ i (LC i) (R i) (DC i)\n",
    "p ← (1↑⍨∘-2*D)¨bu               ⍝ pseudoscalars\n",
    "Assert p MV∘(∆⍨∘LC⍨)¨bu         ⍝ Left-product by LC is pseudoscalar\n",
    "Assert p MV∘(∆∘RC⍨)¨bu          ⍝ right-product by LC is pseudoscalar\n",
    "Assert (zyx MV ∆⍨∘(3∘LC)⍨)¨bu   ⍝ left-product by 8∘LC is the 3D pseudoscalar\n",
    "Assert (zyx MV ∆∘(3∘LC)⍨)¨bu    ⍝ right-product by 8∘LC is the 3D pseudoscalar\n",
    "Assert MV∘RC∘LC⍨¨ u v w         ⍝ right complement of left complement is the same\n",
    "Assert (DC MV RC⍣2)¨ u v w      ⍝ double left complement and double right complement are the same"
   ]
  },
  {
   "cell_type": "markdown",
   "id": "013c2609",
   "metadata": {},
   "source": [
    "### Antiproducts\n",
    "\n",
    "[De Morgan laws](https://rigidgeometricalgebra.org/wiki/index.php?title=Geometric_products#De_Morgan_Laws)"
   ]
  },
  {
   "cell_type": "code",
   "execution_count": 71,
   "id": "1075db03",
   "metadata": {},
   "outputs": [
    {
     "name": "stderr",
     "output_type": "stream",
     "text": [
      "VALUE ERROR: Undefined name: MV\n",
      "      Assert(3 LC u ⍙ v)MV u ∆⍥(3∘LC)v\n",
      "                        ∧\n",
      "VALUE ERROR: Undefined name: MV\n",
      "      Assert(3 RC u ∆ v)MV u ⍙⍥(3∘RC)v\n",
      "                        ∧\n",
      "VALUE ERROR: Undefined name: MV\n",
      "      Assert(3 RC u ⍙ v)MV u ∆⍥(3∘RC)v\n",
      "                        ∧\n",
      "VALUE ERROR: Undefined name: MV\n",
      "      Assert(3 LC u ⍙I v)MV u ∆I⍥(3∘LC)v\n",
      "                         ∧\n",
      "VALUE ERROR: Undefined name: MV\n",
      "      Assert(3 RC u ∆I v)MV u ⍙I⍥(3∘RC)v\n",
      "                         ∧\n",
      "VALUE ERROR: Undefined name: MV\n",
      "      Assert(3 RC u ⍙I v)MV u ∆I⍥(3∘RC)v\n",
      "                         ∧\n",
      "VALUE ERROR: Undefined name: MV\n",
      "      Assert(3 LC u ⍙X v)MV u ∆X⍥(3∘LC)v\n",
      "                         ∧\n",
      "VALUE ERROR: Undefined name: MV\n",
      "      Assert(3 RC u ∆X v)MV u ⍙X⍥(3∘RC)v\n",
      "                         ∧\n",
      "VALUE ERROR: Undefined name: MV\n",
      "      Assert(3 RC u ⍙X v)MV u ∆X⍥(3∘RC)v\n",
      "                         ∧\n"
     ]
    }
   ],
   "source": [
    "_⍙_ ← {⍵⍵ LC ⍺ ⍺⍺⍥((⍺(⍵⍵⍨⍨)⍵)∘RC) ⍵}   ⍝ ⍺⍺ is product, ⍵⍵ is dimensions\n",
    "⍙ ← ∆ _⍙_ 3\n",
    "Assert (3 LC u ⍙ v) MV u ∆⍥(3∘LC) v\n",
    "Assert (3 RC u ∆ v) MV u ⍙⍥(3∘RC) v\n",
    "Assert (3 RC u ⍙ v) MV u ∆⍥(3∘RC) v\n",
    "∆I ← 3 _∆I ⋄ ⍙I ← ∆I _⍙_ 3\n",
    "Assert (3 LC u ⍙I v) MV u ∆I⍥(3∘LC) v\n",
    "Assert (3 RC u ∆I v) MV u ⍙I⍥(3∘RC) v\n",
    "Assert (3 RC u ⍙I v) MV u ∆I⍥(3∘RC) v\n",
    "∆X ← ×_∆X_ 3 ⋄ ⍙X ← ∆X _⍙_ 3\n",
    "Assert (3 LC u ⍙X v) MV u ∆X⍥(3∘LC) v\n",
    "Assert (3 RC u ∆X v) MV u ⍙X⍥(3∘RC) v\n",
    "Assert (3 RC u ⍙X v) MV u ∆X⍥(3∘RC) v"
   ]
  },
  {
   "cell_type": "markdown",
   "id": "38701a64",
   "metadata": {},
   "source": [
    "### Inverse\n",
    "\n",
    "Find the multiversor that, when multiplied by the right, returns the scalar unit. At difference of reverses and complements, the inverse is not a linear operation."
   ]
  },
  {
   "cell_type": "code",
   "execution_count": 72,
   "id": "70c62d88",
   "metadata": {},
   "outputs": [
    {
     "data": {
      "text/html": [
       "<pre class=\"language-APL\">┌───────────────────┬──────────────────────────────────────────────────────┬───────────────────────────────────────────────────────────────────────────────────────────────────────────────────────────────────────────┐\n",
       "│                   │∆∆                                                    │∆∆⍨                                                                                                                                        │\n",
       "├───────────────────┼──────────────────────────────────────────────────────┼───────────────────────────────────────────────────────────────────────────────────────────────────────────────────────────────────────────┤\n",
       "│┌───┬─┬──┬───┬────┐│┌────────┬─────────┬────────────┬──────────┬─────────┐│1 2.776E¯17 ¯4.163E¯17 3.469E¯18 1.388E¯17 ¯3.469E¯18 3.469E¯18 0 2.776E¯17 8.674E¯19 0 1.084E¯19 ¯1.735E¯18 1.084E¯19 2.168E¯19 ¯1.355E¯20│\n",
       "││0.1│1│21│321│4321│││1.821E¯8│¯1.830E¯7│¯0.000001179│0.00001781│0.0002397││                                                                                                                                           │\n",
       "││   │2│31│421│    │││        │¯1.238E¯7│¯0.000001708│0.00002336│         ││                                                                                                                                           │\n",
       "││   │3│32│431│    │││        │¯1.770E¯7│¯0.000001773│0.00002391│         ││                                                                                                                                           │\n",
       "││   │4│41│432│    │││        │¯2.342E¯7│¯0.000002285│0.00002397│         ││                                                                                                                                           │\n",
       "││   │ │42│   │    │││        │         │¯0.00000233 │          │         ││                                                                                                                                           │\n",
       "││   │ │43│   │    │││        │         │¯0.000002387│          │         ││                                                                                                                                           │\n",
       "│└───┴─┴──┴───┴────┘│└────────┴─────────┴────────────┴──────────┴─────────┘│                                                                                                                                           │\n",
       "└───────────────────┴──────────────────────────────────────────────────────┴───────────────────────────────────────────────────────────────────────────────────────────────────────────────────────────────────────────┘\n",
       "</pre>"
      ]
     },
     "execution_count": 72,
     "metadata": {},
     "output_type": "execute_result"
    },
    {
     "name": "stderr",
     "output_type": "stream",
     "text": [
      "VALUE ERROR: Undefined name: MV\n",
      "      Assert 1 MV¨∆∆⍨¨u v w\n",
      "               ∧\n",
      "VALUE ERROR: Undefined name: MV\n",
      "      Assert 1 MV¨∆∆⍨∘V¨u v w\n",
      "               ∧\n"
     ]
    }
   ],
   "source": [
    "_I ← {i←Z∘C⊂⍤¯1⍉⍤¯1⍉((1↑⍨≢)⌹⍤2(↑[¯0.5]⍣2⊂⍺⍺¨BV∘≢))(2*D⍵)X⍵ ⋄ 0=⎕NC'⍺':i ⋄ ⍺ ⍺⍺ i}\n",
    "∆∆ ← ∆ _I\n",
    "\n",
    "' ' '∆∆' '∆∆⍨' Table (⍪¨B i)(⍪¨B ∆∆ i)(∆∆⍨i)\n",
    "Assert 1 MV¨ ∆∆⍨¨   u v w\n",
    "Assert 1 MV¨ ∆∆⍨∘V¨ u v w"
   ]
  },
  {
   "cell_type": "markdown",
   "id": "29b9d139",
   "metadata": {},
   "source": [
    "When we try to inverse a 0=vector, we will get a domain error."
   ]
  },
  {
   "cell_type": "code",
   "execution_count": 73,
   "id": "fdf6067f",
   "metadata": {},
   "outputs": [
    {
     "name": "stderr",
     "output_type": "stream",
     "text": [
      "DOMAIN ERROR\n",
      "_I[0] _I←{i←Z∘C⊂⍤¯1⍉⍤¯1⍉((1↑⍨≢)⌹⍤2(↑[¯0.5]⍣2⊂⍺⍺¨BV∘≢))(2*D ⍵)X ⍵ ⋄ 0=⎕NC'⍺':i ⋄ ⍺ ⍺⍺ i}\n",
      "                        ∧\n"
     ]
    }
   ],
   "source": [
    "∆∆ n   ⍝ ERROR: 0=vectors produce domain error"
   ]
  },
  {
   "cell_type": "markdown",
   "id": "781f6b47",
   "metadata": {},
   "source": [
    "## Geometric algebra namespace\n",
    "\n",
    "Since it is clear that using a fixed multiplication table has several advantages, and in order to make it easier to define a geometric product, we are going to use a namespace to store the properties of the algebra and all related functions.\n",
    "\n",
    "The function `G` returns a namespace that contains a geometric product operator and a geometric product function, as well as the signature and multiplication table of the algebra."
   ]
  },
  {
   "cell_type": "code",
   "execution_count": 74,
   "id": "6ac10a1c",
   "metadata": {},
   "outputs": [],
   "source": [
    "]dinput\n",
    "GA ← {\n",
    "    g ← ⎕NS⍬ ⋄ g.s g.t g.b ← ⍵ (TS⍵) (BV 2*+/⍵)\n",
    "    g._Z ← _Z ⋄ g.V ← V ⋄ g.Z ← Z ⋄ g.S ← S ⋄ g.D ← D ⋄ g.BV ← BV ⋄ g.C ← C\n",
    "    g.X ← X{⍺←≢b ⋄ ⍺(⍺⍺)⍵}\n",
    "    \n",
    "    g._∆ ← _∆_ g.t ⋄ g.∆ ← ×g._∆ ⋄ g.∆∆ ← g.∆ _I\n",
    "    g.∆V ← g.∆⍥V ⋄ g.∆v ← g.∆∘V ⋄ g.∆∆V ← g.∆∆⍥V ⋄ g.∆∆v ← g.∆∆∘V\n",
    "    g.LC ← g.∆ _C ⋄ g.RC ← g.∆⍨_C ⋄ g.DC ← g.LC⍣2\n",
    "    g._∆X ← _∆X_ g.s ⋄ g.∆X ← ×g._∆X ⋄ g.∆XV ← g.∆X⍥V ⋄ g.∆Xv ← g.∆X∘V\n",
    "    g.∆I ← g.s _∆I ⋄ g.∆IV ← g.∆I⍥V ⋄ g.∆Iv ← g.∆I∘V\n",
    "    g.⍙ ← g.∆ _⍙_(+/g.s) ⋄ g.⍙I ← g.∆I _⍙_(+/g.s) ⋄ g.⍙X ← g.∆X _⍙_(+/g.s)\n",
    "    g\n",
    "}"
   ]
  },
  {
   "cell_type": "code",
   "execution_count": 75,
   "id": "7621dfd7",
   "metadata": {},
   "outputs": [
    {
     "name": "stderr",
     "output_type": "stream",
     "text": [
      "VALUE ERROR: Undefined name: MV\n",
      "_GA_[6] _←Assert(a ∆ v)MV a×v               ⍝   left-product by scalar is scalar product\n",
      "                       ∧\n"
     ]
    },
    {
     "data": {
      "text/html": [
       "<pre class=\"language-APL\">┌────┬───────────────────────────────────────┬─────────────────┐\n",
       "│sign│table                                  │base             │\n",
       "├────┼───────────────────────────────────────┼─────────────────┤\n",
       "│3   │┌───────────────┬─────────────────────┐│┌───────────────┐│\n",
       "│    ││0 1 2 3 4 5 6 7│1 1  1  1  1  1  1  1│││1              ││\n",
       "│    ││1 0 3 2 5 4 7 6│1 1 ¯1 ¯1 ¯1 ¯1  1  1││├───────────────┤│\n",
       "│    ││2 3 0 1 6 7 4 5│1 1  1  1 ¯1 ¯1 ¯1 ¯1│││0 1            ││\n",
       "│    ││3 2 1 0 7 6 5 4│1 1 ¯1 ¯1  1  1 ¯1 ¯1││├───────────────┤│\n",
       "│    ││4 5 6 7 0 1 2 3│1 1  1  1  1  1  1  1│││0 0 1          ││\n",
       "│    ││5 4 7 6 1 0 3 2│1 1 ¯1 ¯1 ¯1 ¯1  1  1││├───────────────┤│\n",
       "│    ││6 7 4 5 2 3 0 1│1 1  1  1 ¯1 ¯1 ¯1 ¯1│││0 0 0 1        ││\n",
       "│    ││7 6 5 4 3 2 1 0│1 1 ¯1 ¯1  1  1 ¯1 ¯1││├───────────────┤│\n",
       "│    │└───────────────┴─────────────────────┘││0 0 0 0 1      ││\n",
       "│    │                                       │├───────────────┤│\n",
       "│    │                                       ││0 0 0 0 0 1    ││\n",
       "│    │                                       │├───────────────┤│\n",
       "│    │                                       ││0 0 0 0 0 0 1  ││\n",
       "│    │                                       │├───────────────┤│\n",
       "│    │                                       ││0 0 0 0 0 0 0 1││\n",
       "│    │                                       │└───────────────┘│\n",
       "└────┴───────────────────────────────────────┴─────────────────┘\n",
       "</pre>"
      ]
     },
     "execution_count": 75,
     "metadata": {},
     "output_type": "execute_result"
    }
   ],
   "source": [
    "⍝ eg\n",
    "g3 ← GA 3\n",
    "Assert a b (g3.∆ _GA_ g3.s) V¨ u v w\n",
    "'sign' 'table' 'base' Table g3.s g3.t (⍪g3.b)"
   ]
  },
  {
   "cell_type": "markdown",
   "id": "b29d2893",
   "metadata": {},
   "source": [
    "# Geometric algebras"
   ]
  },
  {
   "cell_type": "markdown",
   "id": "e033c114",
   "metadata": {},
   "source": [
    "## 0D / 1D / 2D / 3D vectors\n",
    "\n",
    "We can easily define algebras for vector spaces of an arbitrary number of dimensions.\n",
    "\n",
    "The 0-dimensional vector space will be the scalar field (usually the real numbers; in APL, just numbers). The inverse and multiplication function must work as `÷` and `×`, and using enclosed arrays, scalar extension should be applied:"
   ]
  },
  {
   "cell_type": "code",
   "execution_count": 76,
   "id": "1cc2b20c",
   "metadata": {},
   "outputs": [
    {
     "data": {
      "text/html": [
       "<pre class=\"language-APL\">┌────────┬───────┬────────┬─────────┐\n",
       "│a       │b      │a g0.∆ b│a g0.∆∆ b│\n",
       "├────────┼───────┼────────┼─────────┤\n",
       "│┌──────┐│┌─────┐│┌──────┐│┌───────┐│\n",
       "││3.794 │││3.535│││13.41 │││1.073  ││\n",
       "││0.2032│││4.926│││ 1.001│││0.04125││\n",
       "││3.971 │││4.397│││17.46 │││0.9031 ││\n",
       "││2.502 │││4.684│││11.72 │││0.5343 ││\n",
       "││1.006 │││4.943│││ 4.974│││0.2036 ││\n",
       "│└──────┘│└─────┘│└──────┘│└───────┘│\n",
       "└────────┴───────┴────────┴─────────┘\n",
       "</pre>"
      ]
     },
     "execution_count": 76,
     "metadata": {},
     "output_type": "execute_result"
    },
    {
     "name": "stderr",
     "output_type": "stream",
     "text": [
      "VALUE ERROR: Undefined name: MV\n",
      "_GA_[6] _←Assert(a ∆ v)MV a×v               ⍝   left-product by scalar is scalar product\n",
      "                       ∧\n",
      "VALUE ERROR: Undefined name: MV\n",
      "      Assert a(⊂⍤×MV g0.∆)b\n",
      "                  ∧\n",
      "VALUE ERROR: Undefined name: MV\n",
      "      Assert a(⊂⍤÷MV g0.∆∆)b\n",
      "                  ∧\n"
     ]
    }
   ],
   "source": [
    "g0 ← GA 0\n",
    "'a' 'b' 'a g0.∆ b' 'a g0.∆∆ b' Table a b (a g0.∆ b) (a g0.∆∆ b)\n",
    "Assert a b (g0.∆ _GA_ 0) ⊂¨v\n",
    "Assert a (⊂⍤× MV g0.∆) b\n",
    "Assert a (⊂⍤÷ MV g0.∆∆) b"
   ]
  },
  {
   "cell_type": "markdown",
   "id": "0062d34f",
   "metadata": {},
   "source": [
    "When we add a proper vector to have the 1-dimensional space, we will in fact have the [hyperbolic numbers](https://en.wikipedia.org/wiki/Split-complex_number), with these properties:"
   ]
  },
  {
   "cell_type": "code",
   "execution_count": 77,
   "id": "4f7543b0",
   "metadata": {},
   "outputs": [
    {
     "data": {
      "text/html": [
       "<pre class=\"language-APL\">┌────────┬───────┬──────────────────┐\n",
       "│a       │b      │g1.∆⍨ a b         │\n",
       "├────────┼───────┼──────────────────┤\n",
       "│┌──────┐│┌─────┐│┌───────┬────────┐│\n",
       "││3.794 │││3.535│││┌─────┐│┌──────┐││\n",
       "││0.2032│││4.926││││26.89│││26.82 │││\n",
       "││3.971 │││4.397││││24.31│││ 2.002│││\n",
       "││2.502 │││4.684││││35.1 │││34.91 │││\n",
       "││1.006 │││4.943││││28.2 │││23.44 │││\n",
       "│└──────┘│└─────┘│││25.44│││ 9.948│││\n",
       "│        │       ││└─────┘│└──────┘││\n",
       "│        │       │└───────┴────────┘│\n",
       "└────────┴───────┴──────────────────┘\n",
       "</pre>"
      ]
     },
     "execution_count": 77,
     "metadata": {},
     "output_type": "execute_result"
    },
    {
     "name": "stderr",
     "output_type": "stream",
     "text": [
      "VALUE ERROR: Undefined name: MV\n",
      "_GA_[6] _←Assert(a ∆ v)MV a×v               ⍝   left-product by scalar is scalar product\n",
      "                       ∧\n"
     ]
    }
   ],
   "source": [
    "g1 ← GA 1\n",
    "'a' 'b' 'g1.∆⍨ a b' Table a b (g1.∆⍨ a b)\n",
    "Assert a b (g1.∆ _GA_ 1) 2↑¨ u v w"
   ]
  },
  {
   "cell_type": "markdown",
   "id": "d14d3167",
   "metadata": {},
   "source": [
    "With two dimensions, things start getting interesting. Now we have vectors on a plane, and we can rotate them!"
   ]
  },
  {
   "cell_type": "code",
   "execution_count": 78,
   "id": "64ea6d43",
   "metadata": {},
   "outputs": [
    {
     "name": "stderr",
     "output_type": "stream",
     "text": [
      "VALUE ERROR: Undefined name: MV\n",
      "_GA_[6] _←Assert(a ∆ v)MV a×v               ⍝   left-product by scalar is scalar product\n",
      "                       ∧\n",
      "VALUE ERROR: Undefined name: MV\n",
      "      r90←0 1 g2.∆∆⍥V 1 ⋄ Assert(V 0 1)MV r90 g2.∆ V 1   ⍝   0 1 is 90 deg rotation of 1 0\n",
      "                                       ∧\n",
      "VALUE ERROR: Undefined name: MV\n",
      "      r45←1 1 U⍤g2.∆∆⍥V 1 ⋄ Assert(V U 1 1)MV r45 g2.∆ V 1   ⍝ U 1 1 is 45 deg rotation of 1 0\n",
      "                                           ∧\n",
      "VALUE ERROR: Undefined name: MV\n",
      "      Assert(V 0 1)MV r45 g2.∆⍣2 V 1   ⍝   0 1 is 2 45 deg rotations of 1 0\n",
      "                   ∧\n"
     ]
    }
   ],
   "source": [
    "g2 ← GA 2\n",
    "Assert a b (g2.∆ _GA_ 2) u v w\n",
    "r90 ← 0 1   g2.∆∆⍥V 1 ⋄ Assert (V 0 1)   MV r90 g2.∆   V 1   ⍝   0 1 is 90 deg rotation of 1 0\n",
    "r45 ← 1 1 U⍤g2.∆∆⍥V 1 ⋄ Assert (V U 1 1) MV r45 g2.∆   V 1   ⍝ U 1 1 is 45 deg rotation of 1 0 \n",
    "                        Assert (V 0 1)   MV r45 g2.∆⍣2 V 1   ⍝   0 1 is 2 45 deg rotations of 1 0"
   ]
  },
  {
   "cell_type": "markdown",
   "id": "3fab0d94",
   "metadata": {},
   "source": [
    "We can also use bivectors as areas:"
   ]
  },
  {
   "cell_type": "code",
   "execution_count": 79,
   "id": "50b8e3ad",
   "metadata": {},
   "outputs": [
    {
     "data": {
      "text/html": [
       "<pre class=\"language-APL\">┌────────┬───────┬───────────────┬──────────────┐\n",
       "│a       │b      │s←a g2.∆⍥V 0,b │s g2.∆∆∘V 0,b │\n",
       "├────────┼───────┼───────────────┼──────────────┤\n",
       "│┌──────┐│┌─────┐│┌─┬─┬─┬───────┐│┌─┬──────┬─┬─┐│\n",
       "││3.794 │││3.535│││0│0│0│¯13.41 │││0│3.794 │0│0││\n",
       "││0.2032│││4.926│││ │ │ │ ¯1.001│││ │0.2032│ │ ││\n",
       "││3.971 │││4.397│││ │ │ │¯17.46 │││ │3.971 │ │ ││\n",
       "││2.502 │││4.684│││ │ │ │¯11.72 │││ │2.502 │ │ ││\n",
       "││1.006 │││4.943│││ │ │ │ ¯4.974│││ │1.006 │ │ ││\n",
       "│└──────┘│└─────┘│└─┴─┴─┴───────┘│└─┴──────┴─┴─┘│\n",
       "└────────┴───────┴───────────────┴──────────────┘\n",
       "</pre>"
      ]
     },
     "execution_count": 79,
     "metadata": {},
     "output_type": "execute_result"
    }
   ],
   "source": [
    "'a' 'b' 's←a g2.∆⍥V 0,b' 's g2.∆∆∘V 0,b' Table a b (a g2.∆V 0,b) ((0,b) g2.∆∆∘V⍨ a g2.∆V 0,b)"
   ]
  },
  {
   "cell_type": "markdown",
   "id": "bea68efd",
   "metadata": {},
   "source": [
    "The 3D space is pretty much where we live, and has already been discussed in a few examples, so you should be familiar with this one by now. We have scalars, vectors, bivectors, and the pseudoscalar is a trivector:"
   ]
  },
  {
   "cell_type": "code",
   "execution_count": 80,
   "id": "605526e5",
   "metadata": {},
   "outputs": [
    {
     "data": {
      "text/html": [
       "<pre class=\"language-APL\">┌─┬─────┬────────┬───┐\n",
       "│0│1 2 3│21 31 32│321│\n",
       "└─┴─────┴────────┴───┘\n",
       "</pre>"
      ]
     },
     "execution_count": 80,
     "metadata": {},
     "output_type": "execute_result"
    }
   ],
   "source": [
    "B 0 1 2 21 3 31 32 321 ⍝ 1 x y yx z zx zy zyx"
   ]
  },
  {
   "cell_type": "markdown",
   "id": "ac9abd25",
   "metadata": {},
   "source": [
    "We can use the quaternions (scalars and bivectors) to rotate vectors or other quaternions, and we can use bivectors to represent areas and the trivector for volumes:"
   ]
  },
  {
   "cell_type": "code",
   "execution_count": null,
   "id": "e09191e8",
   "metadata": {},
   "outputs": [],
   "source": []
  },
  {
   "cell_type": "markdown",
   "id": "c6b74824",
   "metadata": {},
   "source": [
    "## Complex numbers\n",
    "\n",
    "Complex numbers are obtained by the addition of a real number (a scalar in APL) and an imaginary number. Although Dyalog APL supports complex numbers, we can also represent them defining a geometric algebra with the signature 0 1:"
   ]
  },
  {
   "cell_type": "code",
   "execution_count": 81,
   "id": "b5609415",
   "metadata": {},
   "outputs": [
    {
     "data": {
      "text/html": [
       "<pre class=\"language-APL\">┌────────┬──────────┐\n",
       "│C       │GA 0 1    │\n",
       "├────────┼──────────┤\n",
       "│1    0J1│┌───┬────┐│\n",
       "│0J1 ¯1  ││1  │0 1 ││\n",
       "│        │├───┼────┤│\n",
       "│        ││0 1│¯1 0││\n",
       "│        │└───┴────┘│\n",
       "└────────┴──────────┘\n",
       "</pre>"
      ]
     },
     "execution_count": 81,
     "metadata": {},
     "output_type": "execute_result"
    },
    {
     "data": {
      "text/html": [
       "<pre class=\"language-APL\">┌──────────────┬──────────────────┬──────────────┐\n",
       "│c             │∆∆ c              │∆∆⍨c          │\n",
       "├──────────────┼──────────────────┼──────────────┤\n",
       "│┌─────┬──────┐│┌───────┬────────┐│┌─┬──────────┐│\n",
       "││2.091│2.395 │││¯1.535 │ 1.758  │││1│ 0.000E0  ││\n",
       "││2.992│1.062 │││ 0.3824│¯0.1357 │││1│¯5.551E¯17││\n",
       "││2.048│0.2925│││ 0.4986│¯0.07123│││1│¯2.776E¯17││\n",
       "││1.754│2.754 │││¯0.389 │ 0.6108 │││1│ 0.000E0  ││\n",
       "││1.887│2.398 │││¯0.8605│ 1.094  │││1│ 0.000E0  ││\n",
       "│└─────┴──────┘│└───────┴────────┘│└─┴──────────┘│\n",
       "└──────────────┴──────────────────┴──────────────┘\n",
       "</pre>"
      ]
     },
     "execution_count": 81,
     "metadata": {},
     "output_type": "execute_result"
    }
   ],
   "source": [
    "c ← GA 0 1\n",
    "'C' 'GA 0 1' Table (∘.×⍨ 1 0j1) (∘.c.∆⍨ c.b)\n",
    "Assert (∘.×⍨ 1 0j1) ≡ (⊂1 0j1)+.×∘c.X¨∘.c.∆⍨ c.b\n",
    "'c' '∆∆ c' '∆∆⍨c' Table (c.X v) (∆∆ c.X v) (∆∆⍨c.X v)\n",
    "Assert (9 11○1÷1j1) ≡ c.∆∆ 1 1\n",
    "Assert (9 11○1 ÷ 1 0j1 +.× c.X v) ≡ c.∆∆ c.X v"
   ]
  },
  {
   "cell_type": "markdown",
   "id": "80ee775a",
   "metadata": {},
   "source": [
    "## Quaternions\n",
    "\n",
    "Dyalog APL does not support quaternions natively, but an implementation is included in the dfns workspace."
   ]
  },
  {
   "cell_type": "code",
   "execution_count": 82,
   "id": "108b13e8",
   "metadata": {},
   "outputs": [
    {
     "data": {
      "text/html": [
       "<pre class=\"language-APL\">0\n",
       "</pre>"
      ]
     },
     "execution_count": 82,
     "metadata": {},
     "output_type": "execute_result"
    }
   ],
   "source": [
    "_∆Q3 ← {⊃,/0 2∘B⍺(⍺⍺_∆_(TD 3)⍥(0 3 5 6∘V))⍵}\n",
    "_∆Q3 ← {Z 1 1 1 ¯1×_X⊃,/0 2 B 8 X ⍺(⍺⍺_∆_(TD 3)⍥(0 3 5 6 V 1 1 1 ¯1 ×_X ⊢))⍵}\n",
    "∆Q3 ← ×_∆Q3\n",
    "(∘.∆Q3⍨BV 4) ≡ (∘.∆Q⍨BV 4)"
   ]
  },
  {
   "cell_type": "code",
   "execution_count": 83,
   "id": "5ac072ef",
   "metadata": {},
   "outputs": [
    {
     "data": {
      "text/html": [
       "<pre class=\"language-APL\">┌───────┬───────┬───────┬────────────────────────────┐\n",
       "│i      │j      │k      │∘.(×H)                      │\n",
       "├───────┼───────┼───────┼────────────────────────────┤\n",
       "│0 1 0 0│0 0 1 0│0 0 0 1│┌────────┬────────┬────────┐│\n",
       "│       │       │       ││¯1 0 0 0│0 0 0 1 │0 0 ¯1 0││\n",
       "│       │       │       │├────────┼────────┼────────┤│\n",
       "│       │       │       ││0 0 0 ¯1│¯1 0 0 0│0 1 0 0 ││\n",
       "│       │       │       │├────────┼────────┼────────┤│\n",
       "│       │       │       ││0 0 1 0 │0 ¯1 0 0│¯1 0 0 0││\n",
       "│       │       │       │└────────┴────────┴────────┘│\n",
       "└───────┴───────┴───────┴────────────────────────────┘\n",
       "</pre>"
      ]
     },
     "execution_count": 83,
     "metadata": {},
     "output_type": "execute_result"
    },
    {
     "data": {
      "text/html": [
       "<pre class=\"language-APL\">                                                                        \n",
       "  qg ∆Q  qg → 1.4E¯4 |      0%                                          \n",
       "  qg ∆Q3 qg → 2.7E¯4 |    +88%                                          \n",
       "* qh ×H  qh → 2.3E¯2 | +16405% ⎕⎕⎕⎕⎕⎕⎕⎕⎕⎕⎕⎕⎕⎕⎕⎕⎕⎕⎕⎕⎕⎕⎕⎕⎕⎕⎕⎕⎕⎕⎕⎕⎕⎕⎕⎕⎕⎕⎕⎕ \n",
       "</pre>"
      ]
     },
     "execution_count": 83,
     "metadata": {},
     "output_type": "execute_result"
    },
    {
     "data": {
      "text/html": [
       "<pre class=\"language-APL\">                                                                             \n",
       "  qg ∘.×_∆Q  qg → 2.3E¯5 |       0%                                          \n",
       "  qg ∘.×_∆Q3 qg → 1.6E¯4 |    +600%                                          \n",
       "* qh ∘.(×H)  qh → 2.8E¯2 | +120566% ⎕⎕⎕⎕⎕⎕⎕⎕⎕⎕⎕⎕⎕⎕⎕⎕⎕⎕⎕⎕⎕⎕⎕⎕⎕⎕⎕⎕⎕⎕⎕⎕⎕⎕⎕⎕⎕⎕⎕⎕ \n",
       "</pre>"
      ]
     },
     "execution_count": 83,
     "metadata": {},
     "output_type": "execute_result"
    },
    {
     "data": {
      "text/html": [
       "<pre class=\"language-APL\">┌─────────────┬──────┐\n",
       "│qg ∘.×_∆Q  qg│18868 │\n",
       "├─────────────┼──────┤\n",
       "│qg ∘.×_∆Q3 qg│21484 │\n",
       "├─────────────┼──────┤\n",
       "│qh ∘.(×H)  qh│120460│\n",
       "└─────────────┴──────┘\n",
       "</pre>"
      ]
     },
     "execution_count": 83,
     "metadata": {},
     "output_type": "execute_result"
    }
   ],
   "source": [
    "('ijk',⊂'∘.(×H)') Table (⊂∘.(×H)⍨ i j k),⍨i j k ← ↓ ⍎H'0i1 0j1 0k1'\n",
    "Assert (∘.(×H)⍨ i j k) ≡ (⊂1 1 1 ¯1)×_X¨∘.∆Q⍨ i j (-k)\n",
    "⍝_∆Q3 ← {,/0 2∘B⍺(⍺⍺_∆_(TD 3)⍥(0 3 5 6∘V))⍵}\n",
    "⍝∆Q3 ← ×_∆q3\n",
    "qg ← ⊂⍤1⍉ qh ← ?1e4 4⍴0\n",
    "]RunTime 'qg ∆Q  qg' 'qg ∆Q3 qg' 'qh ×H  qh' -compare\n",
    "qg ← ⊂⍤1⍉ qh ← ?1e1 4⍴0\n",
    "]RunTime 'qg ∘.×_∆Q  qg' 'qg ∘.×_∆Q3 qg' 'qh ∘.(×H)  qh' -compare\n",
    "]SpaceNeeded 'qg ∘.×_∆Q  qg' 'qg ∘.×_∆Q3 qg' 'qh ∘.(×H)  qh'"
   ]
  },
  {
   "cell_type": "raw",
   "id": "504dd91f",
   "metadata": {
    "scrolled": false
   },
   "source": [
    "('ijk',⊂'∘.(×H)') Table (⊂∘.(×H)⍨ i j k),⍨i j k ← ↓ ⍎H'0i1 0j1 0k1'\n",
    "Assert (∘.(×H)⍨ i j k) ≡ (⊂1 1 1 ¯1)×_X¨∘.∆Q⍨ i j (-k)\n",
    "∆q3 ← 2∘B×_∆_(TD 3)⍥(3 5 6∘V)\n",
    "]RunTime '0 1     ∆Q 0 0 1' '0 1 0 0 ×H 0 0 1 0' -compare\n",
    "qg ← ⊂⍤1⍉ qh ← ?1e4 4⍴0\n",
    "]RunTime 'qg ∆Q qg' 'qh ×H qh' -compare\n",
    "qg ← ⊂⍤1⍉ qh ← ?1e1 4⍴0\n",
    "]RunTime 'qg ∘.×_∆Q qg' 'qh ∘.(×H) qh' -compare\n",
    "]SpaceNeeded '0 1     ∆Q 0 0 1' '0 1 0 0 ×H 0 0 1 0'\n",
    "qg ← ⊂⍤1⍉ qh ← ?3 4⍴0\n",
    "]SpaceNeeded 'qg ∘.×_∆Q qg' 'qh ∘.(×H) qh'"
   ]
  },
  {
   "cell_type": "raw",
   "id": "920dfeee",
   "metadata": {
    "scrolled": false
   },
   "source": [
    "('ijk',⊂'∘.(×H)') Table (⊂∘.(×H)⍨ i j k),⍨i j k ← ↓ ⍎H'0i1 0j1 0k1'\n",
    "Assert (∘.(×H)⍨ i j k) ≡ (⊂1 1 1 ¯1)×_X¨∘.∆Q⍨ i j (-k)\n",
    "∆q3 ← 2∘B×_∆_(TD 3)⍥(3 5 6∘V)\n",
    "]RunTime '0 1     ∆Q 0 0 1' '0 1 0 0 ×H 0 0 1 0' -compare\n",
    "qg ← ⊂⍤1⍉ qh ← ?1e4 4⍴0\n",
    "]RunTime 'qg ∆Q qg' 'qh ×H qh' -compare\n",
    "qg ← ⊂⍤1⍉ qh ← ?1e1 4⍴0\n",
    "]RunTime 'qg ∘.×_∆Q qg' 'qh ∘.(×H) qh' -compare\n",
    "]SpaceNeeded '0 1     ∆Q 0 0 1' '0 1 0 0 ×H 0 0 1 0'\n",
    "qg ← ⊂⍤1⍉ qh ← ?3 4⍴0\n",
    "]SpaceNeeded 'qg ∘.×_∆Q qg' 'qh ∘.(×H) qh'"
   ]
  },
  {
   "cell_type": "raw",
   "id": "0f7b6ba2",
   "metadata": {
    "scrolled": false
   },
   "source": [
    "_∆y ←  _∆y_(TS 0 2)\n",
    " ∆y ← ×_∆y\n",
    "\n",
    "\n",
    "('ijk',⊂'∘.(×H)') Table (⊂∘.(×H)⍨ i j k),⍨i j k ← ↓ ⍎H'0i1 0j1 0k1'\n",
    "Assert (∘.(×H)⍨ i j k) ≡ (⊂1 1 1 ¯1)×_X¨∘.∆Q⍨ i j (-k)\n",
    "⍝∆q3 ← 2∘B×_∆_(TD 3)⍥(3 5 6∘V)\n",
    "⍝]RunTime '0 1     ∆Q 0 0 1' '0 1 0 0 ×H 0 0 1 0' -compare\n",
    "qg ← ⊂⍤1⍉ qh ← ?1e4 4⍴0\n",
    "]RunTime 'qg ∆Q qg' 'qg ∆y qg' -compare\n",
    "]RunTime 'qg ∆y qg' 'qh ×H qh' -compare\n",
    "qg ← ⊂⍤1⍉ qh ← ?1e1 4⍴0\n",
    "]RunTime 'qg ∘.×_∆Q qg' 'qg ∘.×_∆y qg' -compare\n",
    "]RunTime 'qg ∘.×_∆y qg' 'qh ∘.(×H) qh' -compare\n",
    "]SpaceNeeded '0 1     ∆Q 0 0 1' '0 1     ∆y 0 0 1' '0 1 0 0 ×H 0 0 1 0'\n",
    "qg ← ⊂⍤1⍉ qh ← ?3 4⍴0\n",
    "]SpaceNeeded 'qg ∘.×_∆Q qg' 'qg ∘.×_∆y qg' 'qh ∘.(×H) qh'"
   ]
  },
  {
   "cell_type": "markdown",
   "id": "329e2116",
   "metadata": {},
   "source": [
    "Not bad!"
   ]
  },
  {
   "cell_type": "markdown",
   "id": "d9a21f3f",
   "metadata": {},
   "source": [
    "## Projective geometric algebra"
   ]
  },
  {
   "cell_type": "code",
   "execution_count": null,
   "id": "97925f69",
   "metadata": {},
   "outputs": [],
   "source": []
  },
  {
   "cell_type": "code",
   "execution_count": null,
   "id": "383822dd",
   "metadata": {},
   "outputs": [],
   "source": []
  },
  {
   "cell_type": "code",
   "execution_count": 88,
   "id": "c13bd89a",
   "metadata": {},
   "outputs": [],
   "source": [
    "V ← {⍺←2*⍳≢⍵ ⋄ v←0⍴⍨1+⌈/,⍺ ⋄ v[⍺]+←(⍴⍺)↑⍵ ⋄ v}          \n",
    "B ← {b←Z({⊂⊂⍵}⌸+/¨BB≢⍵)⌷¨⊂,⍵ ⋄ ⍺←⍳≢b ⋄ (⊂⍺)⌷(1+⌈/,⍺)X b}\n",
    "G ← {⌈/+/¨(0≢¨C ⍵)/BB≢⍵}                                \n",
    "D ← ⌈2⍟⌈⍥≢ "
   ]
  },
  {
   "cell_type": "markdown",
   "id": "2c62398c",
   "metadata": {},
   "source": [
    "# Summary"
   ]
  },
  {
   "cell_type": "code",
   "execution_count": 101,
   "id": "6544e4ff",
   "metadata": {},
   "outputs": [
    {
     "data": {
      "text/html": [
       "<pre class=\"language-APL\"> M ← 0.5*⍨+.×⍨                                     \n",
       " U ← ÷∘(0.5*⍨+.×⍨)⍨                                \n",
       " I ← ÷∘(+.×⍨)⍨                                     \n",
       "BV ← {⍬≡⍵:0 ⋄ (1&lt;≢⍵)∨(0&lt;≡⍵)∧1&lt;≢⊃⍵:⍵ ⋄ ⊃⍵}¨1↑⍨¨∘-1+⍳\n",
       "AV ← ⊂⍤1↑[¯0.5]                                    \n",
       "VA ← ⊂⍤¯1↑[¯0.5]                                   \n",
       "</pre>"
      ]
     },
     "execution_count": 101,
     "metadata": {},
     "output_type": "execute_result"
    },
    {
     "data": {
      "text/html": [
       "<pre class=\"language-APL\"> C ← {⍺←⎕CT ⋄ ⎕CT←⍺ ⋄ 1=≢∪⍵:⊃⍵ ⋄ ⍺∧.&gt;|∊⍵:0 ⋄ ⍵}¨\n",
       "_Z ← {⍺←⊢ ⋄ 0∊⍺ ⍵:0 ⋄ ⍺(⍺⍺)⍵}                   \n",
       " X ← {⍺↑⍵,0⍴⍨0⌈⍺-≢⍵}                            \n",
       "_X ← {⍺←⊢ ⋄ ⍺(⍺⍺⍥((⍺(⍵⍵⍨⍨)⍵)∘X))⍵}(⌈⍥≢)         \n",
       " S ← {⍬≡⍵:0 ⋄ (1&lt;≢⍵)∨(0&lt;≡⍵)∧1&lt;≢⊃⍵:⍵ ⋄ ⊃⍵}       \n",
       " Z ← {⍺←⎕CT ⋄ ⎕CT←⍺ ⋄ S ⍵↓⍨-⊥⍨(1∧.=1+∊)¨⍵}      \n",
       "_V ← {⍺←⊢ ⋄ Z∘C ⍺(⍺⍺ _X)⍵}                      \n",
       "</pre>"
      ]
     },
     "execution_count": 101,
     "metadata": {},
     "output_type": "execute_result"
    },
    {
     "data": {
      "text/html": [
       "<pre class=\"language-APL\">V ← {⍺←2*⍳≢⍵ ⋄ v←0⍴⍨1+⌈/,⍺ ⋄ v[⍺]+←(⍴⍺)↑⍵ ⋄ v}          \n",
       "B ← {b←Z({⊂⊂⍵}⌸+/¨BB≢⍵)⌷¨⊂,⍵ ⋄ ⍺←⍳≢b ⋄ (⊂⍺)⌷(1+⌈/,⍺)X b}\n",
       "G ← {⌈/+/¨(0≢¨C ⍵)/BB≢⍵}                                \n",
       "D ← ⌈2⍟⌈⍥≢                                              \n",
       "R ← ×∘(¯1*(+\\¯1↓⊢)+.×1↓⊣⍨¨↓∘⍉2⊥⍣¯1⍳∘≢)⍨                 \n",
       "</pre>"
      ]
     },
     "execution_count": 101,
     "metadata": {},
     "output_type": "execute_result"
    },
    {
     "data": {
      "text/html": [
       "<pre class=\"language-APL\"> BB ← ↓∘⍉2⊥⍣¯1⍳                          \n",
       " PB ← 2⊥≠                                \n",
       " QS ← ⊃1 ¯1 0,.⍴⍨⊢↑⍨3⌈≢                  \n",
       "_SQ ← {(⍺ SB ⍵)×(⌽⍺⍺)×.*⍺∧⍵}             \n",
       " BS ← (↓∘⍉2⊥⍣¯1⍳)2*+/                    \n",
       " SB ← ¯1*(+\\¯1↓⊢)+.×1↓⊣                  \n",
       " TS ← {(∘.PB,⍥⊂∘.((QS ⍵)_SQ))⍨BS ⍵}      \n",
       " TX ← {(∘.PB,⍥⊂∘.((QS ⍵)_SQ))⍨BS ⍵}2⍴0,+/\n",
       "</pre>"
      ]
     },
     "execution_count": 101,
     "metadata": {},
     "output_type": "execute_result"
    },
    {
     "data": {
      "text/html": [
       "<pre class=\"language-APL\">_∆_ ← {p s←⍺(⍵⍵⍨⍨)⍵ ⋄ r←(≢¨⍺ ⍵)⌊⍴p ⋄ Z(r↑p)V(r↑s)×_Z¨r↑⍺∘.(⍺⍺ _Z)⍥,⍵}               \n",
       "_∆I ← {+/⍺(⍺⍺×_X×_X)⍵}                                                              \n",
       " _I ← {i←Z∘C⊂⍤¯1⍉⍤¯1⍉((1↑⍨≢)⌹⍤2(↑[¯0.5]⍣2⊂⍺⍺¨BV∘≢))(2*D ⍵)X ⍵ ⋄ 0=⎕NC'⍺':i ⋄ ⍺ ⍺⍺ i}\n",
       " _C ← {⍺←D ⍵ ⋄ (⍺⍺×_V⌽)⍵ X⍨2*⍺}                                                     \n",
       "_⍙_ ← {⍵⍵ LC ⍺ ⍺⍺⍥((⍺(⍵⍵⍨⍨)⍵)∘RC)⍵}                                                 \n",
       "</pre>"
      ]
     },
     "execution_count": 101,
     "metadata": {},
     "output_type": "execute_result"
    }
   ],
   "source": [
    "]defs 'M' 'U' 'I' 'BV' 'AV' 'VA'                      ⍝ vectors\n",
    "]defs 'C' '_Z' 'X' '_X' 'S' 'Z' '_V'                  ⍝ vector extension\n",
    "]defs 'V' 'B' 'G' 'D' 'R'                             ⍝ multivectors\n",
    "]defs 'BB' 'PB' 'QS' '_SQ' 'BS' 'SB' 'TS' 'TX' 'TR'   ⍝ product table\n",
    "]defs '_∆_' '_∆I' '_I' '_C' '_⍙_'                     ⍝ geometric operators\n",
    "⍝]defs '∆' '∆X' '∆I' '∆∆' 'R' 'LC' 'RC' 'DC' '⍙' '⍙X' '⍙I'   ⍝ geometric functions"
   ]
  },
  {
   "cell_type": "code",
   "execution_count": 100,
   "id": "6038bd85",
   "metadata": {},
   "outputs": [],
   "source": [
    "]dinput\n",
    "GA ← {\n",
    "    g ← ⎕NS⍬ ⋄ g.s g.b ← ⍵ (BV 2*d←+/⍵)\n",
    "    g._Z ← _Z ⋄ g.V ← V ⋄ g.Z ← Z ⋄ g.S ← S ⋄ g.D ← D ⋄ g.BV ← BV ⋄ g.C ← C\n",
    "    g._X ← _X ⋄ g.X ← X{⍺←≢b ⋄ ⍺(⍺⍺)⍵}\n",
    "    \n",
    "    g._∆ ← _∆_(TS⍵)   ⋄  g._∆X ← _∆_(TX⍵)    ⋄  g.R   ← ×∘TR⍨\n",
    "    g. ∆ ← ×g._∆      ⋄  g. ∆V ← g.∆⍥V       ⋄  g.∆v  ← g.∆∘V          \n",
    "    g.∆X ← ×g._∆X     ⋄  g.∆XV ← g.∆X⍥V      ⋄  g.∆Xv ← g.∆X∘V\n",
    "    g.∆I ← g.s _∆I    ⋄  g.∆IV ← g.∆I⍥V      ⋄  g.∆Iv ← g.∆I∘V\n",
    "    g.∆∆ ← g.∆ _I     ⋄  g.∆∆V ← g.∆∆⍥V      ⋄  g.∆∆v ← g.∆∆∘V\n",
    "    g.LC ← g.∆ _C     ⋄  g. RC ← g.∆⍨_C      ⋄  g. DC ← g.LC⍣2\n",
    "    g. ⍙ ← g.∆ _⍙_ d  ⋄  g. ⍙I ← g.∆I _⍙_ d  ⋄  g. ⍙X ← g.∆X _⍙_ d\n",
    "    g\n",
    "}"
   ]
  },
  {
   "cell_type": "raw",
   "id": "d0cd4618",
   "metadata": {},
   "source": [
    "]dinput\n",
    "G ← {\n",
    "     TS  ← {\n",
    "         PB ← 2⊥≠ ⋄ QS ← ⊃1 ¯1 0,.⍴⍨⊢↑⍨3⌈≢ ⋄ SB ← ¯1*(+\\¯1↓⊢)+.×1↓⊣ ⋄ BS ← (↓∘⍉2⊥⍣¯1⍳)2*+/              \n",
    "         (∘.PB,⍥⊂∘.((QS ⍵){(⍺ SB ⍵)×(⌽⍺⍺)×.*⍺∧⍵}))⍨BS ⍵\n",
    "     }\n",
    "     _∆_ ← {p s←⍺(⍵⍵⍨⍨)⍵ ⋄ r←(≢¨⍺ ⍵)⌊⍴p ⋄ Z(r↑p)V(r↑s)×_Z¨r↑⍺∘.(⍺⍺ _Z)⍥,⍵}               \n",
    "     _I  ← {i←Z∘C⊂⍤¯1⍉⍤¯1⍉((1↑⍨≢)⌹⍤2(↑[¯0.5]⍣2⊂⍺⍺¨BV∘≢))(2*D ⍵)X ⍵ ⋄ 0=⎕NC'⍺':i ⋄ ⍺ ⍺⍺ i}\n",
    "    _∆X_ ← {⍺(⍺⍺ _∆_(TX ⍵⍵))⍵} ⋄ _∆I ← {+/⍺(⍺⍺×_X×_X)⍵} ⋄ _⍙_  ← {⍵⍵ LC ⍺ ⍺⍺⍥(⍵⍵∘RC)⍵}\n",
    "     _C  ← {⍺←D ⍵ ⋄ (⍺⍺×_V⌽)⍵ X⍨2*⍺}                                                     \n",
    " \n",
    "    g ← ⎕NS⍬ ⋄ g.s g.t g.b ← ⍵ (TS⍵) (BV 2*+/⍵)\n",
    "    g._Z ← {⍺←⊢ ⋄ 0∊⍺ ⍵:0 ⋄ ⍺(⍺⍺)⍵}                      \n",
    "    g. V ← {⍺←2*⍳≢⍵ ⋄ v←0⍴⍨1+⌈/,⍺ ⋄ v[⍺]+←(⍴⍺)↑⍵ ⋄ v}    \n",
    "    g. Z ← {⍺←⎕CT ⋄ ⎕CT←⍺ ⋄ S ⍵↓⍨-⊥⍨(1∧.=1+∊)¨⍵}         \n",
    "    g. S ← {⍬≡⍵:0 ⋄ (1<≢⍵)∨(0<≡⍵)∧1<≢⊃⍵:⍵ ⋄ ⊃⍵}          \n",
    "    g. D ← ⌈2⍟⌈⍥≢                                        \n",
    "    g.BV ← {⍬≡⍵:0 ⋄ (1<≢⍵)∨(0<≡⍵)∧1<≢⊃⍵:⍵ ⋄ ⊃⍵}¨1↑⍨¨∘-1+⍳\n",
    "    g. C ← {⍺←⎕CT ⋄ ⎕CT←⍺ ⋄ 1=≢∪⍵:⊃⍵ ⋄ ⍺∧.>|∊⍵:0 ⋄ ⍵}¨   \n",
    "    g. X ← {⍺←≢b ⋄ ⍺↑⍵,0⍴⍨0⌈⍺-≢⍵}\n",
    "    \n",
    "    g._∆ ← _∆_ g.t        ⋄ g._∆X ← _∆X_ g.s\n",
    "    g. ∆ ← ×g._∆          ⋄ g. ∆V ← g.∆⍥V           ⋄ g.∆v  ← g.∆∘V          \n",
    "    g.∆∆ ← g.∆ _I         ⋄ g.∆∆V ← g.∆∆⍥V          ⋄ g.∆∆v ← g.∆∆∘V\n",
    "    g.∆X ← ×g._∆X         ⋄ g.∆XV ← g.∆X⍥V          ⋄ g.∆Xv ← g.∆X∘V\n",
    "    g.∆I ← g.s _∆I        ⋄ g.∆IV ← g.∆I⍥V          ⋄ g.∆Iv ← g.∆I∘V\n",
    "    g.LC ← g.∆ _C         ⋄ g. RC ← g.∆⍨_C          ⋄ g. DC ← g.LC⍣2\n",
    "    g. ⍙ ← g.∆ _⍙_(+/g.s) ⋄ g. ⍙I ← g.∆I _⍙_(+/g.s) ⋄ g. ⍙X ← g.∆X _⍙_(+/g.s)\n",
    "    g\n",
    "}"
   ]
  },
  {
   "cell_type": "code",
   "execution_count": 87,
   "id": "8604c929",
   "metadata": {},
   "outputs": [],
   "source": [
    "Assert a b ((GA 3    ).∆ _GA_ 3    ) u v w\n",
    "Assert a b ((GA 0 2  ).∆ _GA_ 0 2  ) u v w\n",
    "Assert a b ((GA 3 0 1).∆ _GA_ 3 0 1) u v w"
   ]
  },
  {
   "cell_type": "code",
   "execution_count": null,
   "id": "94e230ca",
   "metadata": {},
   "outputs": [],
   "source": []
  },
  {
   "cell_type": "code",
   "execution_count": null,
   "id": "70eadf1d",
   "metadata": {},
   "outputs": [],
   "source": []
  },
  {
   "cell_type": "code",
   "execution_count": null,
   "id": "3c6f57d1",
   "metadata": {},
   "outputs": [],
   "source": []
  },
  {
   "cell_type": "code",
   "execution_count": null,
   "id": "1cfb4a8d",
   "metadata": {},
   "outputs": [],
   "source": []
  },
  {
   "cell_type": "code",
   "execution_count": null,
   "id": "9771f2ba",
   "metadata": {},
   "outputs": [],
   "source": []
  },
  {
   "cell_type": "raw",
   "id": "96ab229a",
   "metadata": {},
   "source": [
    "# Geometric algebras\n",
    "\n",
    "**CHECK: MULTIPLE VALUES**\n",
    "\n",
    "The moment we allow to define non-proper vectors, a versor will not be auto-defined anymore. We will need to specify the *signature* of the space. The signature consists of three numbers: each one corresponds to the number of perpendicular vectors which square to, `1`, `¯1` and `0`, respectively. We need a different `T`able function, which instead of taking the number of dimensions as its arguments, takes a signature with up to 3 numbers:"
   ]
  },
  {
   "cell_type": "raw",
   "id": "8320b7e9",
   "metadata": {},
   "source": [
    " Q ← ⌽∘⊃1 ¯1 0,.⍴⍨3∘↑             ⍝ sQuared vectors, from higher to lower dimensions\n",
    "_S ← {⍺⍺×.*⍺∧⍵}                   ⍝ Sign that multiplies product. ⍺⍺: squared vectors\n",
    " T ← {∘.((-1+I)↑(Q⍵)_S×S)⍥B⍨+/⍵}  ⍝ unary versors multiplication Table. ⍺⍺: signature\n",
    "T¨2 (0 2) (1 0 1)  ⍝ eg: 2D algebras"
   ]
  },
  {
   "cell_type": "raw",
   "id": "1a138a67",
   "metadata": {},
   "source": [
    "⍝ SUMMARY\n",
    "⎕IO ← 0\n",
    "⍝ vectors and versors\n",
    " V ← +⌿∘↑(-1+2*⍳∘≢)↑¨⊢           ⍝ Vector as versor\n",
    " X ← 1↓(1+⊣)↑0,⊢                 ⍝ eXtend up to length ⍺\n",
    " C ← {⊃⍣(1≥≢⍵)⊢⍵}(-⍤⊥⍨0∧.≡¨⊢)↓⊢  ⍝ Compress removing trailing zeros\n",
    "_  ← {C ⍺ ⍺⍺⍥((⍺⌈⍥≢⍵)∘X) ⍵}      ⍝ vector extension\n",
    "_V ← {⍺ ⍺⍺_⍥V ⍵}                 ⍝ vector extension over vectors\n",
    "_v ← {⍺ ⍺⍺_∘V ⍵}                 ⍝ vector extension of vector\n",
    " M ← 0.5*⍨+.×⍨                   ⍝ Magnitude of vector\n",
    " U ← ÷∘M⍨                        ⍝ Unitary vector\n",
    " I ← ÷∘(+.×⍨)⍨                   ⍝ Inverse Vector\n",
    "⍝ multiplication table\n",
    " P ← -1+2⊥≠                      ⍝ Position of product in versor, ⍺ and ⍵ binary unitary versors\n",
    " S ← ¯1*(+\\¯1↓⊢)+.×1↓⊣           ⍝ Sign of product table, ⍺ and ⍵ binary unitary versors\n",
    " B ← ↓∘⍉2(⊥⍣¯1)2⍳⍤*+/            ⍝ unary versors in Binary, for signature ⍵\n",
    " Q ← ⌽∘⊃1 ¯1 0,.⍴⍨3∘↑            ⍝ sQuared vectors, from higher to lower dimensions, for signature ⍵\n",
    "_S ← {⍺⍺×.*⍺∧⍵}                  ⍝ Sign (from squares). ⍺⍺ squared vectors, ⍺ and ⍵ binary unitary versors \n",
    " T ← {∘.(P↑(Q⍵)_S×S)⍥B⍨⍵}        ⍝ unary versors multiplication Table, for signature ⍵\n",
    "⍝ geometric product\n",
    "_∆ ← {⍺(+⌿∘↑∘,⍺⍺×(⍴⍺⍺)↑∘.×)_⍵}   ⍝ geometric product operator, ⍺⍺ is the multiplication table"
   ]
  },
  {
   "cell_type": "raw",
   "id": "e4c146cc",
   "metadata": {},
   "source": [
    "]dinput\n",
    "G ← {\n",
    "    n ← 2*+/⍵                    ⍝ length of versors\n",
    "    j ← (¯1*2÷⍨⊢×-∘1)+/¨B⍵       ⍝ reverse multipliers\n",
    "    g ← ⎕NS⍬                     ⍝ geometric algebra namespace\n",
    "    g.s ← ⍵                      ⍝ signature\n",
    "    g.p ← (-n)↑1                 ⍝ pseudoscalar\n",
    "    g.t ← T⍵                     ⍝ multiplication table\n",
    "    g.C ← C ⋄ g.X ← n∘X          ⍝ Compress and eXtend\n",
    "    g._ ← {⍺←⊢ ⋄ C ⍺ ⍺⍺⍥X ⍵}     ⍝ vector extension\n",
    "    g.J ← j∘×g._                 ⍝ reverse (conJugate)\n",
    "    g.L ← ⌽⍤g.J                  ⍝ Left complement\n",
    "    g.R ← g.J∘⌽∘g.X              ⍝ Right complement\n",
    "    g.D ← g.L∘g.L                ⍝ Double complement\n",
    "    g.∆ ← g.t _∆                 ⍝ geometric product\n",
    "    g.⍙ ← g.R⍤g.∆⍥g.L            ⍝ geometric antiproduct\n",
    "    g.∆V ← g.∆⍥V ⋄ g.∆v ← g.∆∘V  ⍝ product of vectors or versor and vector\n",
    "    g\n",
    "}"
   ]
  },
  {
   "cell_type": "raw",
   "id": "a93b3a49",
   "metadata": {
    "scrolled": true
   },
   "source": [
    "g3 ← G 3\n",
    "3 4 5 g3.∆ 6 0 7 8 9\n",
    "(1 2) (3 4) ∘.{0∨.≡⍺⍵:0 ⋄ ⍺×⍵}¨ 0 (5 6)\n",
    "0 (1 2) (3 4) 0 ∘.{0∨.≡⍺⍵:0 ⋄ ⍺×⍵} 0 0 0 (5 6)\n",
    "0 (1 2) (3 4) (∘.{0∨.≡⍺⍵:0⋄⍺×⍵}¨⍥g3.X) 0 0 0 (5 6)\n",
    "(1 2) (3 4) g3.∆ 0 0 (5 6)"
   ]
  },
  {
   "cell_type": "raw",
   "id": "8881e1f9",
   "metadata": {},
   "source": [
    "At continutation, the function `G` will be used to define different kinds of algebras."
   ]
  },
  {
   "cell_type": "raw",
   "id": "bb3fce68",
   "metadata": {},
   "source": [
    "Like reverses, [complements](http://rigidgeometricalgebra.org/wiki/index.php?title=Complements) are linear operations. The left complement of a unitary blade is the unitary blade that multiplied by the left will result in the pseudoscalar (the last blade corresponding to the product  of all vectors). Its right complement is the unitary blade that multiplied by the right will result in the pseudoscalar. And the double complement can be calculated either as the result of applying twice the left complement or as the result of applying twice the right complement."
   ]
  },
  {
   "cell_type": "raw",
   "id": "40849bf0",
   "metadata": {},
   "source": [
    "⍝j∘×       1+⍳16  ⍝ reverse\n",
    "⍝⌽⍤(j∘×)   1+⍳16  ⍝ left complement\n",
    "⍝(j∘×)∘⌽   1+⍳16  ⍝ right complement\n",
    "⍝⌽⍤(j∘×)⍣2⊢1+⍳16  ⍝ double complement\n",
    "⍝(j∘×)∘⌽⍣2⊢1+⍳16  ⍝ double complement\n",
    "\n",
    "RV ← j∘(×_X)  ⋄  ⍝RV 1+⍳16  ⍝ reverse\n",
    "LC ← ⌽⍤RV     ⋄  ⍝LC 1+⍳16  ⍝ left complement\n",
    "RC ← RV∘⌽     ⋄  ⍝RC 1+⍳16  ⍝ right complement\n",
    "DC ← LC⍣2     ⋄  ⍝DC 1+⍳16  ⍝ double complement\n",
    "DC ← RC⍣2     ⋄  ⍝DC 1+⍳16  ⍝ double complement\n",
    "\n",
    "b4 ← 1↑⍨¨-1+⍳16\n",
    "Assert 1 ≡¨ ∆∘RV⍨¨ b4\n",
    "(LC ∆ ⊢)¨ b4\n",
    "⍝∆∘RC⍨¨ b4\n",
    "⍝∆∘DC⍨¨ b4\n",
    "\n",
    "b3\n",
    "RC¨b3"
   ]
  },
  {
   "cell_type": "raw",
   "id": "d1a3f011",
   "metadata": {},
   "source": [
    "## 0D/1D/2D/3D/nD vectors"
   ]
  },
  {
   "cell_type": "raw",
   "id": "0c885f1d",
   "metadata": {},
   "source": [
    "g0 g1 g2 ← G¨ 0 1 2\n",
    "g0.t g1.t g2.t\n",
    "4 g0.∆ 5                        ⍝ g0 is the algebra of real numbers\n",
    "1 1 g1.∆ 0 1                    ⍝ g1 is the geometric algebra of 1D vectors (hyperbolic numbers)\n",
    "(⊂0 0 0 1) g2.∆¨ (0 1) (0 0 1)  ⍝ g2 is the geometric algebra of 2D vectors (scalars, vectors and bivector)"
   ]
  },
  {
   "cell_type": "raw",
   "id": "89164133",
   "metadata": {},
   "source": [
    "Notice that the 2D bivector `0 0 0 1` performs rotations of 90 degrees when multiplied by a vector. Similarly, the bivectors in a 3D algebra perform 90 degrees rotations around different axes:"
   ]
  },
  {
   "cell_type": "raw",
   "id": "53446813",
   "metadata": {},
   "source": [
    "g3 ← G 3\n",
    "(⊂0 0 0 1)       g3.∆¨ (0 1) (0 0 1) (0 1 1)           ⍝ bivector yx: rotate around z\n",
    "(⊂0 0 0 0 0 1)   g3.∆¨ (0 1) (0 0 0 0 1) (0 1 0 0 1)   ⍝ bivector zx: rotate around -y\n",
    "(⊂0 0 0 0 0 0 1) g3.∆¨ (0 0 1) (0 0 0 0 1) (0 0 1 0 1) ⍝ bivector zy: rotate around x"
   ]
  },
  {
   "cell_type": "raw",
   "id": "c0a5f850",
   "metadata": {},
   "source": [
    "We are not limited to 3 dimensions:"
   ]
  },
  {
   "cell_type": "raw",
   "id": "02c144ab",
   "metadata": {},
   "source": [
    "(G 3 1 1).p"
   ]
  },
  {
   "cell_type": "raw",
   "id": "03cb19ac",
   "metadata": {},
   "source": [
    "## Complex numbers"
   ]
  },
  {
   "cell_type": "raw",
   "id": "eece3da9",
   "metadata": {},
   "source": [
    "## Quaternions\n",
    "\n",
    "Quaternions are like 3D complex numbers:"
   ]
  },
  {
   "cell_type": "raw",
   "id": "6be4b130",
   "metadata": {},
   "source": [
    "q ← G 0 2 ⋄ C¨q.t"
   ]
  },
  {
   "cell_type": "raw",
   "id": "43822e5f",
   "metadata": {},
   "source": [
    "Quaternions can be used to perform rotations in 3D:"
   ]
  },
  {
   "cell_type": "raw",
   "id": "acf75dbf",
   "metadata": {},
   "source": [
    "Rx ← {(1 ¯1 0 0×2 1 11 11○(○÷180)∘×⍺)q.∆⍵}\n",
    "Ry ← {(1 0 ¯1 0×2 11 1 11○(○÷180)∘×⍺)q.∆⍵}\n",
    "Rz ← {(1 0 0 ¯1×2 11 11 1○(○÷180)∘×⍺)q.∆⍵}\n",
    "30 Rz¨ (0 1) (0 0 1) (0 1 1)\n",
    "30 Ry¨ (0 1) (0 0 0 1) (0 1 0 1)\n",
    "30 Rx¨ (0 0 1) (0 0 0 1) (0 0 1 1)\n",
    "Rzxz ← {p1 p p2←⍺ ⋄ p1 Rz p Rx p2 Rz ⍵}\n",
    "30 60 30 Rzxz 1  ⍝ quaternion corresponding to Euler angles 30 60 30"
   ]
  },
  {
   "cell_type": "raw",
   "id": "160c8d56",
   "metadata": {},
   "source": [
    "## Projective Geometric Algebra\n",
    "\n",
    "See the [Projective Geometric Algebra website](https://projectivegeometricalgebra.org/)."
   ]
  },
  {
   "cell_type": "raw",
   "id": "5cbe81ab",
   "metadata": {},
   "source": [
    "pga ← G 3 0 1\n",
    "⍝ base\n",
    "⊢e0 ← 1\n",
    "⊢e1 e2 e3 e4 ← V¨1 (0 1) (0 0 1) (0 0 0 1)\n",
    "⊢e23 e31 e12 ← e2 e3 e1 pga.∆¨ e3 e1 e2\n",
    "⊢e43 e42 e41 ← (⊂e4) pga.∆¨ e3 e2 e1\n",
    "⊢e423 e431 e412 ← (⊂e4) pga.∆¨ e23 e31 e12\n",
    "⊢e321 ← e3 pga.∆ e2 pga.∆ e1\n",
    "⊢e4321 ← e4 pga.∆ e321\n",
    "⍝ see reverse at:     http://rigidgeometricalgebra.org/wiki/index.php?title=Reverses\n",
    "⍝ and complements at: http://rigidgeometricalgebra.org/wiki/index.php?title=Complements\n",
    "pga.(⍉J,R,L,∘⍪D) 0.1 1 2 21 3 31 32 321 4 41 42 421 43 431 432 4321"
   ]
  },
  {
   "cell_type": "raw",
   "id": "9c4f2b2e",
   "metadata": {},
   "source": []
  }
 ],
 "metadata": {
  "kernelspec": {
   "display_name": "Dyalog APL",
   "language": "apl",
   "name": "dyalog-kernel"
  },
  "language_info": {
   "file_extension": ".apl",
   "mimetype": "text/apl",
   "name": "APL"
  }
 },
 "nbformat": 4,
 "nbformat_minor": 5
}
